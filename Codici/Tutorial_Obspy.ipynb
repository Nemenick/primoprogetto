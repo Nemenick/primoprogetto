{
 "cells": [
  {
   "cell_type": "code",
   "execution_count": null,
   "metadata": {},
   "outputs": [],
   "source": [
    "if 'cosa' in locals() or 'cosa' in globals():\n",
    "    print(\"Variable is defined\")\n",
    "else:\n",
    "    print(\"Variable is not defined\")\n",
    "    cosa = 0\n",
    "\n",
    "print(\"Cosa\")\n",
    "attributes = [attribute for attribute in dir(cosa[0]) if not callable(getattr(cosa[0], attribute))]             # attribute è una stringa\n",
    "for attribute in attributes:\n",
    "    print(f\"{attribute } \\t {type(getattr(cosa[0], attribute))} \\t {getattr(cosa[0], attribute)}\")\n",
    "\n",
    "print(\"\\n\\n\\n stats\")\n",
    "attributes = [attribute for attribute in dir(cosa[0].stats) if not callable(getattr(cosa[0].stats, attribute))]\n",
    "for attribute in attributes:\n",
    "    print(f\"{attribute } \\t {type(getattr(cosa[0].stats, attribute))} \\t {getattr(cosa[0].stats, attribute)}\")\n",
    "\n",
    "print(\"\\nstats keys\",cosa[0].stats.keys())\n",
    "\n",
    "print(\"\\n\\n\\n mseed\")\n",
    "attributes = [attribute for attribute in dir(cosa[0].stats.mseed) if not callable(getattr(cosa[0].stats.mseed, attribute))]\n",
    "for attribute in attributes:\n",
    "    print(f\"{attribute } \\t {type(getattr(cosa[0].stats.mseed, attribute))} \\t {getattr(cosa[0].stats.mseed, attribute)}\")"
   ]
  },
  {
   "cell_type": "code",
   "execution_count": 3,
   "metadata": {},
   "outputs": [],
   "source": [
    "import obspy \n",
    "import numpy as np"
   ]
  },
  {
   "cell_type": "code",
   "execution_count": null,
   "metadata": {},
   "outputs": [],
   "source": [
    "path = '/home/silvia/Desktop/PhaseNet_Prova_1/PhaseNet/test_data/sac/unito.mseed'\n",
    "cosa = obspy.read(path, format=\"MSEED\")\n",
    "#print(\"\\nkeys\",cosa[0],\"\\n\", cosa[0].stats.keys)\n",
    "\n",
    "a = obspy.Stream()\n",
    "a.append(obspy.Trace())\n",
    "for i in a[0].stats.keys():\n",
    "    if i == \"endtime\" or \"mseed\":\n",
    "        print(i)\n",
    "        continue\n",
    "    print(i)\n",
    "    a[0].stats[i] = cosa[0].stats[i]\n",
    "print(\"\\n\")\n",
    "#print(a[0].stats)\n",
    "a[0].data =np.array([i for i in range(200)])\n",
    "a.write(\"ciao.mseed\")\n",
    "b = obspy.read(\"ciao.mseed\")\n",
    "\n"
   ]
  }
 ],
 "metadata": {
  "kernelspec": {
   "display_name": "venv",
   "language": "python",
   "name": "python3"
  },
  "language_info": {
   "codemirror_mode": {
    "name": "ipython",
    "version": 3
   },
   "file_extension": ".py",
   "mimetype": "text/x-python",
   "name": "python",
   "nbconvert_exporter": "python",
   "pygments_lexer": "ipython3",
   "version": "3.8.10"
  },
  "orig_nbformat": 4
 },
 "nbformat": 4,
 "nbformat_minor": 2
}
