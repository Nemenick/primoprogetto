{
 "cells": [
  {
   "cell_type": "markdown",
   "metadata": {},
   "source": [
    "# Load Data - Select picked Z\n",
    "pick_Z_Tr1 = 7940\n",
    "pick_Z_Tr2 = 11388\n",
    "pick_notZ_ = 0?"
   ]
  },
  {
   "cell_type": "code",
   "execution_count": 18,
   "metadata": {},
   "outputs": [],
   "source": [
    "from obspy import read\n",
    "import os\n",
    "# data_st.write(file, format=\"SAC\")\n",
    "\n",
    "Tr1_pd = \"/home/silvia/Desktop/Data/DETECT/Tr_1_picked_Z\"\n",
    "Tr2_pd = \"/home/silvia/Desktop/Data/DETECT/Tr_2_picked_Z\"\n",
    "\n",
    "Tr1 = \"/home/silvia/Desktop/Data/DETECT/transfer_14589_files_1470713b/Traces_1\"\n",
    "Tr2 = \"/home/silvia/Desktop/Data/DETECT/transfer_14589_files_1470713b/Traces_2\"\n",
    "\n",
    "Tr2_f = os.listdir(Tr2)\n",
    "Tr2_f.sort()\n",
    "pick_tot = 0\n",
    "# pick_Z = 0\n",
    "for it0 in Tr2_f: # it0 tipical = \"211205015137\"\n",
    "    for it1 in os.scandir(f\"{Tr2}/{it0}\"):         # it1 typical = /home/silvia/Desktop/Data/DETECT/transfer_14589_files_1470713b/Traces_2/211214033749/S0101.CHZ.sac\n",
    "        if it1.path[-5] == \"Z\":\n",
    "            b = read(it1.path)\n",
    "            if \"a\" in b[0].stats.sac:\n",
    "                # b.write(f\"{Tr1_pd}/{it1.path.split('/')[-2]}.{it1.path.split('/')[-1]}\",format=\"SAC\")\n",
    "                pick_tot += 1\n",
    "            #print(it1.path)\n"
   ]
  },
  {
   "cell_type": "markdown",
   "metadata": {},
   "source": [
    "# Create custom Dataset"
   ]
  },
  {
   "cell_type": "code",
   "execution_count": 39,
   "metadata": {},
   "outputs": [],
   "source": [
    "from obspy import read\n",
    "import os\n",
    "import pandas as pd\n",
    "import numpy as np\n",
    "meta = pd.read_csv(\"/home/silvia/Desktop/Data/DETECT/transfer_14589_files_1470713b/catalog_with_ID_abs_locations.txt\")\n",
    "\n",
    "Xcorso = \"/home/silvia/Desktop/Data/DETECT/Tr_2_picked_Z\"\n",
    "Tr_l = os.listdir(Xcorso)\n",
    "Tr_l.sort()\n",
    "trace_name = []\n",
    "source_latitude_deg = []\n",
    "source_longitude_deg = []\n",
    "source_depth = []\n",
    "source_origin_time = []\n",
    "station_code = []\n",
    "station_channels = []\n",
    "trace_start_time = []\n",
    "trace_P_arrival_sample = []\n",
    "source_magnitude = []\n",
    "source_magnitude_type = []\n",
    "sampling_rate = []\n",
    "\n",
    "x2 = np.zeros((len(Tr_l),400))\n",
    "for i,name in enumerate(Tr_l):\n",
    "    b = read(f\"{Xcorso}/{name}\")\n",
    "    meta_tr = meta[meta[\"ID\"] == int(name.split(\".\")[0])]\n",
    "\n",
    "    trace_name.append(name[:-4])\n",
    "\n",
    "    source_latitude_deg.append(meta_tr[\"LAT\"].iloc[0])\n",
    "    source_longitude_deg.append(meta_tr[\"LON\"].iloc[0])\n",
    "    source_depth.append(meta_tr[\"DEP\"].iloc[0])\n",
    "    source_origin_time.append(meta_tr[\"TIME\"].iloc[0])\n",
    "\n",
    "    station_code.append(b[0].stats.station)\n",
    "    station_channels.append(b[0].stats.channel)\n",
    "    trace_start_time.append(b[0].stats.starttime)\n",
    "    trace_P_arrival_sample.append(int(b[0].stats.sac.a * b[0].stats.sampling_rate))\n",
    "\n",
    "    source_magnitude.append(meta_tr[\"ML\"].iloc[0])\n",
    "    \n",
    "    source_magnitude_type.append(\"ML\")\n",
    "    sampling_rate.append(b[0].stats.sampling_rate)\n",
    "    x2[i] = b[0].data[trace_P_arrival_sample[-1]-200: trace_P_arrival_sample[-1]+200]\n",
    "\n",
    "\n",
    "dizio2 = {\"trace_name\":trace_name,\"source_latitude_deg\": source_latitude_deg, \"source_longitude_deg\":source_longitude_deg, \"source_depth\":source_depth,\n",
    "          \"source_origin_time\":source_origin_time,\"station_code\":station_code, \"station_channels\": station_channels, \"trace_start_time\": trace_start_time,\n",
    "          \"trace_P_arrival_sample\":trace_P_arrival_sample, \"source_magnitude\":source_magnitude,\"source_magnitude_type\":source_magnitude_type,\"sampling_rate\":sampling_rate}\n",
    "dizio2[\"centrato\"] = [True for i in range(len(x2))]\n",
    "dizio2[\"demeaned\"] = [False for i in range(len(x2))]\n",
    "dizio2[\"normalized\"] = [False for i in range(len(x2))]"
   ]
  },
  {
   "cell_type": "code",
   "execution_count": 40,
   "metadata": {},
   "outputs": [],
   "source": [
    "from obspy import read\n",
    "import os\n",
    "import pandas as pd\n",
    "import numpy as np\n",
    "meta = pd.read_csv(\"/home/silvia/Desktop/Data/DETECT/transfer_14589_files_1470713b/catalog_with_ID_abs_locations.txt\")\n",
    "\n",
    "Xcorso = \"/home/silvia/Desktop/Data/DETECT/Tr_1_picked_Z\"\n",
    "Tr_l = os.listdir(Xcorso)\n",
    "Tr_l.sort()\n",
    "trace_name = []\n",
    "source_latitude_deg = []\n",
    "source_longitude_deg = []\n",
    "source_depth = []\n",
    "source_origin_time = []\n",
    "station_code = []\n",
    "station_channels = []\n",
    "trace_start_time = []\n",
    "trace_P_arrival_sample = []\n",
    "source_magnitude = []\n",
    "source_magnitude_type = []\n",
    "sampling_rate = []\n",
    "\n",
    "x1 = np.zeros((len(Tr_l),400))\n",
    "for i,name in enumerate(Tr_l):\n",
    "    b = read(f\"{Xcorso}/{name}\")\n",
    "    meta_tr = meta[meta[\"ID\"] == int(name.split(\".\")[0])]\n",
    "\n",
    "    trace_name.append(name[:-4])\n",
    "\n",
    "    source_latitude_deg.append(meta_tr[\"LAT\"].iloc[0])\n",
    "    source_longitude_deg.append(meta_tr[\"LON\"].iloc[0])\n",
    "    source_depth.append(meta_tr[\"DEP\"].iloc[0])\n",
    "    source_origin_time.append(meta_tr[\"TIME\"].iloc[0])\n",
    "\n",
    "    station_code.append(b[0].stats.station)\n",
    "    station_channels.append(b[0].stats.channel)\n",
    "    trace_start_time.append(b[0].stats.starttime)\n",
    "    trace_P_arrival_sample.append(int(b[0].stats.sac.a * b[0].stats.sampling_rate))\n",
    "\n",
    "    source_magnitude.append(meta_tr[\"ML\"].iloc[0])\n",
    "    \n",
    "    source_magnitude_type.append(\"ML\")\n",
    "    sampling_rate.append(b[0].stats.sampling_rate)\n",
    "    x1[i] = b[0].data[trace_P_arrival_sample[-1]-200: trace_P_arrival_sample[-1]+200]\n",
    "\n",
    "\n",
    "dizio1 = {\"trace_name\":trace_name,\"source_latitude_deg\": source_latitude_deg, \"source_longitude_deg\":source_longitude_deg, \"source_depth\":source_depth,\n",
    "          \"source_origin_time\":source_origin_time,\"station_code\":station_code, \"station_channels\": station_channels, \"trace_start_time\": trace_start_time,\n",
    "          \"trace_P_arrival_sample\":trace_P_arrival_sample, \"source_magnitude\":source_magnitude,\"source_magnitude_type\":source_magnitude_type,\"sampling_rate\":sampling_rate}\n",
    "dizio1[\"centrato\"] = [True for i in range(len(x1))]\n",
    "dizio1[\"demeaned\"] = [False for i in range(len(x1))]\n",
    "dizio1[\"normalized\"] = [False for i in range(len(x1))]"
   ]
  },
  {
   "cell_type": "code",
   "execution_count": 41,
   "metadata": {},
   "outputs": [],
   "source": [
    "dizio_tot = {}\n",
    "for key in dizio1:\n",
    "    dizio_tot[key] = dizio1[key]+dizio2[key]\n",
    "xtot = np.concatenate((x1, x2), axis = 0) "
   ]
  },
  {
   "cell_type": "code",
   "execution_count": 42,
   "metadata": {},
   "outputs": [
    {
     "name": "stdout",
     "output_type": "stream",
     "text": [
      "sto creando hdf5\n",
      "ho creato hdf5\n",
      "\n",
      "\n",
      " PANDAS HA AGITO 0.4400973718147725\n"
     ]
    }
   ],
   "source": [
    "from Classe_sismogramma_v3 import ClasseDataset\n",
    "D = ClasseDataset()\n",
    "D.sismogramma = xtot\n",
    "D.metadata = dizio_tot\n",
    "hd = \"/home/silvia/Desktop/Data/DETECT/data_Tr1+Tr2_picked2.hdf5\"\n",
    "cs = \"/home/silvia/Desktop/Data/DETECT/metadata_Tr1+Tr2_picked2.csv\"\n",
    "D.centrato = True\n",
    "\"D.crea_custom_dataset(hd,cs)\""
   ]
  },
  {
   "cell_type": "code",
   "execution_count": 2,
   "metadata": {},
   "outputs": [],
   "source": [
    "from Classe_sismogramma_v3 import ClasseDataset\n",
    "D = ClasseDataset()\n",
    "\n",
    "hd = \"/home/silvia/Desktop/Data/DETECT/data_Tr1+Tr2_picked.hdf5\"\n",
    "cs = \"/home/silvia/Desktop/Data/DETECT/metadata_Tr1+Tr2_picked.csv\"\n",
    "\n",
    "D.leggi_custom_dataset(hd,cs)"
   ]
  },
  {
   "cell_type": "markdown",
   "metadata": {},
   "source": [
    "# Ricava eventi picked - Plot delle stesse"
   ]
  },
  {
   "cell_type": "code",
   "execution_count": 1,
   "metadata": {},
   "outputs": [],
   "source": [
    "# Ricavo eventi picked\n",
    "import matplotlib.pyplot as plt\n",
    "from Classe_sismogramma_v3 import ClasseDataset\n",
    "import pandas as pd\n",
    "\n",
    "D = ClasseDataset()\n",
    "hd = \"/home/silvia/Desktop/Data/DETECT/data_Tr1+Tr2_picked.hdf5\"\n",
    "cs = \"/home/silvia/Desktop/Data/DETECT/metadata_Tr1+Tr2_picked.csv\"\n",
    "D.leggi_custom_dataset(hd,cs)\n",
    "\n",
    "a = pd.DataFrame.from_dict(D.metadata)\n",
    "\n",
    "list_source = []\n",
    "list_lat = []\n",
    "list_lon = []\n",
    "list_dep = []\n",
    "list_mag = []\n",
    "list_num_P_picked = []\n",
    "\n",
    "for i in a.source_id:\n",
    "    if not(i in list_source):\n",
    "        list_source.append(i)\n",
    "\n",
    "for k in list_source: \n",
    "    aa = a[a[\"source_id\"]==k]\n",
    "    list_lat.append(aa[\"source_latitude_deg\"].iloc[0])    \n",
    "    list_lon.append(aa[\"source_longitude_deg\"].iloc[0])    \n",
    "    list_dep.append(aa[\"source_depth\"].iloc[0])\n",
    "    list_mag.append(aa[\"source_magnitude\"].iloc[0])\n",
    "    list_num_P_picked.append(len(aa))\n",
    "\n",
    "map_events_picked = pd.DataFrame.from_dict({\"source_id\": list_source,\"source_latitude_deg\":list_lat, \"source_longitude_deg\": list_lon, \"source_depth\": list_dep, \n",
    "                                     \"source_magnitude\":list_mag, \"number_P_picks\": list_num_P_picked})\n",
    "#map_events_picked.to_csv(\"/home/silvia/Desktop/Data/DETECT/Map_events_Picks.csv\", index=False)\n"
   ]
  },
  {
   "cell_type": "code",
   "execution_count": 1,
   "metadata": {},
   "outputs": [],
   "source": [
    "# plot picked in base a magnitudo e num. pick\n",
    "import pandas as pd\n",
    "import plotly.graph_objects as go\n",
    "from matplotlib.colors import LinearSegmentedColormap\n",
    "import math\n",
    "\n",
    "map_events_picked = pd.read_csv(\"/home/silvia/Desktop/Data/DETECT/Map_events_Picks.csv\")\n",
    "colorscale_custom = [\n",
    "    [0.0, 'red'],           # a 0 rossi\n",
    "    [0.042, 'red'],         # tra 1 e 6 rossi\n",
    "    [0.069, 'blue'],        # Valori tra 7 e 10 saranno rosso-blu\n",
    "    [0.14, 'green'],        # Valori tra 10 e 20 saranno blu-verdi\n",
    "    [1.0, 'green'],         # Valori superiori a 20 saranno verdi\n",
    "]\n",
    "\n",
    "sizes = []\n",
    "for i in map_events_picked[\"source_magnitude\"]:\n",
    "    if not math.isnan(i):\n",
    "        sizes.append(i*2.0+4.5)\n",
    "    else:\n",
    "        sizes.append(1.5)\n",
    "\n",
    "df = map_events_picked[[\"source_latitude_deg\",\"source_longitude_deg\", \"source_depth\"]]\n",
    "\n",
    "\n",
    "# Create an interactive 3D scatter plot\n",
    "fig = go.Figure()\n",
    "\n",
    "fig.add_trace(go.Scatter3d(\n",
    "    x=df['source_latitude_deg'],\n",
    "    y=df['source_longitude_deg'],\n",
    "    z=df['source_depth'],\n",
    "    mode='markers',\n",
    "    marker=dict(\n",
    "        size=sizes,\n",
    "        opacity=0.7,\n",
    "        color=map_events_picked[\"number_P_picks\"],\n",
    "        colorscale=colorscale_custom,  # Usa la colormap personalizzata\n",
    "        colorbar=dict(title='Color Scale', tickvals=[7, 10, 20], ticktext=['7<: Red','10 Blue', '>20: green']),  # Aggiungi la colorbar personalizzata\n",
    "    ),\n",
    "    name='Picked'\n",
    "))\n",
    "\n",
    "fig.update_layout(\n",
    "    scene=dict(\n",
    "        xaxis_title='Latitude',\n",
    "        yaxis_title='Longitude',\n",
    "        zaxis_title='Depth'\n",
    "    ),\n",
    "    title='Mappa eventi in base a numero di tracce con pick'\n",
    ")\n",
    "\n",
    "# Save the plot to an HTML file\n",
    "fig.write_html(\"/home/silvia/Desktop/Plot_qualcosa.html\")"
   ]
  },
  {
   "cell_type": "code",
   "execution_count": 3,
   "metadata": {},
   "outputs": [
    {
     "data": {
      "text/plain": [
       "<AxesSubplot:>"
      ]
     },
     "execution_count": 3,
     "metadata": {},
     "output_type": "execute_result"
    },
    {
     "data": {
      "image/png": "[encoded data removed]",
      "text/plain": [
       "<Figure size 640x480 with 1 Axes>"
      ]
     },
     "metadata": {},
     "output_type": "display_data"
    }
   ],
   "source": [
    "map_events_picked[\"number_P_picks\"].hist(bins=146)"
   ]
  },
  {
   "cell_type": "markdown",
   "metadata": {},
   "source": [
    "# Verify events in catalogue are in T1 or T2 folders"
   ]
  },
  {
   "cell_type": "code",
   "execution_count": 1,
   "metadata": {},
   "outputs": [
    {
     "data": {
      "text/plain": [
       "19330.0"
      ]
     },
     "execution_count": 1,
     "metadata": {},
     "output_type": "execute_result"
    }
   ],
   "source": [
    "# Ho trovato 19.328 pick dalle tracce e 22.000 dal catalogo. catalogo ha più eventi, se considero quelli\n",
    "# comuni ho 19.330 pick (ok)\n",
    "import os\n",
    "import pandas as pd\n",
    "meta = pd.read_csv(\"/home/silvia/Desktop/Data/DETECT/transfer_14589_files_1470713b/catalog_with_ID_abs_locations.txt\")\n",
    "Tr1 = \"/home/silvia/Desktop/Data/DETECT/transfer_14589_files_1470713b/Traces_1\"\n",
    "Tr2 = \"/home/silvia/Desktop/Data/DETECT/transfer_14589_files_1470713b/Traces_2\"\n",
    "Tr1_f = os.listdir(Tr1)\n",
    "Tr2_f = os.listdir(Tr2)\n",
    "len(Tr1_f)+ len(Tr2_f)\n",
    "\n",
    "ID_list = list(meta[\"ID\"])\n",
    "T_tot = Tr1_f + Tr2_f\n",
    "\n",
    "for ti in T_tot:\n",
    "    if int(ti) in ID_list:\n",
    "        4                       # verifico se perogni evento in tracce sac, è anche in catalogo. Si\n",
    "    else:\n",
    "        print(\"No OK\")\n",
    "\n",
    "pat = \"/home/silvia/Desktop/Data/DETECT/transfer_14589_files_1470713b/picks/P_pick_merged.txt\"\n",
    "picks = pd.read_csv(pat)\n",
    "# Seleziono eventi catalogo che sono anche in tracce sac (indici di pd.dataframe picks)\n",
    "cat_sac_indx = [ False for i in range(len(meta[\"ID\"]))]\n",
    "for name in T_tot:\n",
    "    ix = meta[meta[\"ID\"] == int(name)].index\n",
    "    cat_sac_indx[ix[0]] = True\n",
    "\n",
    "# Seleziono tutti e soli i pick del catalogo che sono anche in Tracce sac\n",
    "picks_common = picks[cat_sac_indx]\n",
    "\n",
    "\n",
    "picks_common = (picks_common != \"NaT\")\n",
    "picks_common = picks_common + 0.0\n",
    "picks_common.sum().sum()"
   ]
  }
 ],
 "metadata": {
  "kernelspec": {
   "display_name": "venv",
   "language": "python",
   "name": "python3"
  },
  "language_info": {
   "codemirror_mode": {
    "name": "ipython",
    "version": 3
   },
   "file_extension": ".py",
   "mimetype": "text/x-python",
   "name": "python",
   "nbconvert_exporter": "python",
   "pygments_lexer": "ipython3",
   "version": "3.8.10"
  }
 },
 "nbformat": 4,
 "nbformat_minor": 2
}
