{
 "cells": [
  {
   "cell_type": "markdown",
   "metadata": {},
   "source": [
    "## PREDICI"
   ]
  },
  {
   "cell_type": "code",
   "execution_count": null,
   "metadata": {},
   "outputs": [],
   "source": [
    "from Classe_sismogramma_v3 import ClasseDataset\n",
    "from tensorflow import keras\n",
    "from keras.layers import  Dropout\n",
    "import numpy as np\n",
    "import pandas as pd\n",
    "import gc\n",
    "\n",
    "class MCDropout(Dropout):\n",
    "    def call(self, inputs):\n",
    "        return super().call(inputs, training=True)\n",
    "\n",
    "def predici(modello, dati, pred, i, batch=2048):\n",
    "    y_predicted = modello.predict(dati, batch_size=batch)\n",
    "    y_predicted = np.reshape(y_predicted,len(y_predicted))\n",
    "    pred[f\"pred_n_{i}\"] = y_predicted"
   ]
  },
  {
   "cell_type": "code",
   "execution_count": null,
   "metadata": {},
   "outputs": [],
   "source": [
    "hdf5_predicting = \"/home/silvia/Desktop/Instance_Data/Undecidable/Instance_undecidable_data_tot_no0_semiamp_80.hdf5\"\n",
    "csv_predicting = \"/home/silvia/Desktop/Instance_Data/Undecidable/Instance_undecidable_metadata_tot_no0.csv\"\n",
    "\n",
    "Data_predicting = ClasseDataset()\n",
    "Data_predicting.leggi_custom_dataset(hdf5_predicting, csv_predicting)\n",
    "sample_train = len(Data_predicting.sismogramma)\n",
    "print(\"Ho Letto dataset\")\n",
    "lung = len(Data_predicting.sismogramma[0])\n",
    "semi_amp = 80"
   ]
  },
  {
   "cell_type": "code",
   "execution_count": null,
   "metadata": {},
   "outputs": [],
   "source": [
    "impostazione = \"8\"          # quale rete prendere (per ora More 1 o More 2 o etc)\n",
    "replica = \"4\"               # scelgo rete More_impostazione / replica\n",
    "quante_predizioni = 7\n",
    "salva_predizioni = True\n",
    "time_shift = 0\n",
    "\n",
    "tent = f\"More_{impostazione}_{replica}\"\n",
    "model_pat = f'/home/silvia/Documents/GitHub/primoprogetto/Codici/Tentativi/More_{impostazione}/{replica}/Tentativo_{tent}.hdf5'\n",
    "nome_predizione = f\"/home/silvia/Documents/GitHub/primoprogetto/Codici/Tentativi/Bag_predictions/MCDrop_Instance_undecidable_{tent}_vers_3.csv\"\n",
    "\n",
    "xtest = Data_predicting.sismogramma\n",
    "\n",
    "print(\"XSHAPEEEEEEEEEEEE\", xtest.shape)\n",
    "model = keras.models.load_model(model_pat)\n",
    "model.summary()\n",
    "\n",
    "model_MCD = keras.models.Sequential([\n",
    "        model.get_layer(index=0),\n",
    "        MCDropout(0.5),\n",
    "        model.get_layer(index=2),\n",
    "        model.get_layer(index=3),\n",
    "        model.get_layer(index=4),\n",
    "        model.get_layer(index=5),\n",
    "        model.get_layer(index=6),\n",
    "        MCDropout(0.5),\n",
    "        model.get_layer(index=8),\n",
    "        model.get_layer(index=9),\n",
    "        model.get_layer(index=10),\n",
    "        model.get_layer(index=11),\n",
    "        model.get_layer(index=12),\n",
    "    ])\n",
    "model_MCD.summary()\n",
    "pred = pd.DataFrame.from_dict({\"traccia\":Data_predicting.metadata[\"trace_name\"], \"y_mano\": \"unndecidable\"})\n",
    "\n",
    "for i in range(quante_predizioni):\n",
    "    predici(model_MCD, xtest, pred, i, batch=2048)\n",
    "    for k in range(15):\n",
    "        gc.collect()\n",
    "    \"\"\"y_predicted = model_MCD.predict(xtest, batch_size=2048)\n",
    "    y_predicted = np.reshape(y_predicted,len(y_predicted))\n",
    "    pred[f\"pred_n_{i}\"] = y_predicted\"\"\"\n",
    "\n",
    "\n",
    "if salva_predizioni:\n",
    "    pred.to_csv(nome_predizione, index=False)"
   ]
  },
  {
   "cell_type": "markdown",
   "metadata": {},
   "source": [
    "## Visualizza predizioni"
   ]
  },
  {
   "cell_type": "code",
   "execution_count": null,
   "metadata": {},
   "outputs": [],
   "source": [
    "# MCDropout Mean prediction\n",
    "import pandas as pd \n",
    "import matplotlib.pyplot as plt\n",
    "import numpy as np\n",
    "from matplotlib.ticker import PercentFormatter\n",
    "\n",
    "nbins = 40\n",
    "pat_und = \"/home/silvia/Documents/GitHub/primoprogetto/Codici/Tentativi/Bag_predictions/MCDrop_Instance_undecidable_More_8_4_vers_3.csv\"\n",
    "datapd_und = pd.read_csv(pat_und)\n",
    "datapd_und = datapd_und.drop([\"traccia\", \"y_mano\"], axis=1)\n",
    "mean_und = datapd_und.mean(axis=1)\n",
    "\n",
    "fig, axi = plt.subplots(1, 2, figsize=(13, 5))\n",
    "\n",
    "mean_und.hist(bins=nbins, edgecolor=\"black\", ax=axi[1], weights=np.ones(len(mean_und)) / len(mean_und))\n",
    "axi[1].yaxis.set_major_formatter(PercentFormatter(1))\n",
    "axi[1].set_title(\"Waveforms labeled as undecidable\", wrap=True)\n",
    "plt.show()"
   ]
  },
  {
   "cell_type": "code",
   "execution_count": null,
   "metadata": {},
   "outputs": [],
   "source": [
    "import pandas as pd \n",
    "\n",
    "\n",
    "pat_und1 = \"/home/silvia/Documents/GitHub/primoprogetto/Codici/Tentativi/Bag_predictions/MCDrop_Instance_undecidable_More_8_4.csv\"\n",
    "datapd_und1 = pd.read_csv(pat_und1)\n",
    "\n",
    "pat_und2 = \"/home/silvia/Documents/GitHub/primoprogetto/Codici/Tentativi/Bag_predictions/MCDrop_Instance_undecidable_More_8_4_vers_2.csv\"\n",
    "datapd_und2 = pd.read_csv(pat_und2)"
   ]
  },
  {
   "cell_type": "code",
   "execution_count": null,
   "metadata": {},
   "outputs": [],
   "source": [
    "datapd_und1"
   ]
  }
 ],
 "metadata": {
  "language_info": {
   "name": "python"
  },
  "orig_nbformat": 4
 },
 "nbformat": 4,
 "nbformat_minor": 2
}
