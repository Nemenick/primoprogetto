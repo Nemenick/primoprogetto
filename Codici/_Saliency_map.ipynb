{
 "cells": [
  {
   "cell_type": "code",
   "execution_count": 5,
   "metadata": {},
   "outputs": [
    {
     "name": "stdout",
     "output_type": "stream",
     "text": [
      "XSHAPEEEEEEEEEEEE (8983, 160)\n",
      "Model: \"sequential\"\n",
      "_________________________________________________________________\n",
      " Layer (type)                Output Shape              Param #   \n",
      "=================================================================\n",
      " conv1d (Conv1D)             (None, 160, 32)           192       \n",
      "                                                                 \n",
      " dropout (Dropout)           (None, 160, 32)           0         \n",
      "                                                                 \n",
      " conv1d_1 (Conv1D)           (None, 157, 64)           8256      \n",
      "                                                                 \n",
      " max_pooling1d (MaxPooling1D  (None, 78, 64)           0         \n",
      " )                                                               \n",
      "                                                                 \n",
      " conv1d_2 (Conv1D)           (None, 76, 128)           24704     \n",
      "                                                                 \n",
      " max_pooling1d_1 (MaxPooling  (None, 38, 128)          0         \n",
      " 1D)                                                             \n",
      "                                                                 \n",
      " conv1d_3 (Conv1D)           (None, 38, 256)           164096    \n",
      "                                                                 \n",
      " dropout_1 (Dropout)         (None, 38, 256)           0         \n",
      "                                                                 \n",
      " conv1d_4 (Conv1D)           (None, 36, 128)           98432     \n",
      "                                                                 \n",
      " max_pooling1d_2 (MaxPooling  (None, 18, 128)          0         \n",
      " 1D)                                                             \n",
      "                                                                 \n",
      " flatten (Flatten)           (None, 2304)              0         \n",
      "                                                                 \n",
      " dense (Dense)               (None, 50)                115250    \n",
      "                                                                 \n",
      " dense_1 (Dense)             (None, 1)                 51        \n",
      "                                                                 \n",
      "=================================================================\n",
      "Total params: 410,981\n",
      "Trainable params: 410,981\n",
      "Non-trainable params: 0\n",
      "_________________________________________________________________\n"
     ]
    },
    {
     "data": {
      "text/plain": [
       "'\\nSaliency_stacked = np.zeros(160)\\nSaliency_stacked_abs = np.zeros(160)\\nfor input_k in xtest:\\n\\n    grad_k, output_k = calc_single_saliency(model, input_k, identi_layer)\\n    #print(\"caio grad\",grad.shape)\\n    Saliency_single = np.sum(grad_k, axis = 1)                                                      # faccio solamente un reshape da (160,1) a (160,)\\n    Saliency_single = Saliency_single/ np.max([np.max(Saliency_single),-np.min(Saliency_single)])   # normalizzo per il max assoluto\\n    Saliency_stacked += Saliency_single                                                             # Saliency map mediata\\n    Saliency_stacked_abs += np.abs(Saliency_single)                                                 # Saliency map mediata (in valore assoluto)\\n\\nif saveplot:\\n    plt.plot(Saliency_stacked)\\n    plt.savefig(figs_name+\"stack_prova.jpg\")\\n    plt.clf()\\n    plt.plot(Saliency_stacked_abs)\\n    plt.savefig(figs_name+\"stack_abs_prova.jpg\")\\n'"
      ]
     },
     "execution_count": 5,
     "metadata": {},
     "output_type": "execute_result"
    }
   ],
   "source": [
    "import time\n",
    "import pandas as pd\n",
    "import numpy as np\n",
    "import tensorflow as tf\n",
    "from tensorflow import keras\n",
    "from keras.layers import Dense, Conv1D, MaxPooling1D, Flatten\n",
    "from matplotlib import pyplot as plt\n",
    "from Classe_sismogramma_v3 import ClasseDataset\n",
    "# mi servono 10 giga disponibili di RAM (minimo)\n",
    "\n",
    "\n",
    "def create_identity(x):\n",
    "    vinput_shape = (None, 160, 1)\n",
    "    identity = Conv1D(filters=1, kernel_size=1, activation=None, input_shape=vinput_shape[1:])\n",
    "    x_0 = x\n",
    "    x_0 = np.expand_dims(x_0, axis=0)\n",
    "    x_0 = np.expand_dims(x_0, axis=-1)\n",
    "    aia = identity(x_0)                \n",
    "    identity.set_weights([np.array([[[1.0]]]), np.array([0.0])])\n",
    "    return identity\n",
    "\n",
    "def calc_single_saliency(model, input_k, identity):\n",
    "    with tf.GradientTape() as tape:\n",
    "        x_0 = input_k\n",
    "        x_0 = np.expand_dims(x_0, axis=0)\n",
    "        x_0 = np.expand_dims(x_0, axis=-1)\n",
    "        seq = [x_0]\n",
    "\n",
    "        seq.append(identity(x_0))\n",
    "\n",
    "        for i in model.layers:\n",
    "            seq.append(i(seq[-1]))                      \n",
    "        grad = tape.gradient(seq[-1],seq[1])\n",
    "    grad = np.array(grad)\n",
    "    grad = grad[0]\n",
    "    return (grad, seq[-1])\n",
    "\n",
    "hdf5_predicting = '/home/silvia/Desktop/Instance_Data/Tre_4s/data_Velocimeter_4s_Normalizzate_New1-1.hdf5'\n",
    "csv_predicting = '/home/silvia/Desktop/Instance_Data/Tre_4s/metadata_Velocimeter_4s_Normalizzate_New1-1.csv'\n",
    "Data_predicting = ClasseDataset()\n",
    "Data_predicting.leggi_custom_dataset(hdf5_predicting, csv_predicting)\n",
    "lung = len(Data_predicting.sismogramma[0])\n",
    "semi_amp = 80\n",
    "pat_tent = '/home/silvia/Documents/GitHub/primoprogetto/Codici/Tentativi/'\n",
    "\n",
    "tentativo = 52\n",
    "time_shift = 0                                                                  \n",
    "figs_name = f\"/home/silvia/Desktop/Immagini/Saliency\\\n",
    "/Saliency_InstancePol_tent{tentativo}_shift{time_shift}\"                    # Da cambiare tra i  run\n",
    "saveplot = False\n",
    "\n",
    "# TODO predict Instance Test (genero dati input rete)\n",
    "# \"\"\"\n",
    "estremi_test = [43, 45, 9.5, 11.8]\n",
    "xtest = []\n",
    "y_test_true = []\n",
    "test_indici = []\n",
    "for k in range(len(Data_predicting.sismogramma)):\n",
    "    if estremi_test[0] < Data_predicting.metadata['source_latitude_deg'][k] < estremi_test[1] and estremi_test[2] \\\n",
    "            < Data_predicting.metadata['source_longitude_deg'][k] < estremi_test[3]:\n",
    "        xtest.append(Data_predicting.sismogramma[k][lung // 2 - semi_amp + time_shift:lung // 2 + semi_amp + time_shift])\n",
    "\n",
    "        test_indici.append(k)  # TODO salvo posizioni tracce di test\n",
    "        if Data_predicting.metadata[\"trace_polarity\"][k] == \"positive\":\n",
    "            y_test_true.append(1)\n",
    "        elif Data_predicting.metadata[\"trace_polarity\"][k] == \"negative\":\n",
    "            y_test_true.append(0)\n",
    "Data_predicting = Data_predicting.seleziona_indici(test_indici)\n",
    "# \"\"\"\n",
    "\n",
    "# TODO predict other than Instance polarity\n",
    "\"\"\"\n",
    "xtest = np.zeros((sample_train, semi_amp * 2))\n",
    "for k in range(sample_train):\n",
    "    xtest[k] = Data_predicting.sismogramma[k][lung // 2 - semi_amp + time_shift:lung // 2 + semi_amp + time_shift]\n",
    "y_test_true = np.array([Data_predicting.metadata[\"trace_polarity\"][_] == \"positive\" for _ in range(sample_train)])\n",
    "y_test_true = y_test_true + 0\n",
    "\"\"\"\n",
    "xtest = np.array(xtest)\n",
    "print(\"XSHAPEEEEEEEEEEEE\", xtest.shape)\n",
    "\n",
    "model = keras.models.load_model(pat_tent+str(tentativo)+'/Tentativo_'+str(tentativo)+'.hdf5')\n",
    "model.summary()\n",
    "\n",
    "\n",
    "# TODO Da qui inizio a calcolare i gradienti per generare la Saliency map\n",
    "\n",
    "# Creo layer identità... mi serve perchè non riuscivo a fare gradiente rispetto input (non serve a niente concettualmente)\n",
    "identi_layer = create_identity(xtest[0])\n",
    "\n",
    "Saliency_stacked = np.zeros(160)\n",
    "Saliency_stacked_abs = np.zeros(160)\n",
    "for input_k in xtest:\n",
    "\n",
    "    grad_k, output_k = calc_single_saliency(model, input_k, identi_layer)\n",
    "    #print(\"caio grad\",grad.shape)\n",
    "    Saliency_single = np.sum(grad_k, axis = 1)                                                      # faccio solamente un reshape da (160,1) a (160,)\n",
    "    Saliency_single = Saliency_single/ np.max([np.max(Saliency_single),-np.min(Saliency_single)])   # normalizzo per il max assoluto\n",
    "    Saliency_stacked += Saliency_single                                                             # Saliency map mediata\n",
    "    Saliency_stacked_abs += np.abs(Saliency_single)                                                 # Saliency map mediata (in valore assoluto)\n",
    "\n",
    "if saveplot:\n",
    "    plt.plot(Saliency_stacked)\n",
    "    plt.savefig(figs_name+\"stack_prova.jpg\")\n",
    "    plt.clf()\n",
    "    plt.plot(Saliency_stacked_abs)\n",
    "    plt.savefig(figs_name+\"stack_abs_prova.jpg\")\n",
    "\n",
    "# TODO urgente\n",
    "# vedere dove si concentra la rete per quelle sbagliate\n",
    "# Fare Grad-CAM (simile, adatta al mio caso...)\n",
    "\n",
    "# Per tirocinio:\n",
    "# Fai salienci di: tent 52 e tentativo 79, di timeshift tra -20 e 20, passo di 2 e fai una piccola relazione su quello che succede\n",
    "# (cosa stanno facendo le reti? su che zona si concentrano, limiti utilizzabilità reti?)"
   ]
  },
  {
   "cell_type": "markdown",
   "metadata": {},
   "source": [
    "# CONTROLLO CHE SUCCEDE A TRACCE MISCLASSIFIED"
   ]
  },
  {
   "cell_type": "code",
   "execution_count": null,
   "metadata": {},
   "outputs": [],
   "source": [
    "# Previsione media\n",
    "Saliency_Erroneous_stacked = np.zeros(160)          # rete in disaccordo\n",
    "Saliency_Ok_stacked = np.zeros(160)                 # rete in accordo\n",
    "Saliency_Erroneous_stacked_abs = np.zeros(160)\n",
    "Saliency_Ok_stacked_abs = np.zeros(160)\n",
    "\n",
    "for k, input_k in enumerate(xtest):\n",
    "\n",
    "    grad_k, output_k = calc_single_saliency(model, input_k, identi_layer)\n",
    "    #print(\"caio grad\",grad.shape)\n",
    "    Saliency_single = np.sum(grad_k, axis = 1)                                                      # faccio solamente un reshape da (160,1) a (160,)\n",
    "    Saliency_single = Saliency_single/ np.max([np.max(Saliency_single),-np.min(Saliency_single)])   # normalizzo per il max assoluto\n",
    "\n",
    "    # print(output_k, y_test_true[k],  output_k-y_test_true[k])\n",
    "\n",
    "    if abs(output_k-y_test_true[k])<0.5:\n",
    "        Saliency_Ok_stacked += Saliency_single                                                             \n",
    "        Saliency_Ok_stacked_abs += np.abs(Saliency_single)\n",
    "    else:\n",
    "        Saliency_Erroneous_stacked += Saliency_single                                                             \n",
    "        Saliency_Erroneous_stacked_abs += np.abs(Saliency_single)\n",
    "\n",
    "\n",
    "plt.plot(Saliency_Ok_stacked)\n",
    "plt.savefig(figs_name+\"stack_Ok.jpg\")\n",
    "plt.clf()\n",
    "plt.plot(Saliency_Ok_stacked_abs)\n",
    "plt.savefig(figs_name+\"stack_Ok_abs.jpg\")\n",
    "\n",
    "plt.clf()\n",
    "plt.plot(Saliency_Erroneous_stacked)\n",
    "plt.savefig(figs_name+\"stack_Erroneous.jpg\")\n",
    "plt.clf()\n",
    "plt.plot(Saliency_Erroneous_stacked_abs)\n",
    "plt.savefig(figs_name+\"stack_Erroneous_abs.jpg\")"
   ]
  },
  {
   "cell_type": "code",
   "execution_count": 14,
   "metadata": {},
   "outputs": [
    {
     "name": "stdout",
     "output_type": "stream",
     "text": [
      "totale tracce errate =  232\n"
     ]
    },
    {
     "data": {
      "text/plain": [
       "<Figure size 640x480 with 0 Axes>"
      ]
     },
     "metadata": {},
     "output_type": "display_data"
    }
   ],
   "source": [
    "# Previsione di singola traccia\n",
    "\n",
    "from matplotlib.colors import LinearSegmentedColormap\n",
    "import os\n",
    "colors = ['#FFFFFF', '#FF0000']\n",
    "cmap = LinearSegmentedColormap.from_list('my_palette', colors)\n",
    "\n",
    "path_img = \"/home/silvia/Desktop/Immagini/Saliency\"\n",
    "pat_new_dir_saliency = f\"{path_img}/SINGLE_SALIENCY_ERRATE_InstancePol_tent{tentativo}_shift{time_shift}_new\"\n",
    "os.mkdir(pat_new_dir_saliency)\n",
    "\n",
    "err = 0\n",
    "for k, input_k in enumerate(xtest):\n",
    "\n",
    "    grad_k, output_k = calc_single_saliency(model, input_k, identi_layer)\n",
    "\n",
    "    if abs(output_k-y_test_true[k])>=0.5:\n",
    "       \n",
    "        #print(\"caio grad\",grad.shape)\n",
    "        Saliency_single = np.sum(grad_k, axis = 1)                                                      # faccio solamente un reshape da (160,1) a (160,)\n",
    "        Saliency_single = Saliency_single/ np.max([np.max(Saliency_single),-np.min(Saliency_single)])   # normalizzo per il max assoluto\n",
    "\n",
    "        # print(output_k, y_test_true[k],  output_k-y_test_true[k])\n",
    "    \n",
    "        \"\"\"plt.plot(Saliency_single)\n",
    "        plt.savefig(f\"{pat_new_dir_saliency}/{k}_Saliency_Errata.jpg\")\n",
    "        plt.clf()\n",
    "        plt.plot(abs(Saliency_single))\n",
    "        plt.savefig(f\"{pat_new_dir_saliency}/{k}_Saliency_Errata_abs.jpg\")\n",
    "        plt.clf()\n",
    "        plt.plot(abs(input_k))\n",
    "        plt.bar(1, width=160, label='',\n",
    "               color=custom_cmap, align='edge', zorder=1)\n",
    "        plt.savefig(f\"{pat_new_dir_saliency}/{k}_Traccia_Errata.jpg\")\"\"\"\n",
    "        \n",
    "        custom_cmap = [cmap(abs(Saliency_single[_])) for _ in range(160)]\n",
    "        plt.bar(range(160), 2, bottom=-1, width=1, label='', align='center', zorder=1, color=custom_cmap, alpha = 0.6)\n",
    "        plt.plot(input_k)\n",
    "        plt.title(f\"Label:{y_test_true[k]}\\nPredict:{output_k}\")\n",
    "        plt.savefig(f\"{pat_new_dir_saliency}/{k}_Traccia_Errata.jpg\")\n",
    "        plt.clf()\n",
    "\n",
    "        err += 1 \n",
    "print(\"totale tracce errate = \", err)\n",
    "    "
   ]
  },
  {
   "cell_type": "markdown",
   "metadata": {},
   "source": [
    "# Modifiche ultime e TEST SCHIFEZZE"
   ]
  },
  {
   "cell_type": "code",
   "execution_count": 44,
   "metadata": {},
   "outputs": [
    {
     "data": {
      "text/plain": [
       "[<matplotlib.lines.Line2D at 0x7f60d82b63d0>]"
      ]
     },
     "execution_count": 44,
     "metadata": {},
     "output_type": "execute_result"
    },
    {
     "data": {
      "image/png": "[encoded data removed]",
      "text/plain": [
       "<Figure size 640x480 with 1 Axes>"
      ]
     },
     "metadata": {},
     "output_type": "display_data"
    }
   ],
   "source": [
    "from matplotlib.colors import LinearSegmentedColormap\n",
    "colors = ['#FFFFFF', '#FF0000']\n",
    "cmap = LinearSegmentedColormap.from_list('my_palette', colors)\n",
    "custom_cmap = [cmap(abs(Saliency_single[i])) for i in range(160)]\n",
    "plt.bar(range(160),1 , width=1, label='', align='center', zorder=1, color=custom_cmap, alpha = 0.6)\n",
    "plt.plot(input_k)"
   ]
  },
  {
   "cell_type": "code",
   "execution_count": 10,
   "metadata": {},
   "outputs": [
    {
     "data": {
      "text/plain": [
       "[<matplotlib.lines.Line2D at 0x7fdc0ef76d90>]"
      ]
     },
     "execution_count": 10,
     "metadata": {},
     "output_type": "execute_result"
    },
    {
     "data": {
      "image/png": "[encoded data removed]",
      "text/plain": [
       "<Figure size 640x480 with 1 Axes>"
      ]
     },
     "metadata": {},
     "output_type": "display_data"
    }
   ],
   "source": [
    "plt.bar(range(160), 2, bottom=-1, width=1, label='', align='center', zorder=1, color=custom_cmap, alpha = 0.6)\n",
    "plt.plot(input_k)"
   ]
  },
  {
   "cell_type": "markdown",
   "metadata": {},
   "source": [
    "## Take last layer\n"
   ]
  },
  {
   "cell_type": "code",
   "execution_count": 1,
   "metadata": {},
   "outputs": [
    {
     "name": "stderr",
     "output_type": "stream",
     "text": [
      "2023-09-12 14:12:20.961242: I tensorflow/core/util/util.cc:169] oneDNN custom operations are on. You may see slightly different numerical results due to floating-point round-off errors from different computation orders. To turn them off, set the environment variable `TF_ENABLE_ONEDNN_OPTS=0`.\n"
     ]
    },
    {
     "name": "stdout",
     "output_type": "stream",
     "text": [
      "Model: \"sequential\"\n",
      "_________________________________________________________________\n",
      " Layer (type)                Output Shape              Param #   \n",
      "=================================================================\n",
      " conv1d (Conv1D)             (None, 160, 32)           192       \n",
      "                                                                 \n",
      " dropout (Dropout)           (None, 160, 32)           0         \n",
      "                                                                 \n",
      " conv1d_1 (Conv1D)           (None, 157, 64)           8256      \n",
      "                                                                 \n",
      " max_pooling1d (MaxPooling1D  (None, 78, 64)           0         \n",
      " )                                                               \n",
      "                                                                 \n",
      " conv1d_2 (Conv1D)           (None, 76, 128)           24704     \n",
      "                                                                 \n",
      " max_pooling1d_1 (MaxPooling  (None, 38, 128)          0         \n",
      " 1D)                                                             \n",
      "                                                                 \n",
      " conv1d_3 (Conv1D)           (None, 38, 256)           164096    \n",
      "                                                                 \n",
      " dropout_1 (Dropout)         (None, 38, 256)           0         \n",
      "                                                                 \n",
      " conv1d_4 (Conv1D)           (None, 36, 128)           98432     \n",
      "                                                                 \n",
      " max_pooling1d_2 (MaxPooling  (None, 18, 128)          0         \n",
      " 1D)                                                             \n",
      "                                                                 \n",
      " flatten (Flatten)           (None, 2304)              0         \n",
      "                                                                 \n",
      " dense (Dense)               (None, 50)                115250    \n",
      "                                                                 \n",
      " dense_1 (Dense)             (None, 1)                 51        \n",
      "                                                                 \n",
      "=================================================================\n",
      "Total params: 410,981\n",
      "Trainable params: 410,981\n",
      "Non-trainable params: 0\n",
      "_________________________________________________________________\n"
     ]
    },
    {
     "name": "stderr",
     "output_type": "stream",
     "text": [
      "2023-09-12 14:12:23.277751: I tensorflow/core/platform/cpu_feature_guard.cc:193] This TensorFlow binary is optimized with oneAPI Deep Neural Network Library (oneDNN) to use the following CPU instructions in performance-critical operations:  AVX2 AVX512F AVX512_VNNI FMA\n",
      "To enable them in other operations, rebuild TensorFlow with the appropriate compiler flags.\n",
      "2023-09-12 14:12:23.862002: I tensorflow/core/common_runtime/gpu/gpu_device.cc:1532] Created device /job:localhost/replica:0/task:0/device:GPU:0 with 6101 MB memory:  -> device: 0, name: Quadro RTX 4000, pci bus id: 0000:9e:00.0, compute capability: 7.5\n"
     ]
    }
   ],
   "source": [
    "\n",
    "\n"
   ]
  },
  {
   "cell_type": "code",
   "execution_count": 26,
   "metadata": {},
   "outputs": [
    {
     "name": "stdout",
     "output_type": "stream",
     "text": [
      "Model: \"sequential\"\n",
      "_________________________________________________________________\n",
      " Layer (type)                Output Shape              Param #   \n",
      "=================================================================\n",
      " conv1d (Conv1D)             (None, 160, 32)           192       \n",
      "                                                                 \n",
      " dropout (Dropout)           (None, 160, 32)           0         \n",
      "                                                                 \n",
      " conv1d_1 (Conv1D)           (None, 157, 64)           8256      \n",
      "                                                                 \n",
      " max_pooling1d (MaxPooling1D  (None, 78, 64)           0         \n",
      " )                                                               \n",
      "                                                                 \n",
      " conv1d_2 (Conv1D)           (None, 76, 128)           24704     \n",
      "                                                                 \n",
      " max_pooling1d_1 (MaxPooling  (None, 38, 128)          0         \n",
      " 1D)                                                             \n",
      "                                                                 \n",
      " conv1d_3 (Conv1D)           (None, 38, 256)           164096    \n",
      "                                                                 \n",
      " dropout_1 (Dropout)         (None, 38, 256)           0         \n",
      "                                                                 \n",
      " conv1d_4 (Conv1D)           (None, 36, 128)           98432     \n",
      "                                                                 \n",
      " max_pooling1d_2 (MaxPooling  (None, 18, 128)          0         \n",
      " 1D)                                                             \n",
      "                                                                 \n",
      " flatten (Flatten)           (None, 2304)              0         \n",
      "                                                                 \n",
      " dense (Dense)               (None, 50)                115250    \n",
      "                                                                 \n",
      " dense_1 (Dense)             (None, 1)                 51        \n",
      "                                                                 \n",
      "=================================================================\n",
      "Total params: 410,981\n",
      "Trainable params: 410,981\n",
      "Non-trainable params: 0\n",
      "_________________________________________________________________\n"
     ]
    }
   ],
   "source": [
    "from tensorflow import keras\n",
    "from keras.layers import Dense\n",
    "\n",
    "pat_tent = '/home/silvia/Documents/GitHub/primoprogetto/Codici/Tentativi/'\n",
    "tentativo = 52\n",
    "\n",
    "model = keras.models.load_model(pat_tent+str(tentativo)+'/Tentativo_'+str(tentativo)+'.hdf5')\n",
    "model.summary()\n",
    "\n",
    "newLAy = Dense(1, input_shape = (50,), activation=None)\n",
    "newLAy.build((None, 50))\n",
    "a = model.layers[-1].get_weights()\n",
    "newLAy.set_weights(a)"
   ]
  },
  {
   "cell_type": "code",
   "execution_count": 19,
   "metadata": {},
   "outputs": [
    {
     "data": {
      "text/plain": [
       "[array([[ 0.49039224],\n",
       "        [ 0.384341  ],\n",
       "        [ 0.41083694],\n",
       "        [ 0.04862231],\n",
       "        [-0.02759775],\n",
       "        [-0.37677813],\n",
       "        [-0.64376855],\n",
       "        [ 0.1005583 ],\n",
       "        [-0.05855711],\n",
       "        [-0.04428053],\n",
       "        [ 0.66259515],\n",
       "        [-0.08915199],\n",
       "        [ 0.05481695],\n",
       "        [ 0.13428617],\n",
       "        [ 0.49289533],\n",
       "        [-0.36115494],\n",
       "        [-0.5696075 ],\n",
       "        [-0.47246116],\n",
       "        [ 0.11497441],\n",
       "        [ 0.51646125],\n",
       "        [-0.5942286 ],\n",
       "        [-0.21574257],\n",
       "        [ 0.0743133 ],\n",
       "        [ 0.16244516],\n",
       "        [-0.1813566 ],\n",
       "        [-0.50381   ],\n",
       "        [-0.39372158],\n",
       "        [ 0.31574962],\n",
       "        [-0.69435096],\n",
       "        [-0.39661187],\n",
       "        [ 0.46370524],\n",
       "        [ 0.41501167],\n",
       "        [ 0.06622145],\n",
       "        [-0.6587927 ],\n",
       "        [-0.04630092],\n",
       "        [ 0.4056301 ],\n",
       "        [-0.05328751],\n",
       "        [-0.34492797],\n",
       "        [ 0.6539039 ],\n",
       "        [ 0.19074883],\n",
       "        [-0.33402842],\n",
       "        [ 0.3041477 ],\n",
       "        [-0.65590763],\n",
       "        [-0.36666042],\n",
       "        [-0.09567335],\n",
       "        [-0.03460778],\n",
       "        [-0.53670156],\n",
       "        [ 0.34912902],\n",
       "        [ 0.36184457],\n",
       "        [ 0.37775406]], dtype=float32),\n",
       " array([-0.00150871], dtype=float32)]"
      ]
     },
     "execution_count": 19,
     "metadata": {},
     "output_type": "execute_result"
    }
   ],
   "source": [
    "newLAy.get_weights()"
   ]
  },
  {
   "cell_type": "code",
   "execution_count": 43,
   "metadata": {},
   "outputs": [
    {
     "data": {
      "text/plain": [
       "<tf.Tensor: shape=(1, 1), dtype=float32, numpy=array([[0.6969033]], dtype=float32)>"
      ]
     },
     "execution_count": 43,
     "metadata": {},
     "output_type": "execute_result"
    }
   ],
   "source": [
    "model.layers[-1](np.array([[i-39.1 for i in range(50)]]))"
   ]
  },
  {
   "cell_type": "code",
   "execution_count": 44,
   "metadata": {},
   "outputs": [
    {
     "data": {
      "text/plain": [
       "<tf.Tensor: shape=(1, 1), dtype=float32, numpy=array([[0.8325949]], dtype=float32)>"
      ]
     },
     "execution_count": 44,
     "metadata": {},
     "output_type": "execute_result"
    }
   ],
   "source": [
    "newLAy(np.array([[i-39.1 for i in range(50)]]))"
   ]
  },
  {
   "cell_type": "code",
   "execution_count": 45,
   "metadata": {},
   "outputs": [],
   "source": [
    "def sigma(x):\n",
    "    return np.e**x/(1+np.e**x)"
   ]
  },
  {
   "cell_type": "code",
   "execution_count": 48,
   "metadata": {},
   "outputs": [
    {
     "data": {
      "text/plain": [
       "<tf.Tensor: shape=(1, 1), dtype=float32, numpy=array([[0.]], dtype=float32)>"
      ]
     },
     "execution_count": 48,
     "metadata": {},
     "output_type": "execute_result"
    }
   ],
   "source": [
    "sigma(newLAy(np.array([[i-40.1 for i in range(50)]])))- model.layers[-1](np.array([[i-40.1 for i in range(50)]]))"
   ]
  }
 ],
 "metadata": {
  "kernelspec": {
   "display_name": "venv",
   "language": "python",
   "name": "python3"
  },
  "language_info": {
   "codemirror_mode": {
    "name": "ipython",
    "version": 3
   },
   "file_extension": ".py",
   "mimetype": "text/x-python",
   "name": "python",
   "nbconvert_exporter": "python",
   "pygments_lexer": "ipython3",
   "version": "3.8.10"
  },
  "orig_nbformat": 4
 },
 "nbformat": 4,
 "nbformat_minor": 2
}
