{
 "cells": [
  {
   "cell_type": "code",
   "execution_count": 1,
   "metadata": {},
   "outputs": [
    {
     "name": "stderr",
     "output_type": "stream",
     "text": [
      "2023-05-17 12:34:53.421968: I tensorflow/core/util/util.cc:169] oneDNN custom operations are on. You may see slightly different numerical results due to floating-point round-off errors from different computation orders. To turn them off, set the environment variable `TF_ENABLE_ONEDNN_OPTS=0`.\n"
     ]
    }
   ],
   "source": [
    "import time\n",
    "import pandas as pd\n",
    "import numpy as np\n",
    "import tensorflow as tf\n",
    "from tensorflow import keras\n",
    "from keras.layers import Dense, Conv1D, MaxPooling1D, Flatten\n",
    "from keras.utils.np_utils import to_categorical\n",
    "from matplotlib import pyplot as plt\n",
    "from Classe_sismogramma_v3 import ClasseDataset"
   ]
  },
  {
   "cell_type": "code",
   "execution_count": 3,
   "metadata": {},
   "outputs": [
    {
     "name": "stdout",
     "output_type": "stream",
     "text": [
      "                        nomi\n",
      "0       10000541.IV.ARRO..EH\n",
      "1       10000541.IV.ATCC..EH\n",
      "2       10000541.IV.CAMP..HH\n",
      "3       10000541.IV.CESI..HH\n",
      "4       10000541.IV.CESX..HH\n",
      "...                      ...\n",
      "161193   908231.IV.T0827..EH\n",
      "161194   908231.IV.T0828..EH\n",
      "161195    908231.IV.TEOL..HH\n",
      "161196     908231.MN.VLC..HH\n",
      "161197    908231.IV.ZCCA..HH\n",
      "\n",
      "[161198 rows x 1 columns]\n",
      "False\n"
     ]
    }
   ],
   "source": [
    "hdf5in = '/home/silvia/Desktop/Instance_Data/Tre_4s/data_Velocimeter_4s_Normalizzate_New1-1.hdf5'\n",
    "csvin = '/home/silvia/Desktop/Instance_Data/Tre_4s/metadata_Velocimeter_4s_Normalizzate_New1-1.csv'\n",
    "\n",
    "Dati_ori = ClasseDataset()\n",
    "Dati_ori.leggi_custom_dataset(hdf5in, csvin)\n",
    "\n",
    "meta_pd = pd.DataFrame.from_dict({\"nomi\" : Dati_ori.metadata[\"trace_name\"]})\n",
    "print(meta_pd)\n",
    "print(True in meta_pd.duplicated())"
   ]
  },
  {
   "cell_type": "code",
   "execution_count": 10,
   "metadata": {},
   "outputs": [],
   "source": [
    "file = open(\"/home/silvia/Desktop/testoprova.txt\", \"w\")\n",
    "\n",
    "b = \"gattone\"\n",
    "\n",
    "a = f\"\"\"faf\n",
    "{b}\n",
    "a\"\"\"\n",
    "\n",
    "file.write(a)\n",
    "file.close()"
   ]
  }
 ],
 "metadata": {
  "kernelspec": {
   "display_name": "venv",
   "language": "python",
   "name": "python3"
  },
  "language_info": {
   "codemirror_mode": {
    "name": "ipython",
    "version": 3
   },
   "file_extension": ".py",
   "mimetype": "text/x-python",
   "name": "python",
   "nbconvert_exporter": "python",
   "pygments_lexer": "ipython3",
   "version": "3.8.10"
  },
  "orig_nbformat": 4
 },
 "nbformat": 4,
 "nbformat_minor": 2
}
