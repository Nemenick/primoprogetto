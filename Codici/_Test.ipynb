{
 "cells": [
  {
   "cell_type": "code",
   "execution_count": 1,
   "metadata": {},
   "outputs": [
    {
     "name": "stderr",
     "output_type": "stream",
     "text": [
      "2023-05-17 12:34:53.421968: I tensorflow/core/util/util.cc:169] oneDNN custom operations are on. You may see slightly different numerical results due to floating-point round-off errors from different computation orders. To turn them off, set the environment variable `TF_ENABLE_ONEDNN_OPTS=0`.\n"
     ]
    }
   ],
   "source": [
    "import time\n",
    "import pandas as pd\n",
    "import numpy as np\n",
    "import tensorflow as tf\n",
    "from tensorflow import keras\n",
    "from keras.layers import Dense, Conv1D, MaxPooling1D, Flatten\n",
    "from keras.utils.np_utils import to_categorical\n",
    "from matplotlib import pyplot as plt\n",
    "from Classe_sismogramma_v3 import ClasseDataset"
   ]
  },
  {
   "cell_type": "code",
   "execution_count": 3,
   "metadata": {},
   "outputs": [
    {
     "name": "stdout",
     "output_type": "stream",
     "text": [
      "                        nomi\n",
      "0       10000541.IV.ARRO..EH\n",
      "1       10000541.IV.ATCC..EH\n",
      "2       10000541.IV.CAMP..HH\n",
      "3       10000541.IV.CESI..HH\n",
      "4       10000541.IV.CESX..HH\n",
      "...                      ...\n",
      "161193   908231.IV.T0827..EH\n",
      "161194   908231.IV.T0828..EH\n",
      "161195    908231.IV.TEOL..HH\n",
      "161196     908231.MN.VLC..HH\n",
      "161197    908231.IV.ZCCA..HH\n",
      "\n",
      "[161198 rows x 1 columns]\n",
      "False\n"
     ]
    }
   ],
   "source": [
    "hdf5in = '/home/silvia/Desktop/Instance_Data/Tre_4s/data_Velocimeter_4s_Normalizzate_New1-1.hdf5'\n",
    "csvin = '/home/silvia/Desktop/Instance_Data/Tre_4s/metadata_Velocimeter_4s_Normalizzate_New1-1.csv'\n",
    "\n",
    "Dati_ori = ClasseDataset()\n",
    "Dati_ori.leggi_custom_dataset(hdf5in, csvin)\n",
    "\n",
    "meta_pd = pd.DataFrame.from_dict({\"nomi\" : Dati_ori.metadata[\"trace_name\"]})\n",
    "print(meta_pd)\n",
    "print(True in meta_pd.duplicated())"
   ]
  },
  {
   "cell_type": "code",
   "execution_count": 10,
   "metadata": {},
   "outputs": [],
   "source": [
    "file = open(\"/home/silvia/Desktop/testoprova.txt\", \"w\")\n",
    "\n",
    "b = \"gattone\"\n",
    "\n",
    "a = f\"\"\"faf\n",
    "{b}\n",
    "a\"\"\"\n",
    "\n",
    "file.write(a)\n",
    "file.close()"
   ]
  },
  {
   "cell_type": "code",
   "execution_count": null,
   "metadata": {},
   "outputs": [],
   "source": [
    "import numpy as np\n",
    "semiampiezza = 8\n",
    "time_shift = -2\n",
    "Dati = [i for i in range(semiampiezza*2)]\n",
    "Dati = np.array(Dati, dtype=float)\n",
    "Dati = Dati + 5\n",
    "x = np.zeros(semiampiezza*2)\n",
    "print(Dati)\n",
    "if time_shift >= 0:\n",
    "    x[0:semiampiezza*2-time_shift] = Dati[time_shift:]\n",
    "    x[semiampiezza*2-time_shift:] = Dati[-1]\n",
    "    # x[i][semiampiezza*2-time_shift+1 : -1] = 0 Già fatto\n",
    "    print(\"\")\n",
    "else:\n",
    "    x[-time_shift:] = Dati[0:time_shift]\n",
    "    x[:-time_shift] = Dati[0]\n",
    "    # x[time_shift:-1] = Dati[0:-1+time_shift]\n",
    "    print(\"\")\n",
    "print(x)"
   ]
  },
  {
   "cell_type": "code",
   "execution_count": null,
   "metadata": {},
   "outputs": [],
   "source": [
    "import os\n",
    "Xcorso = '/home/silvia/Documents/GitHub/primoprogetto/Codici/Tentativi/More_1'\n",
    "for it in os.scandir(Xcorso):\n",
    "    if it.is_dir():\n",
    "        print(it.path)"
   ]
  },
  {
   "cell_type": "code",
   "execution_count": 2,
   "metadata": {},
   "outputs": [
    {
     "name": "stderr",
     "output_type": "stream",
     "text": [
      "2023-05-19 16:59:19.627139: I tensorflow/core/util/util.cc:169] oneDNN custom operations are on. You may see slightly different numerical results due to floating-point round-off errors from different computation orders. To turn them off, set the environment variable `TF_ENABLE_ONEDNN_OPTS=0`.\n"
     ]
    }
   ],
   "source": [
    "import time\n",
    "import os\n",
    "import pandas as pd\n",
    "import numpy as np\n",
    "import tensorflow as tf\n",
    "from tensorflow import keras\n",
    "from keras.layers import Dense, Conv1D, MaxPooling1D, Flatten\n",
    "from keras.utils.np_utils import to_categorical\n",
    "from matplotlib import pyplot as plt\n",
    "from Classe_sismogramma_v3 import ClasseDataset\n",
    "hdf5_predicting ='/home/silvia/Desktop/Instance_Data/Quattro_4s_Buone/data_Velocimeter_Buone_4s_Normalizzate_New1-1.hdf5'\n",
    "csv_predicting = '/home/silvia/Desktop/Instance_Data/Quattro_4s_Buone/metadata_Velocimeter_Buone_4s_Normalizzate_New1-1.csv'\n",
    "\n",
    "Data_predicting = ClasseDataset()\n",
    "Data_predicting.leggi_custom_dataset(hdf5_predicting, csv_predicting)\n",
    "sample_train = len(Data_predicting.sismogramma)\n",
    "\n",
    "lung = len(Data_predicting.sismogramma[0])\n",
    "semi_amp = 80\n",
    "tentativo = \"1\"\n",
    "path_tentativi = f'/home/silvia/Documents/GitHub/primoprogetto/Codici/Tentativi/More_{tentativo}'\n",
    "salva_predizioni = False\n",
    "nome_predizione = \"/Predizioni_Instance_buone\"\n"
   ]
  },
  {
   "cell_type": "code",
   "execution_count": 3,
   "metadata": {},
   "outputs": [],
   "source": [
    "estremi_test = [43, 45, 9.5, 11.8]\n",
    "xtest = []\n",
    "y_test_true = []\n",
    "test_indici = []\n",
    "for k in range(len(Data_predicting.sismogramma)):\n",
    "    if estremi_test[0] < Data_predicting.metadata['source_latitude_deg'][k] < estremi_test[1] and estremi_test[2] \\\n",
    "            < Data_predicting.metadata['source_longitude_deg'][k] < estremi_test[3]:\n",
    "        xtest.append(Data_predicting.sismogramma[k][lung // 2 - semi_amp:lung // 2 + semi_amp])\n",
    "        test_indici.append(k)  # TODO salvo posizioni tracce di test\n",
    "        if Data_predicting.metadata[\"trace_polarity\"][k] == \"positive\":\n",
    "            y_test_true.append(1)\n",
    "        elif Data_predicting.metadata[\"trace_polarity\"][k] == \"negative\":\n",
    "            y_test_true.append(0)\n",
    "Data_predicting = Data_predicting.seleziona_indici(test_indici)"
   ]
  },
  {
   "cell_type": "code",
   "execution_count": null,
   "metadata": {},
   "outputs": [],
   "source": [
    "it = '/home/silvia/Documents/GitHub/primoprogetto/Codici/Tentativi/More_1/5'\n",
    "tent = it[-1]\n",
    "model = keras.models.load_model(it + f\"/Tentativo_More_{tentativo}_\" + str(tent)+\".hdf5\")\n",
    "model.summary()"
   ]
  },
  {
   "cell_type": "code",
   "execution_count": null,
   "metadata": {},
   "outputs": [],
   "source": []
  }
 ],
 "metadata": {
  "kernelspec": {
   "display_name": "venv",
   "language": "python",
   "name": "python3"
  },
  "language_info": {
   "codemirror_mode": {
    "name": "ipython",
    "version": 3
   },
   "file_extension": ".py",
   "mimetype": "text/x-python",
   "name": "python",
   "nbconvert_exporter": "python",
   "pygments_lexer": "ipython3",
   "version": "3.8.10"
  },
  "orig_nbformat": 4
 },
 "nbformat": 4,
 "nbformat_minor": 2
}
