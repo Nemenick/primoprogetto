{
 "cells": [
  {
   "cell_type": "code",
   "execution_count": null,
   "metadata": {},
   "outputs": [],
   "source": [
    "import time\n",
    "import pandas as pd\n",
    "import numpy as np\n",
    "import tensorflow as tf\n",
    "from tensorflow import keras\n",
    "from keras.layers import Dense, Conv1D, MaxPooling1D, Flatten\n",
    "from keras.utils.np_utils import to_categorical\n",
    "from matplotlib import pyplot as plt\n",
    "from Classe_sismogramma_v3 import ClasseDataset"
   ]
  },
  {
   "cell_type": "code",
   "execution_count": null,
   "metadata": {},
   "outputs": [],
   "source": [
    "# hdf5in = '/home/silvia/Desktop/Instance_Data/Tre_4s/data_Velocimeter_4s_Normalizzate_New1-1.hdf5'\n",
    "# csvin = '/home/silvia/Desktop/Instance_Data/Tre_4s/metadata_Velocimeter_4s_Normalizzate_New1-1.csv'\n",
    "\n",
    "\n",
    "hdf5in = '/home/silvia/Desktop/SCSN(Ross)/ori/Ross_test_all_data_ori.hdf5'\n",
    "csvin = '/home/silvia/Desktop/SCSN(Ross)/ori/Ross_test_all_metadata_ori.csv'\n",
    "\n",
    "Dati_ori = ClasseDataset()\n",
    "Dati_ori.leggi_custom_dataset(hdf5in, csvin)\n",
    "\n",
    "print(Dati_ori.metadata.keys())\n",
    "meta_pd = pd.DataFrame.from_dict(Dati_ori.metadata)\n",
    "\n",
    "duplici = list(meta_pd.duplicated())\n",
    "print(type(duplici), True in duplici)\n",
    "print(meta_pd.head())\n"
   ]
  },
  {
   "cell_type": "code",
   "execution_count": null,
   "metadata": {},
   "outputs": [],
   "source": [
    "# SHIFT DI HARA\n",
    "import numpy as np\n",
    "semiampiezza = 8\n",
    "time_shift = -2\n",
    "Dati = [i for i in range(semiampiezza*2)]\n",
    "Dati = np.array(Dati, dtype=float)\n",
    "Dati = Dati + 5\n",
    "x = np.zeros(semiampiezza*2)\n",
    "print(Dati)\n",
    "if time_shift >= 0:\n",
    "    x[0:semiampiezza*2-time_shift] = Dati[time_shift:]\n",
    "    x[semiampiezza*2-time_shift:] = Dati[-1]\n",
    "    # x[i][semiampiezza*2-time_shift+1 : -1] = 0 Già fatto\n",
    "    print(\"\")\n",
    "else:\n",
    "    x[-time_shift:] = Dati[0:time_shift]\n",
    "    x[:-time_shift] = Dati[0]\n",
    "    # x[time_shift:-1] = Dati[0:-1+time_shift]\n",
    "    print(\"\")\n",
    "print(x)"
   ]
  },
  {
   "cell_type": "code",
   "execution_count": null,
   "metadata": {},
   "outputs": [],
   "source": [
    "from obspy import UTCDateTime\n",
    "print(cosini[\"source_origin_time\"][0])\n",
    "# cos_data = datetime.time(cosini[\"source_origin_time\"][0])\n",
    "# cos_data\n",
    "utc_time = UTCDateTime(cosini[\"source_origin_time\"][0])\n",
    "print(utc_time,type(utc_time))"
   ]
  },
  {
   "cell_type": "code",
   "execution_count": null,
   "metadata": {},
   "outputs": [],
   "source": [
    "import pandas as pd\n",
    "pat = \"/home/silvia/Documents/GitHub/primoprogetto/Codici/Tentativi/More_11/Accuratezze_vari_train.csv\"\n",
    "dfpd = pd.read_csv(pat)\n",
    "dfpd"
   ]
  },
  {
   "cell_type": "code",
   "execution_count": 4,
   "metadata": {},
   "outputs": [
    {
     "data": {
      "text/html": [
       "<div>\n",
       "<style scoped>\n",
       "    .dataframe tbody tr th:only-of-type {\n",
       "        vertical-align: middle;\n",
       "    }\n",
       "\n",
       "    .dataframe tbody tr th {\n",
       "        vertical-align: top;\n",
       "    }\n",
       "\n",
       "    .dataframe thead th {\n",
       "        text-align: right;\n",
       "    }\n",
       "</style>\n",
       "<table border=\"1\" class=\"dataframe\">\n",
       "  <thead>\n",
       "    <tr style=\"text-align: right;\">\n",
       "      <th></th>\n",
       "      <th>traccia</th>\n",
       "      <th>y_mano</th>\n",
       "      <th>y_predict_More_1_0</th>\n",
       "      <th>y_predict_More_1_1</th>\n",
       "      <th>y_predict_More_1_2</th>\n",
       "      <th>y_predict_More_1_3</th>\n",
       "      <th>y_predict_More_1_4</th>\n",
       "      <th>y_predict_More_1_5</th>\n",
       "      <th>y_predict_More_1_6</th>\n",
       "      <th>y_predict_More_2_0</th>\n",
       "      <th>...</th>\n",
       "      <th>y_predict_More_7_4</th>\n",
       "      <th>y_predict_More_7_5</th>\n",
       "      <th>y_predict_More_7_6</th>\n",
       "      <th>y_predict_More_8_0</th>\n",
       "      <th>y_predict_More_8_1</th>\n",
       "      <th>y_predict_More_8_2</th>\n",
       "      <th>y_predict_More_8_3</th>\n",
       "      <th>y_predict_More_8_4</th>\n",
       "      <th>y_predict_More_8_5</th>\n",
       "      <th>y_predict_More_8_6</th>\n",
       "    </tr>\n",
       "  </thead>\n",
       "  <tbody>\n",
       "    <tr>\n",
       "      <th>0</th>\n",
       "      <td>10000541.MN.AQU..HH</td>\n",
       "      <td>unndecidable</td>\n",
       "      <td>0.586749</td>\n",
       "      <td>0.973424</td>\n",
       "      <td>0.923088</td>\n",
       "      <td>0.886617</td>\n",
       "      <td>0.102714</td>\n",
       "      <td>0.504243</td>\n",
       "      <td>0.170064</td>\n",
       "      <td>0.889234</td>\n",
       "      <td>...</td>\n",
       "      <td>0.006172</td>\n",
       "      <td>0.827665</td>\n",
       "      <td>0.796682</td>\n",
       "      <td>0.028049</td>\n",
       "      <td>0.009264</td>\n",
       "      <td>0.000669</td>\n",
       "      <td>0.992423</td>\n",
       "      <td>0.046793</td>\n",
       "      <td>0.005742</td>\n",
       "      <td>0.050022</td>\n",
       "    </tr>\n",
       "    <tr>\n",
       "      <th>1</th>\n",
       "      <td>10000541.MN.AQU..HL</td>\n",
       "      <td>unndecidable</td>\n",
       "      <td>0.063864</td>\n",
       "      <td>0.739523</td>\n",
       "      <td>0.173677</td>\n",
       "      <td>0.403535</td>\n",
       "      <td>0.042458</td>\n",
       "      <td>0.078022</td>\n",
       "      <td>0.651792</td>\n",
       "      <td>0.252036</td>\n",
       "      <td>...</td>\n",
       "      <td>0.049316</td>\n",
       "      <td>0.003000</td>\n",
       "      <td>0.019716</td>\n",
       "      <td>0.052264</td>\n",
       "      <td>0.124634</td>\n",
       "      <td>0.279739</td>\n",
       "      <td>0.001773</td>\n",
       "      <td>0.146757</td>\n",
       "      <td>0.035435</td>\n",
       "      <td>0.524560</td>\n",
       "    </tr>\n",
       "    <tr>\n",
       "      <th>2</th>\n",
       "      <td>10000541.IV.ASSB..HH</td>\n",
       "      <td>unndecidable</td>\n",
       "      <td>0.180750</td>\n",
       "      <td>0.127278</td>\n",
       "      <td>0.309272</td>\n",
       "      <td>0.380491</td>\n",
       "      <td>0.856787</td>\n",
       "      <td>0.009959</td>\n",
       "      <td>0.022691</td>\n",
       "      <td>0.001350</td>\n",
       "      <td>...</td>\n",
       "      <td>0.000168</td>\n",
       "      <td>0.022307</td>\n",
       "      <td>0.002923</td>\n",
       "      <td>0.013001</td>\n",
       "      <td>0.000907</td>\n",
       "      <td>0.025930</td>\n",
       "      <td>0.002298</td>\n",
       "      <td>0.247692</td>\n",
       "      <td>0.563482</td>\n",
       "      <td>0.711106</td>\n",
       "    </tr>\n",
       "    <tr>\n",
       "      <th>3</th>\n",
       "      <td>10000541.IV.EL6..EH</td>\n",
       "      <td>unndecidable</td>\n",
       "      <td>0.989393</td>\n",
       "      <td>0.989718</td>\n",
       "      <td>0.904490</td>\n",
       "      <td>0.833619</td>\n",
       "      <td>0.988453</td>\n",
       "      <td>0.968699</td>\n",
       "      <td>0.962836</td>\n",
       "      <td>0.843833</td>\n",
       "      <td>...</td>\n",
       "      <td>0.988588</td>\n",
       "      <td>0.951385</td>\n",
       "      <td>0.965744</td>\n",
       "      <td>0.908187</td>\n",
       "      <td>0.554442</td>\n",
       "      <td>0.920056</td>\n",
       "      <td>0.742390</td>\n",
       "      <td>0.599752</td>\n",
       "      <td>0.533053</td>\n",
       "      <td>0.755460</td>\n",
       "    </tr>\n",
       "    <tr>\n",
       "      <th>4</th>\n",
       "      <td>10000541.IV.FDMO..HH</td>\n",
       "      <td>unndecidable</td>\n",
       "      <td>0.501216</td>\n",
       "      <td>0.689533</td>\n",
       "      <td>0.127186</td>\n",
       "      <td>0.494269</td>\n",
       "      <td>0.092940</td>\n",
       "      <td>0.558397</td>\n",
       "      <td>0.806998</td>\n",
       "      <td>0.689527</td>\n",
       "      <td>...</td>\n",
       "      <td>0.943245</td>\n",
       "      <td>0.396441</td>\n",
       "      <td>0.691342</td>\n",
       "      <td>0.448937</td>\n",
       "      <td>0.063401</td>\n",
       "      <td>0.755181</td>\n",
       "      <td>0.418741</td>\n",
       "      <td>0.534009</td>\n",
       "      <td>0.998134</td>\n",
       "      <td>0.424486</td>\n",
       "    </tr>\n",
       "    <tr>\n",
       "      <th>...</th>\n",
       "      <td>...</td>\n",
       "      <td>...</td>\n",
       "      <td>...</td>\n",
       "      <td>...</td>\n",
       "      <td>...</td>\n",
       "      <td>...</td>\n",
       "      <td>...</td>\n",
       "      <td>...</td>\n",
       "      <td>...</td>\n",
       "      <td>...</td>\n",
       "      <td>...</td>\n",
       "      <td>...</td>\n",
       "      <td>...</td>\n",
       "      <td>...</td>\n",
       "      <td>...</td>\n",
       "      <td>...</td>\n",
       "      <td>...</td>\n",
       "      <td>...</td>\n",
       "      <td>...</td>\n",
       "      <td>...</td>\n",
       "      <td>...</td>\n",
       "    </tr>\n",
       "    <tr>\n",
       "      <th>922832</th>\n",
       "      <td>908231.IV.T0813..HN</td>\n",
       "      <td>unndecidable</td>\n",
       "      <td>0.794754</td>\n",
       "      <td>0.348170</td>\n",
       "      <td>0.222449</td>\n",
       "      <td>0.903840</td>\n",
       "      <td>0.730854</td>\n",
       "      <td>0.269017</td>\n",
       "      <td>0.794118</td>\n",
       "      <td>0.838145</td>\n",
       "      <td>...</td>\n",
       "      <td>0.909766</td>\n",
       "      <td>0.250950</td>\n",
       "      <td>0.834945</td>\n",
       "      <td>0.292241</td>\n",
       "      <td>0.758515</td>\n",
       "      <td>0.882502</td>\n",
       "      <td>0.058128</td>\n",
       "      <td>0.525343</td>\n",
       "      <td>0.914575</td>\n",
       "      <td>0.460997</td>\n",
       "    </tr>\n",
       "    <tr>\n",
       "      <th>922833</th>\n",
       "      <td>908231.IV.T0816..EH</td>\n",
       "      <td>unndecidable</td>\n",
       "      <td>0.991333</td>\n",
       "      <td>0.999737</td>\n",
       "      <td>0.503504</td>\n",
       "      <td>0.692457</td>\n",
       "      <td>0.994282</td>\n",
       "      <td>0.983192</td>\n",
       "      <td>0.977810</td>\n",
       "      <td>0.994265</td>\n",
       "      <td>...</td>\n",
       "      <td>0.999283</td>\n",
       "      <td>0.993226</td>\n",
       "      <td>0.998688</td>\n",
       "      <td>0.999445</td>\n",
       "      <td>0.999941</td>\n",
       "      <td>0.999827</td>\n",
       "      <td>0.998664</td>\n",
       "      <td>0.999827</td>\n",
       "      <td>0.999800</td>\n",
       "      <td>0.992914</td>\n",
       "    </tr>\n",
       "    <tr>\n",
       "      <th>922834</th>\n",
       "      <td>908231.IV.T0816..HN</td>\n",
       "      <td>unndecidable</td>\n",
       "      <td>0.999873</td>\n",
       "      <td>0.999724</td>\n",
       "      <td>0.998628</td>\n",
       "      <td>0.998245</td>\n",
       "      <td>0.999932</td>\n",
       "      <td>0.999670</td>\n",
       "      <td>0.998996</td>\n",
       "      <td>0.996096</td>\n",
       "      <td>...</td>\n",
       "      <td>0.999626</td>\n",
       "      <td>0.999532</td>\n",
       "      <td>0.999560</td>\n",
       "      <td>0.999372</td>\n",
       "      <td>0.999647</td>\n",
       "      <td>0.999364</td>\n",
       "      <td>0.999917</td>\n",
       "      <td>0.998792</td>\n",
       "      <td>0.999566</td>\n",
       "      <td>0.999460</td>\n",
       "    </tr>\n",
       "    <tr>\n",
       "      <th>922835</th>\n",
       "      <td>908231.IV.T0817..EH</td>\n",
       "      <td>unndecidable</td>\n",
       "      <td>0.438656</td>\n",
       "      <td>0.821389</td>\n",
       "      <td>0.521053</td>\n",
       "      <td>0.484139</td>\n",
       "      <td>0.355468</td>\n",
       "      <td>0.240976</td>\n",
       "      <td>0.861950</td>\n",
       "      <td>0.969731</td>\n",
       "      <td>...</td>\n",
       "      <td>0.983237</td>\n",
       "      <td>0.987787</td>\n",
       "      <td>0.944324</td>\n",
       "      <td>0.320089</td>\n",
       "      <td>0.320729</td>\n",
       "      <td>0.882744</td>\n",
       "      <td>0.959786</td>\n",
       "      <td>0.933525</td>\n",
       "      <td>0.864828</td>\n",
       "      <td>0.976707</td>\n",
       "    </tr>\n",
       "    <tr>\n",
       "      <th>922836</th>\n",
       "      <td>908231.IV.T0817..HN</td>\n",
       "      <td>unndecidable</td>\n",
       "      <td>0.548212</td>\n",
       "      <td>0.141886</td>\n",
       "      <td>0.574043</td>\n",
       "      <td>0.228992</td>\n",
       "      <td>0.406012</td>\n",
       "      <td>0.394071</td>\n",
       "      <td>0.629519</td>\n",
       "      <td>0.790533</td>\n",
       "      <td>...</td>\n",
       "      <td>0.547746</td>\n",
       "      <td>0.145903</td>\n",
       "      <td>0.502894</td>\n",
       "      <td>0.050254</td>\n",
       "      <td>0.034162</td>\n",
       "      <td>0.098148</td>\n",
       "      <td>0.676874</td>\n",
       "      <td>0.428402</td>\n",
       "      <td>0.035156</td>\n",
       "      <td>0.046293</td>\n",
       "    </tr>\n",
       "  </tbody>\n",
       "</table>\n",
       "<p>922837 rows × 58 columns</p>\n",
       "</div>"
      ],
      "text/plain": [
       "                     traccia        y_mano  y_predict_More_1_0  \\\n",
       "0        10000541.MN.AQU..HH  unndecidable            0.586749   \n",
       "1        10000541.MN.AQU..HL  unndecidable            0.063864   \n",
       "2       10000541.IV.ASSB..HH  unndecidable            0.180750   \n",
       "3        10000541.IV.EL6..EH  unndecidable            0.989393   \n",
       "4       10000541.IV.FDMO..HH  unndecidable            0.501216   \n",
       "...                      ...           ...                 ...   \n",
       "922832   908231.IV.T0813..HN  unndecidable            0.794754   \n",
       "922833   908231.IV.T0816..EH  unndecidable            0.991333   \n",
       "922834   908231.IV.T0816..HN  unndecidable            0.999873   \n",
       "922835   908231.IV.T0817..EH  unndecidable            0.438656   \n",
       "922836   908231.IV.T0817..HN  unndecidable            0.548212   \n",
       "\n",
       "        y_predict_More_1_1  y_predict_More_1_2  y_predict_More_1_3  \\\n",
       "0                 0.973424            0.923088            0.886617   \n",
       "1                 0.739523            0.173677            0.403535   \n",
       "2                 0.127278            0.309272            0.380491   \n",
       "3                 0.989718            0.904490            0.833619   \n",
       "4                 0.689533            0.127186            0.494269   \n",
       "...                    ...                 ...                 ...   \n",
       "922832            0.348170            0.222449            0.903840   \n",
       "922833            0.999737            0.503504            0.692457   \n",
       "922834            0.999724            0.998628            0.998245   \n",
       "922835            0.821389            0.521053            0.484139   \n",
       "922836            0.141886            0.574043            0.228992   \n",
       "\n",
       "        y_predict_More_1_4  y_predict_More_1_5  y_predict_More_1_6  \\\n",
       "0                 0.102714            0.504243            0.170064   \n",
       "1                 0.042458            0.078022            0.651792   \n",
       "2                 0.856787            0.009959            0.022691   \n",
       "3                 0.988453            0.968699            0.962836   \n",
       "4                 0.092940            0.558397            0.806998   \n",
       "...                    ...                 ...                 ...   \n",
       "922832            0.730854            0.269017            0.794118   \n",
       "922833            0.994282            0.983192            0.977810   \n",
       "922834            0.999932            0.999670            0.998996   \n",
       "922835            0.355468            0.240976            0.861950   \n",
       "922836            0.406012            0.394071            0.629519   \n",
       "\n",
       "        y_predict_More_2_0  ...  y_predict_More_7_4  y_predict_More_7_5  \\\n",
       "0                 0.889234  ...            0.006172            0.827665   \n",
       "1                 0.252036  ...            0.049316            0.003000   \n",
       "2                 0.001350  ...            0.000168            0.022307   \n",
       "3                 0.843833  ...            0.988588            0.951385   \n",
       "4                 0.689527  ...            0.943245            0.396441   \n",
       "...                    ...  ...                 ...                 ...   \n",
       "922832            0.838145  ...            0.909766            0.250950   \n",
       "922833            0.994265  ...            0.999283            0.993226   \n",
       "922834            0.996096  ...            0.999626            0.999532   \n",
       "922835            0.969731  ...            0.983237            0.987787   \n",
       "922836            0.790533  ...            0.547746            0.145903   \n",
       "\n",
       "        y_predict_More_7_6  y_predict_More_8_0  y_predict_More_8_1  \\\n",
       "0                 0.796682            0.028049            0.009264   \n",
       "1                 0.019716            0.052264            0.124634   \n",
       "2                 0.002923            0.013001            0.000907   \n",
       "3                 0.965744            0.908187            0.554442   \n",
       "4                 0.691342            0.448937            0.063401   \n",
       "...                    ...                 ...                 ...   \n",
       "922832            0.834945            0.292241            0.758515   \n",
       "922833            0.998688            0.999445            0.999941   \n",
       "922834            0.999560            0.999372            0.999647   \n",
       "922835            0.944324            0.320089            0.320729   \n",
       "922836            0.502894            0.050254            0.034162   \n",
       "\n",
       "        y_predict_More_8_2  y_predict_More_8_3  y_predict_More_8_4  \\\n",
       "0                 0.000669            0.992423            0.046793   \n",
       "1                 0.279739            0.001773            0.146757   \n",
       "2                 0.025930            0.002298            0.247692   \n",
       "3                 0.920056            0.742390            0.599752   \n",
       "4                 0.755181            0.418741            0.534009   \n",
       "...                    ...                 ...                 ...   \n",
       "922832            0.882502            0.058128            0.525343   \n",
       "922833            0.999827            0.998664            0.999827   \n",
       "922834            0.999364            0.999917            0.998792   \n",
       "922835            0.882744            0.959786            0.933525   \n",
       "922836            0.098148            0.676874            0.428402   \n",
       "\n",
       "        y_predict_More_8_5  y_predict_More_8_6  \n",
       "0                 0.005742            0.050022  \n",
       "1                 0.035435            0.524560  \n",
       "2                 0.563482            0.711106  \n",
       "3                 0.533053            0.755460  \n",
       "4                 0.998134            0.424486  \n",
       "...                    ...                 ...  \n",
       "922832            0.914575            0.460997  \n",
       "922833            0.999800            0.992914  \n",
       "922834            0.999566            0.999460  \n",
       "922835            0.864828            0.976707  \n",
       "922836            0.035156            0.046293  \n",
       "\n",
       "[922837 rows x 58 columns]"
      ]
     },
     "execution_count": 4,
     "metadata": {},
     "output_type": "execute_result"
    }
   ],
   "source": [
    "# Unisci predizioni bag\n",
    "import pandas as pd\n",
    "\n",
    "pred = [\"/home/silvia/Documents/GitHub/primoprogetto/Codici/Tentativi/More_1/0/Predizioni_Instance_Undecidable_More_1_0.csv\",\n",
    " \"/home/silvia/Documents/GitHub/primoprogetto/Codici/Tentativi/More_1/1/Predizioni_Instance_Undecidable_More_1_1.csv\",\n",
    " \"/home/silvia/Documents/GitHub/primoprogetto/Codici/Tentativi/More_1/2/Predizioni_Instance_Undecidable_More_1_2.csv\",\n",
    " \"/home/silvia/Documents/GitHub/primoprogetto/Codici/Tentativi/More_1/3/Predizioni_Instance_Undecidable_More_1_3.csv\",\n",
    " \"/home/silvia/Documents/GitHub/primoprogetto/Codici/Tentativi/More_1/4/Predizioni_Instance_Undecidable_More_1_4.csv\",\n",
    " \"/home/silvia/Documents/GitHub/primoprogetto/Codici/Tentativi/More_1/5/Predizioni_Instance_Undecidable_More_1_5.csv\",\n",
    " \"/home/silvia/Documents/GitHub/primoprogetto/Codici/Tentativi/More_1/6/Predizioni_Instance_Undecidable_More_1_6.csv\",\n",
    " \"/home/silvia/Documents/GitHub/primoprogetto/Codici/Tentativi/More_2/0/Predizioni_Instance_Undecidable_More_2_0.csv\",\n",
    " \"/home/silvia/Documents/GitHub/primoprogetto/Codici/Tentativi/More_2/1/Predizioni_Instance_Undecidable_More_2_1.csv\",\n",
    " \"/home/silvia/Documents/GitHub/primoprogetto/Codici/Tentativi/More_2/2/Predizioni_Instance_Undecidable_More_2_2.csv\",\n",
    " \"/home/silvia/Documents/GitHub/primoprogetto/Codici/Tentativi/More_2/3/Predizioni_Instance_Undecidable_More_2_3.csv\",\n",
    " \"/home/silvia/Documents/GitHub/primoprogetto/Codici/Tentativi/More_2/4/Predizioni_Instance_Undecidable_More_2_4.csv\",\n",
    " \"/home/silvia/Documents/GitHub/primoprogetto/Codici/Tentativi/More_2/5/Predizioni_Instance_Undecidable_More_2_5.csv\",\n",
    " \"/home/silvia/Documents/GitHub/primoprogetto/Codici/Tentativi/More_2/6/Predizioni_Instance_Undecidable_More_2_6.csv\",\n",
    " \"/home/silvia/Documents/GitHub/primoprogetto/Codici/Tentativi/More_3/0/Predizioni_Instance_Undecidable_More_3_0.csv\",\n",
    " \"/home/silvia/Documents/GitHub/primoprogetto/Codici/Tentativi/More_3/1/Predizioni_Instance_Undecidable_More_3_1.csv\",\n",
    " \"/home/silvia/Documents/GitHub/primoprogetto/Codici/Tentativi/More_3/2/Predizioni_Instance_Undecidable_More_3_2.csv\",\n",
    " \"/home/silvia/Documents/GitHub/primoprogetto/Codici/Tentativi/More_3/3/Predizioni_Instance_Undecidable_More_3_3.csv\",\n",
    " \"/home/silvia/Documents/GitHub/primoprogetto/Codici/Tentativi/More_3/4/Predizioni_Instance_Undecidable_More_3_4.csv\",\n",
    " \"/home/silvia/Documents/GitHub/primoprogetto/Codici/Tentativi/More_3/5/Predizioni_Instance_Undecidable_More_3_5.csv\",\n",
    " \"/home/silvia/Documents/GitHub/primoprogetto/Codici/Tentativi/More_3/6/Predizioni_Instance_Undecidable_More_3_6.csv\",\n",
    " \"/home/silvia/Documents/GitHub/primoprogetto/Codici/Tentativi/More_4/0/Predizioni_Instance_Undecidable_More_4_0.csv\",\n",
    " \"/home/silvia/Documents/GitHub/primoprogetto/Codici/Tentativi/More_4/1/Predizioni_Instance_Undecidable_More_4_1.csv\",\n",
    " \"/home/silvia/Documents/GitHub/primoprogetto/Codici/Tentativi/More_4/2/Predizioni_Instance_Undecidable_More_4_2.csv\",\n",
    " \"/home/silvia/Documents/GitHub/primoprogetto/Codici/Tentativi/More_4/3/Predizioni_Instance_Undecidable_More_4_3.csv\",\n",
    " \"/home/silvia/Documents/GitHub/primoprogetto/Codici/Tentativi/More_4/4/Predizioni_Instance_Undecidable_More_4_4.csv\",\n",
    " \"/home/silvia/Documents/GitHub/primoprogetto/Codici/Tentativi/More_4/5/Predizioni_Instance_Undecidable_More_4_5.csv\",\n",
    " \"/home/silvia/Documents/GitHub/primoprogetto/Codici/Tentativi/More_4/6/Predizioni_Instance_Undecidable_More_4_6.csv\",\n",
    " \"/home/silvia/Documents/GitHub/primoprogetto/Codici/Tentativi/More_5/0/Predizioni_Instance_Undecidable_More_5_0.csv\",\n",
    " \"/home/silvia/Documents/GitHub/primoprogetto/Codici/Tentativi/More_5/1/Predizioni_Instance_Undecidable_More_5_1.csv\",\n",
    " \"/home/silvia/Documents/GitHub/primoprogetto/Codici/Tentativi/More_5/2/Predizioni_Instance_Undecidable_More_5_2.csv\",\n",
    " \"/home/silvia/Documents/GitHub/primoprogetto/Codici/Tentativi/More_5/3/Predizioni_Instance_Undecidable_More_5_3.csv\",\n",
    " \"/home/silvia/Documents/GitHub/primoprogetto/Codici/Tentativi/More_5/4/Predizioni_Instance_Undecidable_More_5_4.csv\",\n",
    " \"/home/silvia/Documents/GitHub/primoprogetto/Codici/Tentativi/More_5/5/Predizioni_Instance_Undecidable_More_5_5.csv\",\n",
    " \"/home/silvia/Documents/GitHub/primoprogetto/Codici/Tentativi/More_5/6/Predizioni_Instance_Undecidable_More_5_6.csv\",\n",
    " \"/home/silvia/Documents/GitHub/primoprogetto/Codici/Tentativi/More_6/0/Predizioni_Instance_Undecidable_More_6_0.csv\",\n",
    " \"/home/silvia/Documents/GitHub/primoprogetto/Codici/Tentativi/More_6/1/Predizioni_Instance_Undecidable_More_6_1.csv\",\n",
    " \"/home/silvia/Documents/GitHub/primoprogetto/Codici/Tentativi/More_6/2/Predizioni_Instance_Undecidable_More_6_2.csv\",\n",
    " \"/home/silvia/Documents/GitHub/primoprogetto/Codici/Tentativi/More_6/3/Predizioni_Instance_Undecidable_More_6_3.csv\",\n",
    " \"/home/silvia/Documents/GitHub/primoprogetto/Codici/Tentativi/More_6/4/Predizioni_Instance_Undecidable_More_6_4.csv\",\n",
    " \"/home/silvia/Documents/GitHub/primoprogetto/Codici/Tentativi/More_6/5/Predizioni_Instance_Undecidable_More_6_5.csv\",\n",
    " \"/home/silvia/Documents/GitHub/primoprogetto/Codici/Tentativi/More_6/6/Predizioni_Instance_Undecidable_More_6_6.csv\",\n",
    " ]+ [\"/home/silvia/Documents/GitHub/primoprogetto/Codici/Tentativi/More_7/0/Predizioni_Instance_Undecidable_More_7_0.csv\",\n",
    " \"/home/silvia/Documents/GitHub/primoprogetto/Codici/Tentativi/More_7/1/Predizioni_Instance_Undecidable_More_7_1.csv\",\n",
    " \"/home/silvia/Documents/GitHub/primoprogetto/Codici/Tentativi/More_7/2/Predizioni_Instance_Undecidable_More_7_2.csv\",\n",
    " \"/home/silvia/Documents/GitHub/primoprogetto/Codici/Tentativi/More_7/3/Predizioni_Instance_Undecidable_More_7_3.csv\",\n",
    " \"/home/silvia/Documents/GitHub/primoprogetto/Codici/Tentativi/More_7/4/Predizioni_Instance_Undecidable_More_7_4.csv\",\n",
    " \"/home/silvia/Documents/GitHub/primoprogetto/Codici/Tentativi/More_7/5/Predizioni_Instance_Undecidable_More_7_5.csv\",\n",
    " \"/home/silvia/Documents/GitHub/primoprogetto/Codici/Tentativi/More_7/6/Predizioni_Instance_Undecidable_More_7_6.csv\",\n",
    " \"/home/silvia/Documents/GitHub/primoprogetto/Codici/Tentativi/More_8/0/Predizioni_Instance_Undecidable_More_8_0.csv\",\n",
    " \"/home/silvia/Documents/GitHub/primoprogetto/Codici/Tentativi/More_8/1/Predizioni_Instance_Undecidable_More_8_1.csv\",\n",
    " \"/home/silvia/Documents/GitHub/primoprogetto/Codici/Tentativi/More_8/2/Predizioni_Instance_Undecidable_More_8_2.csv\",\n",
    " \"/home/silvia/Documents/GitHub/primoprogetto/Codici/Tentativi/More_8/3/Predizioni_Instance_Undecidable_More_8_3.csv\",\n",
    " \"/home/silvia/Documents/GitHub/primoprogetto/Codici/Tentativi/More_8/4/Predizioni_Instance_Undecidable_More_8_4.csv\",\n",
    " \"/home/silvia/Documents/GitHub/primoprogetto/Codici/Tentativi/More_8/5/Predizioni_Instance_Undecidable_More_8_5.csv\",\n",
    " \"/home/silvia/Documents/GitHub/primoprogetto/Codici/Tentativi/More_8/6/Predizioni_Instance_Undecidable_More_8_6.csv\",\n",
    "]\n",
    "#  \"/home/silvia/Documents/GitHub/primoprogetto/Codici/Tentativi/More_9/0/Predizioni_Instance_Undecidable_More_9_0.csv\",\n",
    "#  \"/home/silvia/Documents/GitHub/primoprogetto/Codici/Tentativi/More_9/1/Predizioni_Instance_Undecidable_More_9_1.csv\",\n",
    "#  \"/home/silvia/Documents/GitHub/primoprogetto/Codici/Tentativi/More_9/2/Predizioni_Instance_Undecidable_More_9_2.csv\",\n",
    "#  \"/home/silvia/Documents/GitHub/primoprogetto/Codici/Tentativi/More_9/3/Predizioni_Instance_Undecidable_More_9_3.csv\",\n",
    "#  \"/home/silvia/Documents/GitHub/primoprogetto/Codici/Tentativi/More_9/4/Predizioni_Instance_Undecidable_More_9_4.csv\",\n",
    "#  \"/home/silvia/Documents/GitHub/primoprogetto/Codici/Tentativi/More_9/5/Predizioni_Instance_Undecidable_More_9_5.csv\",\n",
    "#  \"/home/silvia/Documents/GitHub/primoprogetto/Codici/Tentativi/More_9/6/Predizioni_Instance_Undecidable_More_9_6.csv\",\n",
    "#  \"/home/silvia/Documents/GitHub/primoprogetto/Codici/Tentativi/More_10/0/Predizioni_Instance_Undecidable_More_10_0.csv\",\n",
    "#  \"/home/silvia/Documents/GitHub/primoprogetto/Codici/Tentativi/More_10/1/Predizioni_Instance_Undecidable_More_10_1.csv\",\n",
    "#  \"/home/silvia/Documents/GitHub/primoprogetto/Codici/Tentativi/More_10/2/Predizioni_Instance_Undecidable_More_10_2.csv\",\n",
    "#  \"/home/silvia/Documents/GitHub/primoprogetto/Codici/Tentativi/More_10/3/Predizioni_Instance_Undecidable_More_10_3.csv\",\n",
    "#  \"/home/silvia/Documents/GitHub/primoprogetto/Codici/Tentativi/More_10/4/Predizioni_Instance_Undecidable_More_10_4.csv\",\n",
    "#  \"/home/silvia/Documents/GitHub/primoprogetto/Codici/Tentativi/More_10/5/Predizioni_Instance_Undecidable_More_10_5.csv\",\n",
    "#  \"/home/silvia/Documents/GitHub/primoprogetto/Codici/Tentativi/More_10/6/Predizioni_Instance_Undecidable_More_10_6.csv\",\n",
    "predizioni = [0 for i in range(56)]\n",
    "\n",
    "for i, p in enumerate(pred):\n",
    "    predizioni[i] = pd.read_csv(p)\n",
    "\n",
    "for i, p in enumerate(predizioni):\n",
    "    p[f\"y_predict_More_{i//7+1}_{i%7}\"] =  p[f\"y_predict\"] \n",
    "    \n",
    "newdataframe = pd.DataFrame.from_dict(predizioni[0][\"traccia\"])\n",
    "newdataframe[\"y_mano\"] = \"unndecidable\"\n",
    "for i, p in enumerate(predizioni):\n",
    "    newdataframe[f\"y_predict_More_{i//7+1}_{i%7}\"] =p[f\"y_predict_More_{i//7+1}_{i%7}\"] \n",
    "newdataframe.to_csv(\"/home/silvia/Documents/GitHub/primoprogetto/Codici/Tentativi/Bag_predictions/Predizioni_Instance_undecidable_more1_to_more10.csv\")\n",
    "newdataframe"
   ]
  },
  {
   "cell_type": "code",
   "execution_count": null,
   "metadata": {},
   "outputs": [],
   "source": [
    "import pandas as pd\n",
    "pat = \"/home/silvia/Documents/GitHub/primoprogetto/Codici/Tentativi/Bag_predictions/Predizioni_Instance_undecidable_more1_to_more10.csv\"\n",
    "dfpd = pd.read_csv(pat)\n",
    "dfpd"
   ]
  },
  {
   "attachments": {},
   "cell_type": "markdown",
   "metadata": {},
   "source": [
    "# Check if ross pick and ross fmp have common traces\n",
    "Si, hanno tracce comuni. Vedi la 4a ([3]) di fm test e la 458242a ([458243]) di pick test"
   ]
  },
  {
   "cell_type": "code",
   "execution_count": 1,
   "metadata": {},
   "outputs": [],
   "source": [
    "import h5py\n",
    "h5pik = h5py.File(\"/home/silvia/Desktop/SCSN(Ross)/scsn_p_2000_2017_6sec_0.5r_pick_test.hdf5\",\"r\")\n",
    "h5fmp = h5py.File(\"/home/silvia/Desktop/SCSN(Ross)/scsn_p_2000_2017_6sec_0.5r_fm_test.hdf5\",\"r\")"
   ]
  },
  {
   "cell_type": "code",
   "execution_count": 7,
   "metadata": {},
   "outputs": [],
   "source": [
    "fmp_sncls= h5fmp.get(\"sncls\")\n",
    "fmp_snr = h5fmp.get(\"snr\")\n",
    "fmp_mag = h5fmp.get(\"mag\")\n",
    "fmp_evids = h5fmp.get(\"evids\")\n",
    "fmp_dist = h5fmp.get(\"dist\")\n",
    "\n",
    "\n",
    "\n",
    "pik_sncls= h5pik.get(\"sncls\")\n",
    "pik_snr = h5pik.get(\"snr\")\n",
    "pik_mag = h5pik.get(\"mag\")\n",
    "pik_evids = h5pik.get(\"evids\")\n",
    "pik_dist = h5pik.get(\"dist\")\n"
   ]
  },
  {
   "cell_type": "code",
   "execution_count": 14,
   "metadata": {},
   "outputs": [],
   "source": [
    "import pandas as pd\n",
    "fmp_df = pd.DataFrame.from_dict({\"sncls\": fmp_sncls, \"snr\": fmp_snr, \"mag\": fmp_mag, \"evids\": fmp_evids, \"dist\":fmp_dist}) # 2353054\n",
    "pik_df = pd.DataFrame.from_dict({\"sncls\": pik_sncls, \"snr\": pik_snr, \"mag\": pik_mag, \"evids\": pik_evids, \"dist\":pik_dist}) # 1211812"
   ]
  },
  {
   "cell_type": "code",
   "execution_count": 18,
   "metadata": {},
   "outputs": [
    {
     "name": "stdout",
     "output_type": "stream",
     "text": [
      "                  sncls        snr       mag     evids       dist\n",
      "0         b'CI.LMS.HHZ'  27.502840  1.980469  37439407  31.125000\n",
      "1         b'CI.DGR.HHZ'   5.347967  0.770020  37500136  72.312500\n",
      "2        b'PB.B916.EHZ'  48.435081  1.129883  15334409  13.296875\n",
      "3         b'CI.LKH.HHZ'  13.286337  1.000000  37284992  41.687500\n",
      "4         b'CI.WJP.EHZ'   2.310958  1.530273  11671064  83.125000\n",
      "...                 ...        ...       ...       ...        ...\n",
      "1211807  b'NP.5481.EHZ'   3.707705  1.459961  37275279  61.562500\n",
      "1211808   b'AZ.CRY.HHZ'   5.719970  0.330078  37476135  11.640625\n",
      "1211809   b'AZ.CRY.HHZ'  73.739113  0.930176  14086868  18.312500\n",
      "1211810   b'CI.PLM.HHZ'   1.178673  0.640137  11127714  35.062500\n",
      "1211811   b'CI.CJV.EHZ'  17.047503  2.720703  15334521  68.125000\n",
      "\n",
      "[3564866 rows x 5 columns]\n"
     ]
    },
    {
     "name": "stderr",
     "output_type": "stream",
     "text": [
      "/tmp/ipykernel_2050146/2736830831.py:1: FutureWarning: The frame.append method is deprecated and will be removed from pandas in a future version. Use pandas.concat instead.\n",
      "  tot_df = fmp_df.append(pik_df)\n"
     ]
    }
   ],
   "source": [
    "tot_df = fmp_df.append(pik_df) # i primi 2353054 sono fmp , poi pik\n",
    "print(tot_df)"
   ]
  },
  {
   "cell_type": "code",
   "execution_count": 23,
   "metadata": {},
   "outputs": [],
   "source": [
    "duplicates_pik = pik_df.duplicated()\n",
    "True in list(duplicates_pik)\n",
    "duplicate_indexes_pik = pik_df[pik_df.duplicated(keep=False)].index"
   ]
  },
  {
   "cell_type": "code",
   "execution_count": 28,
   "metadata": {},
   "outputs": [
    {
     "name": "stdout",
     "output_type": "stream",
     "text": [
      "sncls    b'CI.THC.EHZ'\n",
      "snr          76.872917\n",
      "mag           1.700195\n",
      "evids         10206469\n",
      "dist         19.796875\n",
      "Name: 56, dtype: object\n",
      "\n",
      "\n",
      " sncls    b'CI.THC.EHZ'\n",
      "snr          76.872917\n",
      "mag           1.700195\n",
      "evids         10206469\n",
      "dist         19.796875\n",
      "Name: 76872, dtype: object\n"
     ]
    }
   ],
   "source": [
    "print(pik_df.iloc[56])\n",
    "print(\"\\n\\n\",pik_df.iloc[76872])"
   ]
  },
  {
   "cell_type": "code",
   "execution_count": 46,
   "metadata": {},
   "outputs": [],
   "source": [
    "tot_df.index = range(len(tot_df.index))\n",
    "duplicate_indexes_tot = tot_df[tot_df.duplicated(keep=False)].index\n"
   ]
  },
  {
   "cell_type": "code",
   "execution_count": 45,
   "metadata": {},
   "outputs": [
    {
     "data": {
      "text/html": [
       "<div>\n",
       "<style scoped>\n",
       "    .dataframe tbody tr th:only-of-type {\n",
       "        vertical-align: middle;\n",
       "    }\n",
       "\n",
       "    .dataframe tbody tr th {\n",
       "        vertical-align: top;\n",
       "    }\n",
       "\n",
       "    .dataframe thead th {\n",
       "        text-align: right;\n",
       "    }\n",
       "</style>\n",
       "<table border=\"1\" class=\"dataframe\">\n",
       "  <thead>\n",
       "    <tr style=\"text-align: right;\">\n",
       "      <th></th>\n",
       "      <th>sncls</th>\n",
       "      <th>snr</th>\n",
       "      <th>mag</th>\n",
       "      <th>evids</th>\n",
       "      <th>dist</th>\n",
       "    </tr>\n",
       "  </thead>\n",
       "  <tbody>\n",
       "    <tr>\n",
       "      <th>0</th>\n",
       "      <td>b'CI.LMS.HHZ'</td>\n",
       "      <td>27.502840</td>\n",
       "      <td>1.980469</td>\n",
       "      <td>37439407</td>\n",
       "      <td>31.125000</td>\n",
       "    </tr>\n",
       "    <tr>\n",
       "      <th>1</th>\n",
       "      <td>b'CI.DGR.HHZ'</td>\n",
       "      <td>5.347967</td>\n",
       "      <td>0.770020</td>\n",
       "      <td>37500136</td>\n",
       "      <td>72.312500</td>\n",
       "    </tr>\n",
       "    <tr>\n",
       "      <th>2</th>\n",
       "      <td>b'PB.B916.EHZ'</td>\n",
       "      <td>48.435081</td>\n",
       "      <td>1.129883</td>\n",
       "      <td>15334409</td>\n",
       "      <td>13.296875</td>\n",
       "    </tr>\n",
       "    <tr>\n",
       "      <th>3</th>\n",
       "      <td>b'CI.LKH.HHZ'</td>\n",
       "      <td>13.286337</td>\n",
       "      <td>1.000000</td>\n",
       "      <td>37284992</td>\n",
       "      <td>41.687500</td>\n",
       "    </tr>\n",
       "    <tr>\n",
       "      <th>4</th>\n",
       "      <td>b'CI.WJP.EHZ'</td>\n",
       "      <td>2.310958</td>\n",
       "      <td>1.530273</td>\n",
       "      <td>11671064</td>\n",
       "      <td>83.125000</td>\n",
       "    </tr>\n",
       "    <tr>\n",
       "      <th>...</th>\n",
       "      <td>...</td>\n",
       "      <td>...</td>\n",
       "      <td>...</td>\n",
       "      <td>...</td>\n",
       "      <td>...</td>\n",
       "    </tr>\n",
       "    <tr>\n",
       "      <th>3564861</th>\n",
       "      <td>b'NP.5481.EHZ'</td>\n",
       "      <td>3.707705</td>\n",
       "      <td>1.459961</td>\n",
       "      <td>37275279</td>\n",
       "      <td>61.562500</td>\n",
       "    </tr>\n",
       "    <tr>\n",
       "      <th>3564862</th>\n",
       "      <td>b'AZ.CRY.HHZ'</td>\n",
       "      <td>5.719970</td>\n",
       "      <td>0.330078</td>\n",
       "      <td>37476135</td>\n",
       "      <td>11.640625</td>\n",
       "    </tr>\n",
       "    <tr>\n",
       "      <th>3564863</th>\n",
       "      <td>b'AZ.CRY.HHZ'</td>\n",
       "      <td>73.739113</td>\n",
       "      <td>0.930176</td>\n",
       "      <td>14086868</td>\n",
       "      <td>18.312500</td>\n",
       "    </tr>\n",
       "    <tr>\n",
       "      <th>3564864</th>\n",
       "      <td>b'CI.PLM.HHZ'</td>\n",
       "      <td>1.178673</td>\n",
       "      <td>0.640137</td>\n",
       "      <td>11127714</td>\n",
       "      <td>35.062500</td>\n",
       "    </tr>\n",
       "    <tr>\n",
       "      <th>3564865</th>\n",
       "      <td>b'CI.CJV.EHZ'</td>\n",
       "      <td>17.047503</td>\n",
       "      <td>2.720703</td>\n",
       "      <td>15334521</td>\n",
       "      <td>68.125000</td>\n",
       "    </tr>\n",
       "  </tbody>\n",
       "</table>\n",
       "<p>3564866 rows × 5 columns</p>\n",
       "</div>"
      ],
      "text/plain": [
       "                  sncls        snr       mag     evids       dist\n",
       "0         b'CI.LMS.HHZ'  27.502840  1.980469  37439407  31.125000\n",
       "1         b'CI.DGR.HHZ'   5.347967  0.770020  37500136  72.312500\n",
       "2        b'PB.B916.EHZ'  48.435081  1.129883  15334409  13.296875\n",
       "3         b'CI.LKH.HHZ'  13.286337  1.000000  37284992  41.687500\n",
       "4         b'CI.WJP.EHZ'   2.310958  1.530273  11671064  83.125000\n",
       "...                 ...        ...       ...       ...        ...\n",
       "3564861  b'NP.5481.EHZ'   3.707705  1.459961  37275279  61.562500\n",
       "3564862   b'AZ.CRY.HHZ'   5.719970  0.330078  37476135  11.640625\n",
       "3564863   b'AZ.CRY.HHZ'  73.739113  0.930176  14086868  18.312500\n",
       "3564864   b'CI.PLM.HHZ'   1.178673  0.640137  11127714  35.062500\n",
       "3564865   b'CI.CJV.EHZ'  17.047503  2.720703  15334521  68.125000\n",
       "\n",
       "[3564866 rows x 5 columns]"
      ]
     },
     "execution_count": 45,
     "metadata": {},
     "output_type": "execute_result"
    }
   ],
   "source": [
    "tot_df"
   ]
  },
  {
   "cell_type": "code",
   "execution_count": 47,
   "metadata": {},
   "outputs": [],
   "source": [
    "sorted = duplicate_indexes_tot.sort_values()\n",
    "cond = True\n",
    "for i in range(len(sorted)):\n",
    "    if sorted[i] != duplicate_indexes_tot[i]:\n",
    "        print(i)\n",
    "        cond = False\n",
    "        exit"
   ]
  },
  {
   "cell_type": "code",
   "execution_count": 52,
   "metadata": {},
   "outputs": [
    {
     "data": {
      "text/plain": [
       "Int64Index([      3,      12,      25,      39,      40,      44,      47,\n",
       "                 51,      52,      57,\n",
       "            ...\n",
       "            3564848, 3564852, 3564853, 3564854, 3564855, 3564858, 3564859,\n",
       "            3564861, 3564862, 3564865],\n",
       "           dtype='int64', length=1190549)"
      ]
     },
     "execution_count": 52,
     "metadata": {},
     "output_type": "execute_result"
    }
   ],
   "source": [
    "sorted"
   ]
  },
  {
   "cell_type": "code",
   "execution_count": 22,
   "metadata": {},
   "outputs": [
    {
     "data": {
      "text/plain": [
       "False"
      ]
     },
     "execution_count": 22,
     "metadata": {},
     "output_type": "execute_result"
    }
   ],
   "source": [
    "df_appended_dupli = df_appended.duplicated()\n",
    "True in list(df_appended_dupli)"
   ]
  },
  {
   "cell_type": "code",
   "execution_count": 53,
   "metadata": {},
   "outputs": [
    {
     "data": {
      "text/plain": [
       "[3, 2811296]"
      ]
     },
     "execution_count": 53,
     "metadata": {},
     "output_type": "execute_result"
    }
   ],
   "source": [
    "matching_indexes = tot_df.index[tot_df.isin(tot_df.iloc[3].values).all(axis=1)].tolist()\n",
    "matching_indexes\n",
    "2353054"
   ]
  },
  {
   "cell_type": "code",
   "execution_count": 57,
   "metadata": {},
   "outputs": [
    {
     "name": "stdout",
     "output_type": "stream",
     "text": [
      "sncls    b'CI.LKH.HHZ'\n",
      "snr          13.286337\n",
      "mag                1.0\n",
      "evids         37284992\n",
      "dist           41.6875\n",
      "Name: 3, dtype: object\n",
      "\n",
      "\n",
      " sncls    b'CI.LKH.HHZ'\n",
      "snr          13.286337\n",
      "mag                1.0\n",
      "evids         37284992\n",
      "dist           41.6875\n",
      "Name: 2811296, dtype: object\n",
      "\n",
      "\n",
      " sncls    b'CI.LKH.HHZ'\n",
      "snr          13.286337\n",
      "mag                1.0\n",
      "evids         37284992\n",
      "dist           41.6875\n",
      "Name: 458242, dtype: object\n"
     ]
    }
   ],
   "source": [
    "print(tot_df.iloc[3])\n",
    "print(\"\\n\\n\",tot_df.iloc[2811296])\n",
    "# print(\"\\n\\n\",fmp_df.iloc[3])\n",
    "print(\"\\n\\n\",pik_df.iloc[2811296-2353054])"
   ]
  },
  {
   "cell_type": "code",
   "execution_count": 59,
   "metadata": {},
   "outputs": [],
   "source": [
    "fmp_data = h5fmp.get(\"X\")\n",
    "pik_data = h5pik.get(\"X\")\n"
   ]
  },
  {
   "cell_type": "code",
   "execution_count": 65,
   "metadata": {},
   "outputs": [
    {
     "data": {
      "text/plain": [
       "[<matplotlib.lines.Line2D at 0x7f8ff5bc2220>]"
      ]
     },
     "execution_count": 65,
     "metadata": {},
     "output_type": "execute_result"
    },
    {
     "data": {
      "image/png": "[encoded data removed]",
      "text/plain": [
       "<Figure size 640x480 with 1 Axes>"
      ]
     },
     "metadata": {},
     "output_type": "display_data"
    }
   ],
   "source": [
    "import matplotlib.pyplot as plt\n",
    "\n",
    "plt.plot(pik_data[2811296-2353054]-fmp_data[3], color=\"green\")"
   ]
  },
  {
   "cell_type": "code",
   "execution_count": 63,
   "metadata": {},
   "outputs": [
    {
     "data": {
      "text/plain": [
       "[<matplotlib.lines.Line2D at 0x7f8ff5c5cb80>]"
      ]
     },
     "execution_count": 63,
     "metadata": {},
     "output_type": "execute_result"
    },
    {
     "data": {
      "image/png": "[encoded data removed]",
      "text/plain": [
       "<Figure size 640x480 with 1 Axes>"
      ]
     },
     "metadata": {},
     "output_type": "display_data"
    }
   ],
   "source": [
    "plt.plot(fmp_data[3], color=\"green\")"
   ]
  },
  {
   "attachments": {},
   "cell_type": "markdown",
   "metadata": {},
   "source": [
    "# Analisi tracce INSTANCE ensamble"
   ]
  },
  {
   "attachments": {},
   "cell_type": "markdown",
   "metadata": {},
   "source": [
    "T1 se il pick corrisponde effettivamente alla polarità (UP nel caso del file con le polarità UP, e Down nel caso del file con le polarità Down) <br>\n",
    "T2 se la polarità che noi vediamo è opposta a quella che invece trova CFM <br>\n",
    "T3 se non riusciamo a decidere alcuna polarità"
   ]
  },
  {
   "cell_type": "code",
   "execution_count": 10,
   "metadata": {},
   "outputs": [
    {
     "name": "stdout",
     "output_type": "stream",
     "text": [
      "139 0 261\n"
     ]
    }
   ],
   "source": [
    "from obspy import read\n",
    "data_st_read1 = read(\"/home/silvia/Desktop/Prove_sac/Instance_Undecideble_traces_more_positive_mean_pred_more1to8_REVIEWED_FN/*.sac\")\n",
    "t1 = 0\n",
    "t2 = 0\n",
    "t3 = 0\n",
    "for i in range(400):\n",
    "    if \"t3\" in list(data_st_read1[i].stats[\"sac\"].keys()):\n",
    "        t3 = t3 +1\n",
    "    if \"t2\" in list(data_st_read1[i].stats[\"sac\"].keys()):\n",
    "        t2 = t2 +1\n",
    "    if \"t1\" in list(data_st_read1[i].stats[\"sac\"].keys()):\n",
    "        t1 = t1 +1\n",
    "print(t1,t2,t3)    "
   ]
  },
  {
   "cell_type": "code",
   "execution_count": 13,
   "metadata": {},
   "outputs": [
    {
     "name": "stdout",
     "output_type": "stream",
     "text": [
      "57 1 1 0\n",
      "159 0 0 0\n",
      "176 0 0 0\n",
      "190 0 0 0\n",
      "255 0 0 0\n",
      "267 0 0 0\n",
      "270 0 0 0\n",
      "88 1 306\n"
     ]
    }
   ],
   "source": [
    "from obspy import read\n",
    "data_st_read1 = read(\"/home/silvia/Desktop/Prove_sac/Instance_Undecideble_traces_more_negative_mean_pred_more1to8_REVIEWED_OA/*.sac\")\n",
    "t1 = 0\n",
    "t2 = 0\n",
    "t3 = 0\n",
    "for i in range(400):\n",
    "    a = 0\n",
    "    b = 0 \n",
    "    c = 0\n",
    "    if \"t3\" in list(data_st_read1[i].stats[\"sac\"].keys()):\n",
    "        t3 = t3 +1\n",
    "        a = 1\n",
    "    if \"t2\" in list(data_st_read1[i].stats[\"sac\"].keys()):\n",
    "        t2 = t2 +1\n",
    "        b = 1\n",
    "    if \"t1\" in list(data_st_read1[i].stats[\"sac\"].keys()):\n",
    "        t1 = t1 +1\n",
    "        c = 1\n",
    "    if a + b + c != 1:\n",
    "        print(i, a,b,c)\n",
    "print(t1,t2,t3)    "
   ]
  },
  {
   "cell_type": "code",
   "execution_count": 37,
   "metadata": {},
   "outputs": [
    {
     "data": {
      "text/plain": [
       "<matplotlib.collections.LineCollection at 0x7fd611fc3490>"
      ]
     },
     "execution_count": 37,
     "metadata": {},
     "output_type": "execute_result"
    },
    {
     "data": {
      "image/png": "[encoded data removed]",
      "text/plain": [
       "<Figure size 640x480 with 1 Axes>"
      ]
     },
     "metadata": {},
     "output_type": "display_data"
    }
   ],
   "source": [
    "import numpy as np\n",
    "import matplotlib.pyplot as plt\n",
    "plt.plot(np.array(data_st_read1[270]))\n",
    "plt.vlines(len(np.array(data_st_read1[52]))/2,-20,20, linestyles=\"--\", color = \"red\", alpha= 0.3)"
   ]
  },
  {
   "attachments": {},
   "cell_type": "markdown",
   "metadata": {},
   "source": [
    "# Other\n"
   ]
  },
  {
   "cell_type": "code",
   "execution_count": 2,
   "metadata": {},
   "outputs": [
    {
     "data": {
      "text/plain": [
       "array([6, 6, 6])"
      ]
     },
     "execution_count": 2,
     "metadata": {},
     "output_type": "execute_result"
    }
   ],
   "source": [
    "import numpy as np\n",
    "a = np.array([[1,1,1],[2,2,2],[3,3,3]])\n",
    "np.sum(a,axis=0)"
   ]
  }
 ],
 "metadata": {
  "kernelspec": {
   "display_name": "venv",
   "language": "python",
   "name": "python3"
  },
  "language_info": {
   "codemirror_mode": {
    "name": "ipython",
    "version": 3
   },
   "file_extension": ".py",
   "mimetype": "text/x-python",
   "name": "python",
   "nbconvert_exporter": "python",
   "pygments_lexer": "ipython3",
   "version": "3.8.10"
  },
  "orig_nbformat": 4,
  "vscode": {
   "interpreter": {
    "hash": "c7665d05a117fda7e87adc2281b70f6449029f8fb71e8cb4612842ad06bbb4c1"
   }
  }
 },
 "nbformat": 4,
 "nbformat_minor": 2
}
