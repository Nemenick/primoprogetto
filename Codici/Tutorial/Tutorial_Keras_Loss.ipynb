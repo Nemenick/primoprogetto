{
 "cells": [
  {
   "cell_type": "code",
   "execution_count": null,
   "metadata": {},
   "outputs": [],
   "source": [
    "import keras \n",
    "pat_tent = '/home/silvia/Documents/GitHub/primoprogetto/Codici/Tentativi/'\n",
    "tentativo = 52\n",
    "model = keras.models.load_model(pat_tent+str(tentativo)+'/Tentativo_'+str(tentativo)+'.hdf5')\n",
    "model2 = keras.models.load_model(pat_tent+str(tentativo)+'/Tentativo_'+str(tentativo)+'.hdf5')\n"
   ]
  },
  {
   "cell_type": "code",
   "execution_count": 18,
   "metadata": {},
   "outputs": [],
   "source": [
    "import numpy as np\n",
    "import tensorflow as tf\n",
    "def my_loss(y_pred, y_true):\n",
    "    # Attento, keras ammette solo questi 2 argomenti\n",
    "    # Posso metterne altri seguendo le indicazioni in https://www.kdnuggets.com/2019/04/advanced-keras-constructing-complex-custom-losses-metrics.html\n",
    "    return -(y_true*tf.math.log(y_pred)+ (1-y_true)* tf.math.log(1-y_pred))\n",
    "model2.compile(loss=my_loss)"
   ]
  },
  {
   "cell_type": "code",
   "execution_count": 13,
   "metadata": {},
   "outputs": [],
   "source": [
    "# Dataset, non importa\n",
    "import sys\n",
    "sys.path.append('/home/silvia/Documents/GitHub/primoprogetto/Codici/')  # PER importare cose che non sono nella stessa directory\n",
    "from Classe_sismogramma_v3 import ClasseDataset\n",
    "import numpy as np\n",
    "\n",
    "hdf5_predicting = '/home/silvia/Desktop/Data/SCSN(Ross)/Ross_test_polarity_Normalizzate20_New1-1_data.hdf5'\n",
    "csv_predicting =  '/home/silvia/Desktop/Data/SCSN(Ross)/Ross_test_polarity_Normalizzate20_New1-1_metadata.csv'\n",
    "\n",
    "Data_predicting = ClasseDataset()\n",
    "Data_predicting.leggi_custom_dataset(hdf5_predicting, csv_predicting)\n",
    "sample_train = len(Data_predicting.sismogramma)\n",
    "\n",
    "lung = len(Data_predicting.sismogramma[0])\n",
    "semi_amp = 80\n",
    "pat_tent = '/home/silvia/Documents/GitHub/primoprogetto/Codici/Tentativi/'\n",
    "shiftRoss = 1\n",
    "tentativo = 52\n",
    "salva_predizioni = False\n",
    "nome_predizione = \"/Predizioni_Ross_shift+1\"\n",
    "\n",
    "xtest = np.zeros((sample_train, semi_amp * 2))\n",
    "for k in range(sample_train):\n",
    "    xtest[k] = Data_predicting.sismogramma[k][lung // 2 - semi_amp + shiftRoss:lung // 2 + semi_amp + shiftRoss]\n",
    "y_test_true = np.array([Data_predicting.metadata[\"trace_polarity\"][_] == \"positive\" for _ in range(sample_train)])\n",
    "y_test_true = y_test_true + 0\n",
    "y_test_true = np.array(y_test_true) + 0.0"
   ]
  },
  {
   "cell_type": "code",
   "execution_count": 14,
   "metadata": {},
   "outputs": [
    {
     "name": "stderr",
     "output_type": "stream",
     "text": [
      "2023-10-04 18:26:38.469940: I tensorflow/stream_executor/cuda/cuda_dnn.cc:384] Loaded cuDNN version 8101\n"
     ]
    },
    {
     "name": "stdout",
     "output_type": "stream",
     "text": [
      "422/422 [==============================] - 12s 22ms/step - loss: 0.0888 - accuracy: 0.9753\n",
      "Evaluation Metrics:\n",
      "loss: 0.08875712752342224\n",
      "accuracy: 0.9752777814865112\n"
     ]
    }
   ],
   "source": [
    "\n",
    "evaluation_results = model.evaluate(xtest, y_test_true, batch_size=2048)\n",
    "# Print the evaluation metrics\n",
    "print(\"Evaluation Metrics:\")\n",
    "for i, metric_name in enumerate(model.metrics_names):\n",
    "    print(f\"{metric_name}: {evaluation_results[i]}\")"
   ]
  },
  {
   "cell_type": "code",
   "execution_count": 25,
   "metadata": {},
   "outputs": [
    {
     "name": "stdout",
     "output_type": "stream",
     "text": [
      "422/422 [==============================] - 9s 22ms/step - loss: inf\n",
      "Evaluation Metrics:\n"
     ]
    },
    {
     "ename": "TypeError",
     "evalue": "'float' object is not subscriptable",
     "output_type": "error",
     "traceback": [
      "\u001b[0;31m---------------------------------------------------------------------------\u001b[0m",
      "\u001b[0;31mTypeError\u001b[0m                                 Traceback (most recent call last)",
      "\u001b[1;32m/home/silvia/Documents/GitHub/primoprogetto/Codici/Tutorial/Tutorial_Keras_Loss.ipynb Cell 5\u001b[0m line \u001b[0;36m5\n\u001b[1;32m      <a href='vscode-notebook-cell://ssh-remote%2B193.205.188.59/home/silvia/Documents/GitHub/primoprogetto/Codici/Tutorial/Tutorial_Keras_Loss.ipynb#W4sdnNjb2RlLXJlbW90ZQ%3D%3D?line=2'>3</a>\u001b[0m \u001b[39mprint\u001b[39m(\u001b[39m\"\u001b[39m\u001b[39mEvaluation Metrics:\u001b[39m\u001b[39m\"\u001b[39m)\n\u001b[1;32m      <a href='vscode-notebook-cell://ssh-remote%2B193.205.188.59/home/silvia/Documents/GitHub/primoprogetto/Codici/Tutorial/Tutorial_Keras_Loss.ipynb#W4sdnNjb2RlLXJlbW90ZQ%3D%3D?line=3'>4</a>\u001b[0m \u001b[39mfor\u001b[39;00m i, metric_name \u001b[39min\u001b[39;00m \u001b[39menumerate\u001b[39m(model2\u001b[39m.\u001b[39mmetrics_names):\n\u001b[0;32m----> <a href='vscode-notebook-cell://ssh-remote%2B193.205.188.59/home/silvia/Documents/GitHub/primoprogetto/Codici/Tutorial/Tutorial_Keras_Loss.ipynb#W4sdnNjb2RlLXJlbW90ZQ%3D%3D?line=4'>5</a>\u001b[0m     \u001b[39mprint\u001b[39m(\u001b[39mf\u001b[39m\u001b[39m\"\u001b[39m\u001b[39m{\u001b[39;00mmetric_name\u001b[39m}\u001b[39;00m\u001b[39m: \u001b[39m\u001b[39m{\u001b[39;00mevaluation_results2[i]\u001b[39m}\u001b[39;00m\u001b[39m\"\u001b[39m)\n",
      "\u001b[0;31mTypeError\u001b[0m: 'float' object is not subscriptable"
     ]
    }
   ],
   "source": [
    "evaluation_results2 = model2.evaluate(xtest, y_test_true, batch_size=2048)\n",
    "# Print the evaluation metrics\n",
    "print(\"Evaluation Metrics:\")\n",
    "for i, metric_name in enumerate(model2.metrics_names):\n",
    "    print(f\"{metric_name}: {evaluation_results2[i]}\")"
   ]
  },
  {
   "cell_type": "code",
   "execution_count": 27,
   "metadata": {},
   "outputs": [
    {
     "data": {
      "text/plain": [
       "'loss'"
      ]
     },
     "execution_count": 27,
     "metadata": {},
     "output_type": "execute_result"
    }
   ],
   "source": [
    "metric_name\n"
   ]
  }
 ],
 "metadata": {
  "kernelspec": {
   "display_name": "venv",
   "language": "python",
   "name": "python3"
  },
  "language_info": {
   "codemirror_mode": {
    "name": "ipython",
    "version": 3
   },
   "file_extension": ".py",
   "mimetype": "text/x-python",
   "name": "python",
   "nbconvert_exporter": "python",
   "pygments_lexer": "ipython3",
   "version": "3.8.10"
  },
  "orig_nbformat": 4
 },
 "nbformat": 4,
 "nbformat_minor": 2
}
