{
 "cells": [
  {
   "cell_type": "code",
   "execution_count": null,
   "metadata": {},
   "outputs": [],
   "source": [
    "import geopandas\n",
    "from Classe_sismogramma_v3 import ClasseDataset\n",
    "import numpy as np\n",
    "from matplotlib import pyplot as plt\n",
    "import matplotlib.image as img\n",
    "import matplotlib.colors as colors\n",
    "from mpl_toolkits.basemap import Basemap\n",
    "\n",
    "file = img.imread('/home/silvia/Desktop/Ferdinando.jpg')\n",
    "\n",
    "fig = plt.imshow(file)\n",
    "plt.axis('off')\n",
    "fig.axes.get_xaxis().set_visible(False)\n",
    "fig.axes.get_yaxis().set_visible(False)\n",
    "plt.savefig('/home/silvia/Desktop/Ferdinando_augmented', dpi=300)\n",
    "plt.show()"
   ]
  },
  {
   "cell_type": "code",
   "execution_count": 11,
   "metadata": {},
   "outputs": [],
   "source": [
    "import plotly.graph_objects as go\n",
    "import numpy as np\n",
    "import pandas as pd\n",
    "\n",
    "# Generate random data for the example\n",
    "n = 100  # Number of data points\n",
    "x = np.random.rand(n)\n",
    "y = np.random.rand(n)\n",
    "z = np.random.rand(n)\n",
    "sizes = np.random.rand(n) * 10  # Random size values\n",
    "colors = np.random.rand(n) * 10  # Random color values\n",
    "\n",
    "# Create a DataFrame from the data\n",
    "df = pd.DataFrame({'X': x, 'Y': y, 'Z': z, 'Sizes': sizes, 'Colors': colors})\n",
    "\n",
    "# Create an interactive 3D scatter plot\n",
    "fig = go.Figure()\n",
    "\n",
    "# Add the data with custom size and color\n",
    "fig.add_trace(go.Scatter3d(\n",
    "    x=df['X'],\n",
    "    y=df['Y'],\n",
    "    z=df['Z'],\n",
    "    mode='markers',\n",
    "    marker=dict(\n",
    "        size=df['Sizes'],  # Specify the marker size based on 'Sizes' column\n",
    "        color=df['Colors'],  # Specify the marker color based on 'Colors' column\n",
    "        colorscale='Viridis',  # Choose a colorscale (you can customize this)\n",
    "        colorbar=dict(title='Color Scale'),  # Add a colorbar\n",
    "        opacity=0.7  # Marker opacity\n",
    "    ),\n",
    "    name='Data Set 1'\n",
    "))\n",
    "\n",
    "# Customize the plot\n",
    "fig.update_layout(\n",
    "    scene=dict(\n",
    "        xaxis_title='X Label',\n",
    "        yaxis_title='Y Label',\n",
    "        zaxis_title='Z Label'\n",
    "    ),\n",
    "    title='Interactive 3D Scatter Plot with Marker Size and Color'\n",
    ")\n",
    "\n",
    "# Save the plot to an HTML file\n",
    "fig.write_html(\"/home/silvia/Desktop/AAAAAAinteractive_3d_scatter_plot.html\")\n"
   ]
  }
 ],
 "metadata": {
  "kernelspec": {
   "display_name": "venv",
   "language": "python",
   "name": "python3"
  },
  "language_info": {
   "codemirror_mode": {
    "name": "ipython",
    "version": 3
   },
   "file_extension": ".py",
   "mimetype": "text/x-python",
   "name": "python",
   "nbconvert_exporter": "python",
   "pygments_lexer": "ipython3",
   "version": "3.8.10"
  }
 },
 "nbformat": 4,
 "nbformat_minor": 2
}
