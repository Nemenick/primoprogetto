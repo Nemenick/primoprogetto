{
 "cells": [
  {
   "cell_type": "markdown",
   "metadata": {},
   "source": [
    "# HOS "
   ]
  },
  {
   "cell_type": "code",
   "execution_count": 1,
   "metadata": {},
   "outputs": [],
   "source": [
    "import _Library_HOS\n",
    "from Classe_sismogramma_v3 import ClasseDataset\n",
    "import pandas as pd\n",
    "\n",
    "# ATTENTO prima di usate get_onset, 1) Fallo su quelle a 200 HZ\n",
    "                                #   2) PRIMA devi fare filtro passa alto (sui 3-5 Hz)\n",
    "# parametri di metodo HOS DA OTTIMIZZARE \"SUL POLLINO\" (però siamo a 100 HZ!!!! poi fai anche test su quelle già picked di DETECT?)\n",
    "# Scrivi il codice che usi in un unico file e condividi!\n",
    "\n",
    "hd = \"/home/silvia/Desktop/Data/Pollino_All/Pollino_All_data_extended.hdf5\"\n",
    "cs = \"/home/silvia/Desktop/Data/Pollino_All/Pollino_All_metadata_extended.csv\"\n",
    "\n",
    "D = ClasseDataset()\n",
    "D.leggi_custom_dataset(hd,cs)\n",
    "D.demean()\n",
    "\n",
    "# sig = _Library_HOS.freq_filter(D.sismogramma[7], 200, 5, type_filter= \"highpass\")\n",
    "# onset_1, diff, onset_2 = _Library_HOS.get_onset(sig, 40, threshold=0.1, statistics= _Library_HOS.S_6)\n",
    "# print(onset_1, onset_2)\n"
   ]
  },
  {
   "cell_type": "code",
   "execution_count": 91,
   "metadata": {},
   "outputs": [],
   "source": [
    "import _Library_HOS\n",
    "import numpy as np\n",
    "import matplotlib.pyplot as plt\n",
    "\n",
    "sampling_rate = 100\n",
    "typ_filter = \"highpass\"\n",
    "\n",
    "freq_filter = 1\n",
    "window_width = 100\n",
    "tresh = 0.25\n",
    "\n",
    "stat = _Library_HOS.S_6\n",
    "\n",
    "\n",
    "for freq_filter in [1,2,3,5,10]:\n",
    "    for window_width in [40,50,80,100,150,200]:\n",
    "        for tresh in [0.1,0.2,0.25,0.3,0.4]:\n",
    "            ons_th = []\n",
    "            ons_max = []\n",
    "            for i in range(len(D.sismogramma)):\n",
    "                sig = _Library_HOS.freq_filter(D.sismogramma[i], D.metadata[\"sampling_rate\"][i], freq_filter, type_filter= typ_filter)\n",
    "                onset_th, diff, onset_max,u  = _Library_HOS.get_onset_2(sig, window_width, threshold=tresh, statistics= stat)\n",
    "                ons_th.append(onset_th)\n",
    "                ons_max.append(onset_max)\n",
    "                #onset_1, diff, onset_2  = _Library_HOS.get_onset(sig, window_width, threshold=tresh, statistics= stat)\n",
    "                # print(onset_1, onset_2)\n",
    "            ons_th = np.array(ons_th)\n",
    "            ons_max = np.array(ons_max)"
   ]
  },
  {
   "cell_type": "code",
   "execution_count": 113,
   "metadata": {},
   "outputs": [
    {
     "data": {
      "text/plain": [
       "(array([  70.,  887., 4413.,  169.,  781.]),\n",
       " array([-10000,    -50,     -5,      5,     50,   4000]),\n",
       " <BarContainer object of 5 artists>)"
      ]
     },
     "execution_count": 113,
     "metadata": {},
     "output_type": "execute_result"
    },
    {
     "data": {
      "image/png": "[encoded data removed]",
      "text/plain": [
       "<Figure size 640x480 with 1 Axes>"
      ]
     },
     "metadata": {},
     "output_type": "display_data"
    }
   ],
   "source": [
    "plt.hist(D.metadata[\"trace_P_arrival_sample\"].values-ons_th,bins=[-10000,-50,-5,5,50,4000],edgecolor=\"black\")"
   ]
  },
  {
   "cell_type": "markdown",
   "metadata": {},
   "source": [
    "# Capire quale impostazione usare"
   ]
  },
  {
   "cell_type": "code",
   "execution_count": 81,
   "metadata": {},
   "outputs": [],
   "source": [
    "import pandas as pd\n",
    "impos = pd.read_csv(\"/home/silvia/Desktop/ONSET_POLLINO.csv\")\n",
    "impos[0:2]\n",
    "impos_2 = impos.T.drop_duplicates(keep=\"last\").T"
   ]
  },
  {
   "cell_type": "code",
   "execution_count": 82,
   "metadata": {},
   "outputs": [
    {
     "data": {
      "text/html": [
       "<div>\n",
       "<style scoped>\n",
       "    .dataframe tbody tr th:only-of-type {\n",
       "        vertical-align: middle;\n",
       "    }\n",
       "\n",
       "    .dataframe tbody tr th {\n",
       "        vertical-align: top;\n",
       "    }\n",
       "\n",
       "    .dataframe thead th {\n",
       "        text-align: right;\n",
       "    }\n",
       "</style>\n",
       "<table border=\"1\" class=\"dataframe\">\n",
       "  <thead>\n",
       "    <tr style=\"text-align: right;\">\n",
       "      <th></th>\n",
       "      <th>trace_name</th>\n",
       "      <th>trace_P_arrival_sample</th>\n",
       "      <th>filter freq : 1 window_width: 40 tresh: 0.1_ons_th</th>\n",
       "      <th>filter freq : 1 window_width: 40 tresh: 0.2_ons_th</th>\n",
       "      <th>filter freq : 1 window_width: 40 tresh: 0.25_ons_th</th>\n",
       "      <th>filter freq : 1 window_width: 40 tresh: 0.3_ons_th</th>\n",
       "      <th>filter freq : 1 window_width: 40 tresh: 0.4_ons_th</th>\n",
       "      <th>filter freq : 1 window_width: 40 tresh: 0.4_ons_max</th>\n",
       "      <th>filter freq : 1 window_width: 50 tresh: 0.1_ons_th</th>\n",
       "      <th>filter freq : 1 window_width: 50 tresh: 0.2_ons_th</th>\n",
       "      <th>...</th>\n",
       "      <th>filter freq : 10 window_width: 150 tresh: 0.25_ons_th</th>\n",
       "      <th>filter freq : 10 window_width: 150 tresh: 0.3_ons_th</th>\n",
       "      <th>filter freq : 10 window_width: 150 tresh: 0.4_ons_th</th>\n",
       "      <th>filter freq : 10 window_width: 150 tresh: 0.4_ons_max</th>\n",
       "      <th>filter freq : 10 window_width: 200 tresh: 0.1_ons_th</th>\n",
       "      <th>filter freq : 10 window_width: 200 tresh: 0.2_ons_th</th>\n",
       "      <th>filter freq : 10 window_width: 200 tresh: 0.25_ons_th</th>\n",
       "      <th>filter freq : 10 window_width: 200 tresh: 0.3_ons_th</th>\n",
       "      <th>filter freq : 10 window_width: 200 tresh: 0.4_ons_th</th>\n",
       "      <th>filter freq : 10 window_width: 200 tresh: 0.4_ons_max</th>\n",
       "    </tr>\n",
       "  </thead>\n",
       "  <tbody>\n",
       "    <tr>\n",
       "      <th>0</th>\n",
       "      <td>20100130012400_M2.5.CRAC</td>\n",
       "      <td>2470</td>\n",
       "      <td>2468</td>\n",
       "      <td>2468</td>\n",
       "      <td>2468</td>\n",
       "      <td>2468</td>\n",
       "      <td>2469</td>\n",
       "      <td>2469</td>\n",
       "      <td>2468</td>\n",
       "      <td>2468</td>\n",
       "      <td>...</td>\n",
       "      <td>2469</td>\n",
       "      <td>2469</td>\n",
       "      <td>2469</td>\n",
       "      <td>2469</td>\n",
       "      <td>2469</td>\n",
       "      <td>2469</td>\n",
       "      <td>2469</td>\n",
       "      <td>2469</td>\n",
       "      <td>2469</td>\n",
       "      <td>2469</td>\n",
       "    </tr>\n",
       "  </tbody>\n",
       "</table>\n",
       "<p>1 rows × 182 columns</p>\n",
       "</div>"
      ],
      "text/plain": [
       "                 trace_name trace_P_arrival_sample  \\\n",
       "0  20100130012400_M2.5.CRAC                   2470   \n",
       "\n",
       "  filter freq : 1 window_width: 40 tresh: 0.1_ons_th  \\\n",
       "0                                               2468   \n",
       "\n",
       "  filter freq : 1 window_width: 40 tresh: 0.2_ons_th  \\\n",
       "0                                               2468   \n",
       "\n",
       "  filter freq : 1 window_width: 40 tresh: 0.25_ons_th  \\\n",
       "0                                               2468    \n",
       "\n",
       "  filter freq : 1 window_width: 40 tresh: 0.3_ons_th  \\\n",
       "0                                               2468   \n",
       "\n",
       "  filter freq : 1 window_width: 40 tresh: 0.4_ons_th  \\\n",
       "0                                               2469   \n",
       "\n",
       "  filter freq : 1 window_width: 40 tresh: 0.4_ons_max  \\\n",
       "0                                               2469    \n",
       "\n",
       "  filter freq : 1 window_width: 50 tresh: 0.1_ons_th  \\\n",
       "0                                               2468   \n",
       "\n",
       "  filter freq : 1 window_width: 50 tresh: 0.2_ons_th  ...  \\\n",
       "0                                               2468  ...   \n",
       "\n",
       "  filter freq : 10 window_width: 150 tresh: 0.25_ons_th  \\\n",
       "0                                               2469      \n",
       "\n",
       "  filter freq : 10 window_width: 150 tresh: 0.3_ons_th  \\\n",
       "0                                               2469     \n",
       "\n",
       "  filter freq : 10 window_width: 150 tresh: 0.4_ons_th  \\\n",
       "0                                               2469     \n",
       "\n",
       "  filter freq : 10 window_width: 150 tresh: 0.4_ons_max  \\\n",
       "0                                               2469      \n",
       "\n",
       "  filter freq : 10 window_width: 200 tresh: 0.1_ons_th  \\\n",
       "0                                               2469     \n",
       "\n",
       "  filter freq : 10 window_width: 200 tresh: 0.2_ons_th  \\\n",
       "0                                               2469     \n",
       "\n",
       "  filter freq : 10 window_width: 200 tresh: 0.25_ons_th  \\\n",
       "0                                               2469      \n",
       "\n",
       "  filter freq : 10 window_width: 200 tresh: 0.3_ons_th  \\\n",
       "0                                               2469     \n",
       "\n",
       "  filter freq : 10 window_width: 200 tresh: 0.4_ons_th  \\\n",
       "0                                               2469     \n",
       "\n",
       "  filter freq : 10 window_width: 200 tresh: 0.4_ons_max  \n",
       "0                                               2469     \n",
       "\n",
       "[1 rows x 182 columns]"
      ]
     },
     "execution_count": 82,
     "metadata": {},
     "output_type": "execute_result"
    }
   ],
   "source": [
    "impos_2[0:1]"
   ]
  },
  {
   "cell_type": "code",
   "execution_count": 83,
   "metadata": {},
   "outputs": [
    {
     "name": "stdout",
     "output_type": "stream",
     "text": [
      "0.40400063002047565\n",
      "0.5952118443849425\n",
      "0.6443534414868484\n",
      "0.6819971649078596\n",
      "0.7276736493936052\n",
      "0.751771932587809\n",
      "0.5243345408725784\n",
      "0.674436919199874\n",
      "0.7065679634588125\n",
      "0.7338163490313435\n",
      "0.7717750826901875\n",
      "0.7798078437549221\n",
      "0.6903449362104268\n",
      "0.7761852260198456\n",
      "0.7990234682627185\n",
      "0.8103638368246968\n",
      "0.8221767207434242\n",
      "0.8045361474247913\n",
      "0.7442116868798236\n",
      "0.8098913214679477\n",
      "0.8220192156245077\n",
      "0.8297369664514097\n",
      "0.8330445739486533\n",
      "0.8024885808788785\n",
      "0.808316270278784\n",
      "0.8382422428728934\n",
      "0.8442274373917152\n",
      "0.8456449834619625\n",
      "0.8417073554890534\n",
      "0.7919357379114821\n",
      "0.8308395022838242\n",
      "0.8481650653646243\n",
      "0.8470625295322098\n",
      "0.8446999527484643\n",
      "0.8341471097810679\n",
      "0.779335328398173\n",
      "0.2954796030871003\n",
      "0.48322570483540717\n",
      "0.5435501653803748\n",
      "0.5909592061742006\n",
      "0.6519136871948338\n",
      "0.6835722160970231\n",
      "0.3964403843124902\n",
      "0.5747361789258151\n",
      "0.6276578988817136\n",
      "0.6654591274216412\n",
      "0.7084580248858088\n",
      "0.7232635060639471\n",
      "0.5687509844069932\n",
      "0.7053079225074815\n",
      "0.7335013387935108\n",
      "0.7547645298472201\n",
      "0.7753977004252638\n",
      "0.7624822806741219\n",
      "0.6300204756654592\n",
      "0.7386990077177509\n",
      "0.7616947550795401\n",
      "0.7752401953063475\n",
      "0.7895731611277367\n",
      "0.7650023625767838\n",
      "0.7103480863128052\n",
      "0.7787053079225075\n",
      "0.7928807686249804\n",
      "0.8002835092140494\n",
      "0.8024885808788785\n",
      "0.7588596629390455\n",
      "0.7445266971176563\n",
      "0.791463222554733\n",
      "0.799653488738384\n",
      "0.8046936525437076\n",
      "0.8018585604032131\n",
      "0.7475192943770672\n",
      "0.21893211529374704\n",
      "0.40179555835564656\n",
      "0.4649551110411088\n",
      "0.5174043156402583\n",
      "0.5939518034336116\n",
      "0.6385257520869428\n",
      "0.30965506378957314\n",
      "0.5129941723106001\n",
      "0.5671759332178296\n",
      "0.6115923767522444\n",
      "0.6664041581351394\n",
      "0.686092297999685\n",
      "0.5117341313592692\n",
      "0.666246653016223\n",
      "0.7018428098913214\n",
      "0.7220034651126161\n",
      "0.7459442431879036\n",
      "0.7220034651126161\n",
      "0.5840289809418806\n",
      "0.7086155300047251\n",
      "0.736178925815089\n",
      "0.74956686092298\n",
      "0.7591746731768783\n",
      "0.7246810521341943\n",
      "0.6664041581351394\n",
      "0.7481493148527327\n",
      "0.7602772090092929\n",
      "0.7687824854307765\n",
      "0.7757127106630965\n",
      "0.7215309497558671\n",
      "0.7031028508426523\n",
      "0.7588596629390455\n",
      "0.769885021263191\n",
      "0.7752401953063475\n",
      "0.7709875570956056\n",
      "0.7139707040478815\n",
      "0.1901086785320523\n",
      "0.37454717278311545\n",
      "0.4342416128524177\n",
      "0.47739801543550164\n",
      "0.5459127421641203\n",
      "0.5882816191526224\n",
      "0.28303669869270753\n",
      "0.45912742164120335\n",
      "0.5123641518349347\n",
      "0.5465427626397857\n",
      "0.5933217829579461\n",
      "0.62608284769255\n",
      "0.4501496298629705\n",
      "0.5796188376122224\n",
      "0.6111198613954953\n",
      "0.6331705780437864\n",
      "0.6667191683729721\n",
      "0.6641990864703103\n",
      "0.5092140494566073\n",
      "0.6114348716333281\n",
      "0.6405733186328556\n",
      "0.6591589226649867\n",
      "0.6775870215782013\n",
      "0.6675066939675539\n",
      "0.575996219877146\n",
      "0.6519136871948338\n",
      "0.6686092297999685\n",
      "0.6801071034808631\n",
      "0.6920774925185068\n",
      "0.662781540400063\n",
      "0.6062372027090881\n",
      "0.6665616632540557\n",
      "0.677429516459285\n",
      "0.6851472672861868\n",
      "0.6903449362104268\n",
      "0.6549062844542448\n",
      "0.25657583871475825\n",
      "0.40211056859347927\n",
      "0.44936210426838874\n",
      "0.4838557253110726\n",
      "0.5257520869428256\n",
      "0.5547330288234368\n",
      "0.347141282091668\n",
      "0.4785005512679162\n",
      "0.510789100645771\n",
      "0.532367301937313\n",
      "0.5553630492991022\n",
      "0.5739486533312332\n",
      "0.48354071507323987\n",
      "0.5545755237045203\n",
      "0.5687509844069932\n",
      "0.5789888171365569\n",
      "0.5920617420066152\n",
      "0.5813513939203024\n",
      "0.5233895101590802\n",
      "0.5696960151204914\n",
      "0.5862340526067097\n",
      "0.5900141754607025\n",
      "0.5971019058119389\n",
      "0.574263663569066\n",
      "0.5635533154827532\n",
      "0.5843439911797134\n",
      "0.5920617420066152\n",
      "0.5952118443849425\n",
      "0.5972594109308552\n",
      "0.5657583871475823\n",
      "0.5758387147582297\n",
      "0.5909592061742006\n",
      "0.5922192471255315\n",
      "0.591116711293117\n",
      "0.5904866908174515\n",
      "0.5534729878721059\n"
     ]
    }
   ],
   "source": [
    "bonta_10 = []\n",
    "for key in impos_2.iloc[:,2:]:\n",
    "    diff = impos_2[\"trace_P_arrival_sample\"] - impos_2[key]\n",
    "    bonta_10.append(len(diff[(diff<=10) & (diff>=-10)])/len(diff))\n",
    "    print(len(diff[(diff<=10) & (diff>=-10)])/len(diff),)"
   ]
  },
  {
   "cell_type": "code",
   "execution_count": 108,
   "metadata": {},
   "outputs": [
    {
     "data": {
      "image/png": "[encoded data removed]",
      "text/plain": [
       "<Figure size 640x480 with 1 Axes>"
      ]
     },
     "metadata": {},
     "output_type": "display_data"
    }
   ],
   "source": [
    "import matplotlib.pyplot as plt\n",
    "\n",
    "plt.plot(bonta_10)\n",
    "plt.vlines([0,6],0,1, color=\"red\", zorder=-1, alpha=0.5, linestyle=\"--\", label=\"change threshold\")\n",
    "plt.vlines(36,0,1, color=\"green\", zorder=-1, alpha=0.5, linestyle=\"--\", label=\"change window\")\n",
    "plt.vlines(180,0,1, color=\"purple\", zorder=-1, alpha=0.5, linestyle=\"--\", label=\"change filter\")\n",
    "plt.legend()\n",
    "plt.grid()\n"
   ]
  },
  {
   "cell_type": "code",
   "execution_count": null,
   "metadata": {},
   "outputs": [],
   "source": []
  },
  {
   "cell_type": "code",
   "execution_count": 58,
   "metadata": {},
   "outputs": [
    {
     "data": {
      "text/plain": [
       "0       1\n",
       "2      -4\n",
       "3      -3\n",
       "4      -9\n",
       "5       2\n",
       "       ..\n",
       "6343   -5\n",
       "6345    0\n",
       "6346    2\n",
       "6347   -3\n",
       "6348   -5\n",
       "Length: 3514, dtype: int64"
      ]
     },
     "execution_count": 58,
     "metadata": {},
     "output_type": "execute_result"
    }
   ],
   "source": [
    "diff[(diff<=10) & (diff>=-10)]"
   ]
  },
  {
   "cell_type": "code",
   "execution_count": 62,
   "metadata": {},
   "outputs": [
    {
     "name": "stdout",
     "output_type": "stream",
     "text": [
      "DataFrame originale:\n",
      "   A  B  C\n",
      "0  1  5  1\n",
      "1  2  6  2\n",
      "2  1  7  1\n",
      "3  4  8  4\n",
      "\n",
      "DataFrame senza colonne duplicate:\n",
      "   A  B\n",
      "0  1  5\n",
      "1  2  6\n",
      "2  1  7\n",
      "3  4  8\n"
     ]
    }
   ],
   "source": [
    "# Creare un DataFrame di esempio\n",
    "data = {'A': [1, 2, 1, 4],\n",
    "        'B': [5, 6, 7, 8],\n",
    "        'C': [1, 2, 1, 4]}  # Colonna duplicata\n",
    "df = pd.DataFrame(data)\n",
    "\n",
    "# Visualizzare il DataFrame originale\n",
    "\n",
    "\n",
    "# Eliminare le colonne duplicate\n",
    "df_senza_duplicate = df.T.drop_duplicates().T\n",
    "\n",
    "# Visualizzare il DataFrame senza colonne duplicate\n",
    "print(\"DataFrame originale:\")\n",
    "print(df)\n",
    "print(\"\\nDataFrame senza colonne duplicate:\")\n",
    "print(df_senza_duplicate)"
   ]
  },
  {
   "cell_type": "markdown",
   "metadata": {},
   "source": [
    "#  PAUSE Change _Library_HOS to work on waveforms all at once!"
   ]
  },
  {
   "cell_type": "markdown",
   "metadata": {},
   "source": [
    "#### Change sliding_window_view and statistics"
   ]
  },
  {
   "cell_type": "code",
   "execution_count": 1,
   "metadata": {},
   "outputs": [
    {
     "data": {
      "text/plain": [
       "array([[ 1.56888843,  2.15675023,  3.69384081,  3.45159547,  4.71701537,\n",
       "         6.12631746,  6.87529431,  8.53495899,  8.26449068,  9.61450057],\n",
       "       [11.13526133, 12.11871685, 12.88371162, 14.21732432, 15.38675881,\n",
       "        16.05977647, 17.02406025, 17.75154621, 18.85652372, 20.14775706],\n",
       "       [21.24423927, 22.07370784, 23.38646214, 23.34781496, 24.99330981,\n",
       "        25.12437929, 26.86682034, 28.06015659, 28.80979213, 29.22606121]])"
      ]
     },
     "execution_count": 1,
     "metadata": {},
     "output_type": "execute_result"
    }
   ],
   "source": [
    "import _Library_HOS_2\n",
    "import numpy as np\n",
    "\n",
    "a = np.array([i for i in range(10)]) + np.random.random((10))\n",
    "b = np.array([i+10 for i in range(10)]) + np.random.random((10))\n",
    "c = np.array([i+20 for i in range(10)]) + np.random.random((10))\n",
    "due_traces = np.array([a,b])\n",
    "tre_traces = np.array([a,b,c])+np.random.random((3,10))\n",
    "tre_traces"
   ]
  },
  {
   "cell_type": "code",
   "execution_count": null,
   "metadata": {},
   "outputs": [],
   "source": [
    "# FIXME NEW SHAPE\n",
    "windowed = _Library_HOS.sliding_window_view(tre_traces,(4,),(1,))\n",
    "reshape1 = windowed.reshape((windowed.shape[0]*windowed.shape[1],windowed.shape[2]),order=\"F\")\n",
    "reshape2 = reshape1.reshape((windowed.shape[1],windowed.shape[0],windowed.shape[2]))\n",
    "reshape2.shape\n",
    "#   (num_traces,  num_windows,    len_window)\n",
    "#   (     3,          7,              4)\n",
    "# Dopo aver fatto statistica, mi serve avere uno shape di:\n",
    "#   (num_traces,   num_windows)\n",
    "_Library_HOS.S_4(reshape2,axis=-1)  # Funziona (per S_6 vedi dopo)"
   ]
  },
  {
   "cell_type": "code",
   "execution_count": null,
   "metadata": {},
   "outputs": [],
   "source": [
    "# FIXME NEW S_6 statistic\n",
    "\n",
    "data_all = reshape2\n",
    "np.sum((data_all-np.expand_dims(np.mean(data_all,axis=axis),axis=-1))**6,axis=axis)/(data_all.shape[-1]-1)/np.std(data_all,ddof=1,axis=axis)**6-15\n"
   ]
  },
  {
   "cell_type": "code",
   "execution_count": 14,
   "metadata": {},
   "outputs": [
    {
     "data": {
      "text/plain": [
       "array([[[ 0.49355703,  1.36516461,  2.49094507,  3.67495173],\n",
       "        [10.4754864 , 11.51315078, 12.51562724, 13.23951818]],\n",
       "\n",
       "       [[ 1.36516461,  2.49094507,  3.67495173,  4.98433422],\n",
       "        [11.51315078, 12.51562724, 13.23951818, 14.54834631]],\n",
       "\n",
       "       [[ 2.49094507,  3.67495173,  4.98433422,  5.94386421],\n",
       "        [12.51562724, 13.23951818, 14.54834631, 15.64712488]],\n",
       "\n",
       "       [[ 3.67495173,  4.98433422,  5.94386421,  6.43628322],\n",
       "        [13.23951818, 14.54834631, 15.64712488, 16.25220119]],\n",
       "\n",
       "       [[ 4.98433422,  5.94386421,  6.43628322,  7.91873155],\n",
       "        [14.54834631, 15.64712488, 16.25220119, 17.48729665]],\n",
       "\n",
       "       [[ 5.94386421,  6.43628322,  7.91873155,  8.42295917],\n",
       "        [15.64712488, 16.25220119, 17.48729665, 18.46169721]],\n",
       "\n",
       "       [[ 6.43628322,  7.91873155,  8.42295917,  9.49055103],\n",
       "        [16.25220119, 17.48729665, 18.46169721, 19.45918373]]])"
      ]
     },
     "execution_count": 14,
     "metadata": {},
     "output_type": "execute_result"
    }
   ],
   "source": [
    "windowed = _Library_HOS.sliding_window_view(due_traces,(4,),(1,))\n",
    "windowed"
   ]
  },
  {
   "cell_type": "code",
   "execution_count": 16,
   "metadata": {},
   "outputs": [
    {
     "data": {
      "text/plain": [
       "array([[[ 0.49355703,  1.36516461,  2.49094507,  3.67495173],\n",
       "        [ 1.36516461,  2.49094507,  3.67495173,  4.98433422],\n",
       "        [ 2.49094507,  3.67495173,  4.98433422,  5.94386421],\n",
       "        [ 3.67495173,  4.98433422,  5.94386421,  6.43628322],\n",
       "        [ 4.98433422,  5.94386421,  6.43628322,  7.91873155],\n",
       "        [ 5.94386421,  6.43628322,  7.91873155,  8.42295917],\n",
       "        [ 6.43628322,  7.91873155,  8.42295917,  9.49055103]],\n",
       "\n",
       "       [[10.4754864 , 11.51315078, 12.51562724, 13.23951818],\n",
       "        [11.51315078, 12.51562724, 13.23951818, 14.54834631],\n",
       "        [12.51562724, 13.23951818, 14.54834631, 15.64712488],\n",
       "        [13.23951818, 14.54834631, 15.64712488, 16.25220119],\n",
       "        [14.54834631, 15.64712488, 16.25220119, 17.48729665],\n",
       "        [15.64712488, 16.25220119, 17.48729665, 18.46169721],\n",
       "        [16.25220119, 17.48729665, 18.46169721, 19.45918373]]])"
      ]
     },
     "execution_count": 16,
     "metadata": {},
     "output_type": "execute_result"
    }
   ],
   "source": [
    "reshape1 = windowed.reshape((windowed.shape[0]*windowed.shape[1],windowed.shape[2]),order=\"F\")\n",
    "reshape2 = reshape1.reshape((windowed.shape[1],windowed.shape[0],windowed.shape[2]))\n",
    "reshape2"
   ]
  },
  {
   "cell_type": "code",
   "execution_count": 18,
   "metadata": {},
   "outputs": [
    {
     "data": {
      "text/plain": [
       "array([[0.49355703, 1.36516461, 2.49094507, 3.67495173],\n",
       "       [1.36516461, 2.49094507, 3.67495173, 4.98433422],\n",
       "       [2.49094507, 3.67495173, 4.98433422, 5.94386421],\n",
       "       [3.67495173, 4.98433422, 5.94386421, 6.43628322],\n",
       "       [4.98433422, 5.94386421, 6.43628322, 7.91873155],\n",
       "       [5.94386421, 6.43628322, 7.91873155, 8.42295917],\n",
       "       [6.43628322, 7.91873155, 8.42295917, 9.49055103]])"
      ]
     },
     "execution_count": 18,
     "metadata": {},
     "output_type": "execute_result"
    }
   ],
   "source": [
    "_Library_HOS.sliding_window_view(a,(4,),(1,))"
   ]
  },
  {
   "cell_type": "code",
   "execution_count": 21,
   "metadata": {},
   "outputs": [
    {
     "data": {
      "text/plain": [
       "array([[0.49355703, 1.36516461, 2.49094507, 3.67495173],\n",
       "       [1.36516461, 2.49094507, 3.67495173, 4.98433422],\n",
       "       [2.49094507, 3.67495173, 4.98433422, 5.94386421],\n",
       "       [3.67495173, 4.98433422, 5.94386421, 6.43628322],\n",
       "       [4.98433422, 5.94386421, 6.43628322, 7.91873155],\n",
       "       [5.94386421, 6.43628322, 7.91873155, 8.42295917],\n",
       "       [6.43628322, 7.91873155, 8.42295917, 9.49055103]])"
      ]
     },
     "execution_count": 21,
     "metadata": {},
     "output_type": "execute_result"
    }
   ],
   "source": [
    "reshape2[0]"
   ]
  },
  {
   "cell_type": "code",
   "execution_count": 22,
   "metadata": {},
   "outputs": [
    {
     "data": {
      "text/plain": [
       "array([-13.38032883, -13.3291254 , -13.47604115, -13.08671291,\n",
       "       -12.78527542, -14.05955919, -12.83869574])"
      ]
     },
     "execution_count": 22,
     "metadata": {},
     "output_type": "execute_result"
    }
   ],
   "source": [
    "_Library_HOS.S_6(reshape2[0])"
   ]
  },
  {
   "cell_type": "code",
   "execution_count": 30,
   "metadata": {},
   "outputs": [
    {
     "data": {
      "text/plain": [
       "array([-13.39442875, -13.0488393 , -13.5539501 , -13.25174429,\n",
       "       -13.00344149, -13.60509282, -13.24959532])"
      ]
     },
     "execution_count": 30,
     "metadata": {},
     "output_type": "execute_result"
    }
   ],
   "source": [
    "axis = -1\n",
    "data = reshape2[1]\n",
    "np.sum((data-np.mean(data,axis=axis)[:,None])**6,axis=axis)/(data.shape[1]-1)/np.std(data,ddof=1,axis=axis)**6-15\n"
   ]
  },
  {
   "cell_type": "code",
   "execution_count": 29,
   "metadata": {},
   "outputs": [
    {
     "data": {
      "text/plain": [
       "array([[-13.38032883, -13.3291254 , -13.47604115, -13.08671291,\n",
       "        -12.78527542, -14.05955919, -12.83869574],\n",
       "       [-13.39442875, -13.0488393 , -13.5539501 , -13.25174429,\n",
       "        -13.00344149, -13.60509282, -13.24959532]])"
      ]
     },
     "execution_count": 29,
     "metadata": {},
     "output_type": "execute_result"
    }
   ],
   "source": [
    "data_all = reshape2\n",
    "np.sum((data_all-np.expand_dims(np.mean(data_all,axis=axis),axis=-1))**6,axis=axis)/(data_all.shape[-1]-1)/np.std(data_all,ddof=1,axis=axis)**6-15\n"
   ]
  },
  {
   "cell_type": "markdown",
   "metadata": {},
   "source": [
    "#### Change get_onset"
   ]
  },
  {
   "cell_type": "code",
   "execution_count": 6,
   "metadata": {},
   "outputs": [
    {
     "data": {
      "text/plain": [
       "array([[ 0.16303612,  1.36046704,  2.88455666,  3.83591886,  4.66400541,\n",
       "         5.20073332,  6.87373291,  7.88550902,  8.31459994,  9.8093213 ],\n",
       "       [10.67073564, 11.43098573, 12.55908744, 13.16089003, 14.56900389,\n",
       "        15.05712535, 16.27789214, 17.6983035 , 18.004521  , 19.87951027]])"
      ]
     },
     "execution_count": 6,
     "metadata": {},
     "output_type": "execute_result"
    }
   ],
   "source": [
    "import _Library_HOS_2\n",
    "import numpy as np\n",
    "\n",
    "a = np.array([i for i in range(10)]) + np.random.random((10))\n",
    "b = np.array([i+10 for i in range(10)]) + np.random.random((10))\n",
    "c = np.array([i+20 for i in range(10)]) + np.random.random((10))\n",
    "due_traces = np.array([a,b])\n",
    "tre_traces = np.array([a,b,c])+np.random.random((3,10))\n",
    "due_traces"
   ]
  },
  {
   "cell_type": "code",
   "execution_count": 38,
   "metadata": {},
   "outputs": [
    {
     "data": {
      "text/plain": [
       "array([[-1.13754664, -1.02800477, -1.90909864, -1.08714411, -1.51938684,\n",
       "        -1.0678771 , -1.60243233],\n",
       "       [        nan,         nan,         nan,         nan,         nan,\n",
       "                nan,         nan]])"
      ]
     },
     "execution_count": 38,
     "metadata": {},
     "output_type": "execute_result"
    }
   ],
   "source": [
    "waveform = due_traces\n",
    "\n",
    "hos = _Library_HOS_2.get_hos(detr, 4, _Library_HOS_2.S_4 )\n",
    "hos\n",
    "\n",
    "\n"
   ]
  },
  {
   "cell_type": "code",
   "execution_count": 35,
   "metadata": {},
   "outputs": [
    {
     "data": {
      "text/plain": [
       "array([[-1.78781512, -1.41288384, -0.99278704, -0.87325471, -0.80538792,\n",
       "        -1.99594026, -0.84042707],\n",
       "       [-1.13754664, -1.02800477, -1.90909864, -1.08714411, -1.51938684,\n",
       "        -1.0678771 , -1.60243233]])"
      ]
     },
     "execution_count": 35,
     "metadata": {},
     "output_type": "execute_result"
    }
   ],
   "source": [
    "\n",
    "# get a sliding window view of given np array\n",
    "slid_view =  _Library_HOS_2.sliding_window_view(detr, (4,), (1,))\n",
    "\n",
    "# apply the function of slid_view along axis 1\n",
    "_Library_HOS_2.S_4(slid_view,axis=-1)"
   ]
  },
  {
   "cell_type": "code",
   "execution_count": 32,
   "metadata": {},
   "outputs": [
    {
     "data": {
      "text/plain": [
       "array([[-0.2956857 , -0.1294695 ,  0.36340541,  0.28355288,  0.08042471,\n",
       "        -0.4140621 ,  0.22772277,  0.20828417, -0.39383964,  0.069667  ],\n",
       "       [ 0.22435541, -0.01193344,  0.11962932, -0.27510704,  0.13646786,\n",
       "        -0.37194963, -0.14772178,  0.27615063, -0.41417082,  0.4642795 ]])"
      ]
     },
     "execution_count": 32,
     "metadata": {},
     "output_type": "execute_result"
    }
   ],
   "source": [
    "scipy.signal.detrend(due_traces)"
   ]
  },
  {
   "cell_type": "code",
   "execution_count": 37,
   "metadata": {},
   "outputs": [],
   "source": [
    "detr = np.array([[ 0.22435541, -0.01193344,  0.11962932, -0.27510704,  0.13646786,\n",
    "        -0.37194963, -0.14772178,  0.27615063, -0.41417082,  0.4642795 ],\n",
    "       [ 0.22435541, -0.01193344,  0.11962932, -0.27510704,  0.13646786,\n",
    "        -0.37194963, -0.14772178,  0.27615063, -0.41417082,  0.4642795 ]])"
   ]
  },
  {
   "cell_type": "code",
   "execution_count": 39,
   "metadata": {},
   "outputs": [
    {
     "data": {
      "text/plain": [
       "(2, 10)"
      ]
     },
     "execution_count": 39,
     "metadata": {},
     "output_type": "execute_result"
    }
   ],
   "source": [
    "detr.shape"
   ]
  },
  {
   "cell_type": "code",
   "execution_count": 40,
   "metadata": {},
   "outputs": [
    {
     "data": {
      "text/plain": [
       "(2, 10)"
      ]
     },
     "execution_count": 40,
     "metadata": {},
     "output_type": "execute_result"
    }
   ],
   "source": [
    "due_traces.shape"
   ]
  }
 ],
 "metadata": {
  "kernelspec": {
   "display_name": "venv",
   "language": "python",
   "name": "python3"
  },
  "language_info": {
   "codemirror_mode": {
    "name": "ipython",
    "version": 3
   },
   "file_extension": ".py",
   "mimetype": "text/x-python",
   "name": "python",
   "nbconvert_exporter": "python",
   "pygments_lexer": "ipython3",
   "version": "3.8.10"
  }
 },
 "nbformat": 4,
 "nbformat_minor": 2
}
