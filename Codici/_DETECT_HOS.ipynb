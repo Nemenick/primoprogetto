{
 "cells": [
  {
   "cell_type": "markdown",
   "metadata": {},
   "source": [
    "# HOS "
   ]
  },
  {
   "cell_type": "code",
   "execution_count": 1,
   "metadata": {},
   "outputs": [],
   "source": [
    "import _Library_HOS\n",
    "from Classe_sismogramma_v3 import ClasseDataset\n",
    "import pandas as pd\n",
    "\n",
    "# ATTENTO prima di usate get_onset, 1) Fallo su quelle a 200 HZ\n",
    "                                #   2) PRIMA devi fare filtro passa alto (sui 3-5 Hz)\n",
    "# parametri di metodo HOS DA OTTIMIZZARE \"SUL POLLINO\" (però siamo a 100 HZ!!!! poi fai anche test su quelle già picked di DETECT?)\n",
    "# Scrivi il codice che usi in un unico file e condividi!\n",
    "\n",
    "hd = \"/home/silvia/Desktop/Data/Pollino_All/Pollino_All_data_extended.hdf5\"\n",
    "cs = \"/home/silvia/Desktop/Data/Pollino_All/Pollino_All_metadata_extended.csv\"\n",
    "\n",
    "D = ClasseDataset()\n",
    "D.leggi_custom_dataset(hd,cs)\n",
    "D.demean()\n",
    "\n",
    "# sig = _Library_HOS.freq_filter(D.sismogramma[7], 200, 5, type_filter= \"highpass\")\n",
    "# onset_1, diff, onset_2 = _Library_HOS.get_onset(sig, 40, threshold=0.1, statistics= _Library_HOS.S_6)\n",
    "# print(onset_1, onset_2)\n"
   ]
  },
  {
   "cell_type": "code",
   "execution_count": 91,
   "metadata": {},
   "outputs": [],
   "source": [
    "import _Library_HOS\n",
    "import numpy as np\n",
    "import matplotlib.pyplot as plt\n",
    "\n",
    "sampling_rate = 100\n",
    "typ_filter = \"highpass\"\n",
    "\n",
    "freq_filter = 1\n",
    "window_width = 100\n",
    "tresh = 0.25\n",
    "\n",
    "stat = _Library_HOS.S_6\n",
    "\n",
    "\n",
    "for freq_filter in [1,2,3,5,10]:\n",
    "    for window_width in [40,50,80,100,150,200]:\n",
    "        for tresh in [0.1,0.2,0.25,0.3,0.4]:\n",
    "            ons_th = []\n",
    "            ons_max = []\n",
    "            for i in range(len(D.sismogramma)):\n",
    "                sig = _Library_HOS.freq_filter(D.sismogramma[i], D.metadata[\"sampling_rate\"][i], freq_filter, type_filter= typ_filter)\n",
    "                onset_th, diff, onset_max,u  = _Library_HOS.get_onset_2(sig, window_width, threshold=tresh, statistics= stat)\n",
    "                ons_th.append(onset_th)\n",
    "                ons_max.append(onset_max)\n",
    "                #onset_1, diff, onset_2  = _Library_HOS.get_onset(sig, window_width, threshold=tresh, statistics= stat)\n",
    "                # print(onset_1, onset_2)\n",
    "            ons_th = np.array(ons_th)\n",
    "            ons_max = np.array(ons_max)"
   ]
  },
  {
   "cell_type": "code",
   "execution_count": 113,
   "metadata": {},
   "outputs": [
    {
     "data": {
      "text/plain": [
       "(array([  70.,  887., 4413.,  169.,  781.]),\n",
       " array([-10000,    -50,     -5,      5,     50,   4000]),\n",
       " <BarContainer object of 5 artists>)"
      ]
     },
     "execution_count": 113,
     "metadata": {},
     "output_type": "execute_result"
    },
    {
     "data": {
      "image/png": "[encoded data removed]",
      "text/plain": [
       "<Figure size 640x480 with 1 Axes>"
      ]
     },
     "metadata": {},
     "output_type": "display_data"
    }
   ],
   "source": [
    "plt.hist(D.metadata[\"trace_P_arrival_sample\"].values-ons_th,bins=[-10000,-50,-5,5,50,4000],edgecolor=\"black\")"
   ]
  },
  {
   "cell_type": "markdown",
   "metadata": {},
   "source": [
    "#  PAUSE Change _Library_HOS to work on waveforms all at once!"
   ]
  },
  {
   "cell_type": "markdown",
   "metadata": {},
   "source": [
    "#### Change sliding_window_view and statistics"
   ]
  },
  {
   "cell_type": "code",
   "execution_count": 1,
   "metadata": {},
   "outputs": [
    {
     "data": {
      "text/plain": [
       "array([[ 1.56888843,  2.15675023,  3.69384081,  3.45159547,  4.71701537,\n",
       "         6.12631746,  6.87529431,  8.53495899,  8.26449068,  9.61450057],\n",
       "       [11.13526133, 12.11871685, 12.88371162, 14.21732432, 15.38675881,\n",
       "        16.05977647, 17.02406025, 17.75154621, 18.85652372, 20.14775706],\n",
       "       [21.24423927, 22.07370784, 23.38646214, 23.34781496, 24.99330981,\n",
       "        25.12437929, 26.86682034, 28.06015659, 28.80979213, 29.22606121]])"
      ]
     },
     "execution_count": 1,
     "metadata": {},
     "output_type": "execute_result"
    }
   ],
   "source": [
    "import _Library_HOS_2\n",
    "import numpy as np\n",
    "\n",
    "a = np.array([i for i in range(10)]) + np.random.random((10))\n",
    "b = np.array([i+10 for i in range(10)]) + np.random.random((10))\n",
    "c = np.array([i+20 for i in range(10)]) + np.random.random((10))\n",
    "due_traces = np.array([a,b])\n",
    "tre_traces = np.array([a,b,c])+np.random.random((3,10))\n",
    "tre_traces"
   ]
  },
  {
   "cell_type": "code",
   "execution_count": null,
   "metadata": {},
   "outputs": [],
   "source": [
    "# FIXME NEW SHAPE\n",
    "windowed = _Library_HOS.sliding_window_view(tre_traces,(4,),(1,))\n",
    "reshape1 = windowed.reshape((windowed.shape[0]*windowed.shape[1],windowed.shape[2]),order=\"F\")\n",
    "reshape2 = reshape1.reshape((windowed.shape[1],windowed.shape[0],windowed.shape[2]))\n",
    "reshape2.shape\n",
    "#   (num_traces,  num_windows,    len_window)\n",
    "#   (     3,          7,              4)\n",
    "# Dopo aver fatto statistica, mi serve avere uno shape di:\n",
    "#   (num_traces,   num_windows)\n",
    "_Library_HOS.S_4(reshape2,axis=-1)  # Funziona (per S_6 vedi dopo)"
   ]
  },
  {
   "cell_type": "code",
   "execution_count": null,
   "metadata": {},
   "outputs": [],
   "source": [
    "# FIXME NEW S_6 statistic\n",
    "\n",
    "data_all = reshape2\n",
    "np.sum((data_all-np.expand_dims(np.mean(data_all,axis=axis),axis=-1))**6,axis=axis)/(data_all.shape[-1]-1)/np.std(data_all,ddof=1,axis=axis)**6-15\n"
   ]
  },
  {
   "cell_type": "code",
   "execution_count": 14,
   "metadata": {},
   "outputs": [
    {
     "data": {
      "text/plain": [
       "array([[[ 0.49355703,  1.36516461,  2.49094507,  3.67495173],\n",
       "        [10.4754864 , 11.51315078, 12.51562724, 13.23951818]],\n",
       "\n",
       "       [[ 1.36516461,  2.49094507,  3.67495173,  4.98433422],\n",
       "        [11.51315078, 12.51562724, 13.23951818, 14.54834631]],\n",
       "\n",
       "       [[ 2.49094507,  3.67495173,  4.98433422,  5.94386421],\n",
       "        [12.51562724, 13.23951818, 14.54834631, 15.64712488]],\n",
       "\n",
       "       [[ 3.67495173,  4.98433422,  5.94386421,  6.43628322],\n",
       "        [13.23951818, 14.54834631, 15.64712488, 16.25220119]],\n",
       "\n",
       "       [[ 4.98433422,  5.94386421,  6.43628322,  7.91873155],\n",
       "        [14.54834631, 15.64712488, 16.25220119, 17.48729665]],\n",
       "\n",
       "       [[ 5.94386421,  6.43628322,  7.91873155,  8.42295917],\n",
       "        [15.64712488, 16.25220119, 17.48729665, 18.46169721]],\n",
       "\n",
       "       [[ 6.43628322,  7.91873155,  8.42295917,  9.49055103],\n",
       "        [16.25220119, 17.48729665, 18.46169721, 19.45918373]]])"
      ]
     },
     "execution_count": 14,
     "metadata": {},
     "output_type": "execute_result"
    }
   ],
   "source": [
    "windowed = _Library_HOS.sliding_window_view(due_traces,(4,),(1,))\n",
    "windowed"
   ]
  },
  {
   "cell_type": "code",
   "execution_count": 16,
   "metadata": {},
   "outputs": [
    {
     "data": {
      "text/plain": [
       "array([[[ 0.49355703,  1.36516461,  2.49094507,  3.67495173],\n",
       "        [ 1.36516461,  2.49094507,  3.67495173,  4.98433422],\n",
       "        [ 2.49094507,  3.67495173,  4.98433422,  5.94386421],\n",
       "        [ 3.67495173,  4.98433422,  5.94386421,  6.43628322],\n",
       "        [ 4.98433422,  5.94386421,  6.43628322,  7.91873155],\n",
       "        [ 5.94386421,  6.43628322,  7.91873155,  8.42295917],\n",
       "        [ 6.43628322,  7.91873155,  8.42295917,  9.49055103]],\n",
       "\n",
       "       [[10.4754864 , 11.51315078, 12.51562724, 13.23951818],\n",
       "        [11.51315078, 12.51562724, 13.23951818, 14.54834631],\n",
       "        [12.51562724, 13.23951818, 14.54834631, 15.64712488],\n",
       "        [13.23951818, 14.54834631, 15.64712488, 16.25220119],\n",
       "        [14.54834631, 15.64712488, 16.25220119, 17.48729665],\n",
       "        [15.64712488, 16.25220119, 17.48729665, 18.46169721],\n",
       "        [16.25220119, 17.48729665, 18.46169721, 19.45918373]]])"
      ]
     },
     "execution_count": 16,
     "metadata": {},
     "output_type": "execute_result"
    }
   ],
   "source": [
    "reshape1 = windowed.reshape((windowed.shape[0]*windowed.shape[1],windowed.shape[2]),order=\"F\")\n",
    "reshape2 = reshape1.reshape((windowed.shape[1],windowed.shape[0],windowed.shape[2]))\n",
    "reshape2"
   ]
  },
  {
   "cell_type": "code",
   "execution_count": 18,
   "metadata": {},
   "outputs": [
    {
     "data": {
      "text/plain": [
       "array([[0.49355703, 1.36516461, 2.49094507, 3.67495173],\n",
       "       [1.36516461, 2.49094507, 3.67495173, 4.98433422],\n",
       "       [2.49094507, 3.67495173, 4.98433422, 5.94386421],\n",
       "       [3.67495173, 4.98433422, 5.94386421, 6.43628322],\n",
       "       [4.98433422, 5.94386421, 6.43628322, 7.91873155],\n",
       "       [5.94386421, 6.43628322, 7.91873155, 8.42295917],\n",
       "       [6.43628322, 7.91873155, 8.42295917, 9.49055103]])"
      ]
     },
     "execution_count": 18,
     "metadata": {},
     "output_type": "execute_result"
    }
   ],
   "source": [
    "_Library_HOS.sliding_window_view(a,(4,),(1,))"
   ]
  },
  {
   "cell_type": "code",
   "execution_count": 21,
   "metadata": {},
   "outputs": [
    {
     "data": {
      "text/plain": [
       "array([[0.49355703, 1.36516461, 2.49094507, 3.67495173],\n",
       "       [1.36516461, 2.49094507, 3.67495173, 4.98433422],\n",
       "       [2.49094507, 3.67495173, 4.98433422, 5.94386421],\n",
       "       [3.67495173, 4.98433422, 5.94386421, 6.43628322],\n",
       "       [4.98433422, 5.94386421, 6.43628322, 7.91873155],\n",
       "       [5.94386421, 6.43628322, 7.91873155, 8.42295917],\n",
       "       [6.43628322, 7.91873155, 8.42295917, 9.49055103]])"
      ]
     },
     "execution_count": 21,
     "metadata": {},
     "output_type": "execute_result"
    }
   ],
   "source": [
    "reshape2[0]"
   ]
  },
  {
   "cell_type": "code",
   "execution_count": 22,
   "metadata": {},
   "outputs": [
    {
     "data": {
      "text/plain": [
       "array([-13.38032883, -13.3291254 , -13.47604115, -13.08671291,\n",
       "       -12.78527542, -14.05955919, -12.83869574])"
      ]
     },
     "execution_count": 22,
     "metadata": {},
     "output_type": "execute_result"
    }
   ],
   "source": [
    "_Library_HOS.S_6(reshape2[0])"
   ]
  },
  {
   "cell_type": "code",
   "execution_count": 30,
   "metadata": {},
   "outputs": [
    {
     "data": {
      "text/plain": [
       "array([-13.39442875, -13.0488393 , -13.5539501 , -13.25174429,\n",
       "       -13.00344149, -13.60509282, -13.24959532])"
      ]
     },
     "execution_count": 30,
     "metadata": {},
     "output_type": "execute_result"
    }
   ],
   "source": [
    "axis = -1\n",
    "data = reshape2[1]\n",
    "np.sum((data-np.mean(data,axis=axis)[:,None])**6,axis=axis)/(data.shape[1]-1)/np.std(data,ddof=1,axis=axis)**6-15\n"
   ]
  },
  {
   "cell_type": "code",
   "execution_count": 29,
   "metadata": {},
   "outputs": [
    {
     "data": {
      "text/plain": [
       "array([[-13.38032883, -13.3291254 , -13.47604115, -13.08671291,\n",
       "        -12.78527542, -14.05955919, -12.83869574],\n",
       "       [-13.39442875, -13.0488393 , -13.5539501 , -13.25174429,\n",
       "        -13.00344149, -13.60509282, -13.24959532]])"
      ]
     },
     "execution_count": 29,
     "metadata": {},
     "output_type": "execute_result"
    }
   ],
   "source": [
    "data_all = reshape2\n",
    "np.sum((data_all-np.expand_dims(np.mean(data_all,axis=axis),axis=-1))**6,axis=axis)/(data_all.shape[-1]-1)/np.std(data_all,ddof=1,axis=axis)**6-15\n"
   ]
  },
  {
   "cell_type": "markdown",
   "metadata": {},
   "source": [
    "#### Change get_onset"
   ]
  },
  {
   "cell_type": "code",
   "execution_count": 6,
   "metadata": {},
   "outputs": [
    {
     "data": {
      "text/plain": [
       "array([[ 0.16303612,  1.36046704,  2.88455666,  3.83591886,  4.66400541,\n",
       "         5.20073332,  6.87373291,  7.88550902,  8.31459994,  9.8093213 ],\n",
       "       [10.67073564, 11.43098573, 12.55908744, 13.16089003, 14.56900389,\n",
       "        15.05712535, 16.27789214, 17.6983035 , 18.004521  , 19.87951027]])"
      ]
     },
     "execution_count": 6,
     "metadata": {},
     "output_type": "execute_result"
    }
   ],
   "source": [
    "import _Library_HOS_2\n",
    "import numpy as np\n",
    "\n",
    "a = np.array([i for i in range(10)]) + np.random.random((10))\n",
    "b = np.array([i+10 for i in range(10)]) + np.random.random((10))\n",
    "c = np.array([i+20 for i in range(10)]) + np.random.random((10))\n",
    "due_traces = np.array([a,b])\n",
    "tre_traces = np.array([a,b,c])+np.random.random((3,10))\n",
    "due_traces"
   ]
  },
  {
   "cell_type": "code",
   "execution_count": 38,
   "metadata": {},
   "outputs": [
    {
     "data": {
      "text/plain": [
       "array([[-1.13754664, -1.02800477, -1.90909864, -1.08714411, -1.51938684,\n",
       "        -1.0678771 , -1.60243233],\n",
       "       [        nan,         nan,         nan,         nan,         nan,\n",
       "                nan,         nan]])"
      ]
     },
     "execution_count": 38,
     "metadata": {},
     "output_type": "execute_result"
    }
   ],
   "source": [
    "waveform = due_traces\n",
    "\n",
    "hos = _Library_HOS_2.get_hos(detr, 4, _Library_HOS_2.S_4 )\n",
    "hos\n",
    "\n",
    "\n"
   ]
  },
  {
   "cell_type": "code",
   "execution_count": 35,
   "metadata": {},
   "outputs": [
    {
     "data": {
      "text/plain": [
       "array([[-1.78781512, -1.41288384, -0.99278704, -0.87325471, -0.80538792,\n",
       "        -1.99594026, -0.84042707],\n",
       "       [-1.13754664, -1.02800477, -1.90909864, -1.08714411, -1.51938684,\n",
       "        -1.0678771 , -1.60243233]])"
      ]
     },
     "execution_count": 35,
     "metadata": {},
     "output_type": "execute_result"
    }
   ],
   "source": [
    "\n",
    "# get a sliding window view of given np array\n",
    "slid_view =  _Library_HOS_2.sliding_window_view(detr, (4,), (1,))\n",
    "\n",
    "# apply the function of slid_view along axis 1\n",
    "_Library_HOS_2.S_4(slid_view,axis=-1)"
   ]
  },
  {
   "cell_type": "code",
   "execution_count": 32,
   "metadata": {},
   "outputs": [
    {
     "data": {
      "text/plain": [
       "array([[-0.2956857 , -0.1294695 ,  0.36340541,  0.28355288,  0.08042471,\n",
       "        -0.4140621 ,  0.22772277,  0.20828417, -0.39383964,  0.069667  ],\n",
       "       [ 0.22435541, -0.01193344,  0.11962932, -0.27510704,  0.13646786,\n",
       "        -0.37194963, -0.14772178,  0.27615063, -0.41417082,  0.4642795 ]])"
      ]
     },
     "execution_count": 32,
     "metadata": {},
     "output_type": "execute_result"
    }
   ],
   "source": [
    "scipy.signal.detrend(due_traces)"
   ]
  },
  {
   "cell_type": "code",
   "execution_count": 37,
   "metadata": {},
   "outputs": [],
   "source": [
    "detr = np.array([[ 0.22435541, -0.01193344,  0.11962932, -0.27510704,  0.13646786,\n",
    "        -0.37194963, -0.14772178,  0.27615063, -0.41417082,  0.4642795 ],\n",
    "       [ 0.22435541, -0.01193344,  0.11962932, -0.27510704,  0.13646786,\n",
    "        -0.37194963, -0.14772178,  0.27615063, -0.41417082,  0.4642795 ]])"
   ]
  },
  {
   "cell_type": "code",
   "execution_count": 39,
   "metadata": {},
   "outputs": [
    {
     "data": {
      "text/plain": [
       "(2, 10)"
      ]
     },
     "execution_count": 39,
     "metadata": {},
     "output_type": "execute_result"
    }
   ],
   "source": [
    "detr.shape"
   ]
  },
  {
   "cell_type": "code",
   "execution_count": 40,
   "metadata": {},
   "outputs": [
    {
     "data": {
      "text/plain": [
       "(2, 10)"
      ]
     },
     "execution_count": 40,
     "metadata": {},
     "output_type": "execute_result"
    }
   ],
   "source": [
    "due_traces.shape"
   ]
  }
 ],
 "metadata": {
  "kernelspec": {
   "display_name": "venv",
   "language": "python",
   "name": "python3"
  },
  "language_info": {
   "codemirror_mode": {
    "name": "ipython",
    "version": 3
   },
   "file_extension": ".py",
   "mimetype": "text/x-python",
   "name": "python",
   "nbconvert_exporter": "python",
   "pygments_lexer": "ipython3",
   "version": "3.8.10"
  }
 },
 "nbformat": 4,
 "nbformat_minor": 2
}
