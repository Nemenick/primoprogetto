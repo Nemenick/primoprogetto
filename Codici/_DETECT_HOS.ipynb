{
 "cells": [
  {
   "cell_type": "markdown",
   "metadata": {},
   "source": [
    "# HOS "
   ]
  },
  {
   "cell_type": "code",
   "execution_count": null,
   "metadata": {},
   "outputs": [],
   "source": [
    "import _Library_HOS\n",
    "from Classe_sismogramma_v3 import ClasseDataset\n",
    "import pandas as pd\n",
    "\n",
    "# ATTENTO prima di usate get_onset, 1) Fallo su quelle a 200 HZ\n",
    "                                #   2) PRIMA devi fare filtro passa alto (sui 3-5 Hz)\n",
    "# parametri di metodo HOS DA OTTIMIZZARE \"SUL POLLINO\" (però siamo a 100 HZ!!!! poi fai anche test su quelle già picked di DETECT?)\n",
    "# Scrivi il codice che usi in un unico file e condividi!\n",
    "\n",
    "hd = \"/home/silvia/Desktop/Data/Pollino_All/Pollino_All_data_extended.hdf5\"\n",
    "cs = \"/home/silvia/Desktop/Data/Pollino_All/Pollino_All_metadata_extended.csv\"\n",
    "\n",
    "D = ClasseDataset()\n",
    "D.leggi_custom_dataset(hd,cs)\n",
    "D.demean()\n",
    "\n",
    "# sig = _Library_HOS.freq_filter(D.sismogramma[7], 200, 5, type_filter= \"highpass\")\n",
    "# onset_1, diff, onset_2 = _Library_HOS.get_onset(sig, 40, threshold=0.1, statistics= _Library_HOS.S_6)\n",
    "# print(onset_1, onset_2)\n"
   ]
  },
  {
   "cell_type": "code",
   "execution_count": null,
   "metadata": {},
   "outputs": [],
   "source": [
    "import _Library_HOS\n",
    "sig = _Library_HOS.freq_filter(D.sismogramma[7], 200, 5, type_filter= \"highpass\")\n",
    "onset_1, diff, onset_2 = _Library_HOS.get_onset(sig, 40, threshold=0.1, statistics= _Library_HOS.S_6)\n",
    "print(onset_1, onset_2)"
   ]
  },
  {
   "cell_type": "markdown",
   "metadata": {},
   "source": [
    "# TEST"
   ]
  },
  {
   "cell_type": "markdown",
   "metadata": {},
   "source": [
    "Mi sa che devo cambiare il programma... da get_hos per fargli fare le cose in parallelo. per ora fa una traccia alla volta.."
   ]
  }
 ],
 "metadata": {
  "kernelspec": {
   "display_name": "venv",
   "language": "python",
   "name": "python3"
  },
  "language_info": {
   "codemirror_mode": {
    "name": "ipython",
    "version": 3
   },
   "file_extension": ".py",
   "mimetype": "text/x-python",
   "name": "python",
   "nbconvert_exporter": "python",
   "pygments_lexer": "ipython3",
   "version": "3.8.10"
  }
 },
 "nbformat": 4,
 "nbformat_minor": 2
}
