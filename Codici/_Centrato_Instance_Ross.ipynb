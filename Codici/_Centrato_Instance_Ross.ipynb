{
 "cells": [
  {
   "attachments": {},
   "cell_type": "markdown",
   "metadata": {},
   "source": [
    "## ORA INIZIO TEST SU CENTRAMENTO DI INSTANCE\n",
    "se not centrato, metto il dichiarato arrival sample in posizione semiampiezz-esimo (cioè in v[semiampiezza-1])<br>(poi le tracce generate hanno un numero pari di punti)\n",
    "\n",
    "se centrato, metto quello che era in posizione len(V)//2-esima in semiampiezza_new-esima (v[semiampiezza-1])<br>(es parto da v_o di 600 samples dove v_o[299] è arrivo e lo metto in v_n di 400 samples dove v_n[199] è v_o[299])\n",
    "\n",
    "in conclusione, quando taglio instance (es a 600), metto il t_p_arrival_sample in v1[299], poi se taglio ancora a 400 lo metto in v2[199]\n",
    "\n",
    "quindi, se Ross è di 600 originalmente, avendo impostato come self.centrato=True, e lo taglio in finestre da 400, metto il 300° (Ross[299]) in posizione 200° (Ross1[199])<br>per essere coerente con Instance dovrei avere che Z.E.Ross mi risponda che arrival sample sia il 300° e non 301°"
   ]
  },
  {
   "cell_type": "code",
   "execution_count": null,
   "metadata": {},
   "outputs": [
    {
     "name": "stdout",
     "output_type": "stream",
     "text": [
      "[-30, -29, -28, -27, -26, -25, -24, -23, -22, -21, -20, -19, -18, -17, -16, -15, -14, -13, -12, -11, -10, -9, -8, -7, -6, -5, -4, -3, -2, -1, 0, 1, 2, 3, 4, 5, 6, 7, 8, 9, 10, 11, 12, 13, 14, 15, 16, 17, 18, 19]\n",
      "[0, 0, 0, 0, 0, 0, 0, 0, 0, 0, 0, 0, 0, 0, 0, 0, 0, 0, 0, 0, 0, 0, 0, 0, 0, 0, 0, 0, 0, 0, 1, 1, 1, 1, 1, 1, 1, 1, 1, 1, 1, 1, 1, 1, 1, 1, 1, 1, 1, 1]\n"
     ]
    }
   ],
   "source": [
    "a = [-(30-i) for i in range(30)] + [i for i in range(20)]\n",
    "print(a)\n",
    "t_a_sample = 31 # 31-esimo è arrival sample, imito metadata Instance"
   ]
  },
  {
   "cell_type": "code",
   "execution_count": null,
   "metadata": {},
   "outputs": [],
   "source": [
    "# taglio come se partissi da t_p_a_sample e not self.centrato \n",
    "semi = 10\n",
    "b = a[t_a_sample - semi: t_a_sample + semi]"
   ]
  },
  {
   "cell_type": "code",
   "execution_count": null,
   "metadata": {},
   "outputs": [
    {
     "name": "stdout",
     "output_type": "stream",
     "text": [
      "20\n",
      "[-9, -8, -7, -6, -5, -4, -3, -2, -1, 0, 1, 2, 3, 4, 5, 6, 7, 8, 9, 10]\n",
      "1\n"
     ]
    }
   ],
   "source": [
    "print(len(b))\n",
    "print(b) # ora ne ho    # semi -1 di rumore, \n",
    "                        # 1 di arrivo, \n",
    "                        # semi di segnale\n",
    "print(b[semi])"
   ]
  },
  {
   "cell_type": "code",
   "execution_count": null,
   "metadata": {},
   "outputs": [
    {
     "name": "stdout",
     "output_type": "stream",
     "text": [
      "8\n"
     ]
    }
   ],
   "source": [
    "# taglio da come se partissi da centrato (arrival in c[len(c)//2-1], cioè c[semiamp_c-1])\n",
    "centro = len(b)//2\n",
    "print(centro)\n",
    "semi_2 = 5\n",
    "c = b[centro - semi_2: centro + semi_2] "
   ]
  },
  {
   "cell_type": "code",
   "execution_count": null,
   "metadata": {},
   "outputs": [
    {
     "name": "stdout",
     "output_type": "stream",
     "text": [
      "10\n",
      "[-4, -3, -2, -1, 0, 1, 2, 3, 4, 5]\n",
      "0\n"
     ]
    }
   ],
   "source": [
    "print(len(c))\n",
    "print(c) # ora ne ho    # semi_2 -1  di rumore, \n",
    "                        # 1 di arrivo,                   \n",
    "                        # semi_2 di segnale\n",
    "print(b[len(b)//2-1], )"
   ]
  },
  {
   "cell_type": "code",
   "execution_count": null,
   "metadata": {},
   "outputs": [],
   "source": [
    "b = [-7,-6,-5,-4,-3,-2,-1,0,1,2,3,4,5,6,7,8]\n"
   ]
  },
  {
   "cell_type": "code",
   "execution_count": 19,
   "metadata": {},
   "outputs": [
    {
     "name": "stdout",
     "output_type": "stream",
     "text": [
      "   Acc_test  Mean_test  Std_test\n",
      "0  0.915267   0.912286   0.00254\n",
      "1  0.911196        NaN       NaN\n",
      "2  0.914504        NaN       NaN\n",
      "3  0.909669        NaN       NaN\n",
      "4  0.914758        NaN       NaN 14_Tutte (NoSom)\n",
      "   Acc_test  Mean_test  Std_test\n",
      "0  0.892621   0.895565  0.002713\n",
      "1  0.897710        NaN       NaN\n",
      "2  0.898473        NaN       NaN\n",
      "3  0.890585        NaN       NaN\n",
      "4  0.896183        NaN       NaN 15_Buone (SOM)\n"
     ]
    }
   ],
   "source": [
    "import pandas as pd\n",
    "pat = \"/home/silvia/Documents/GitHub/primoprogetto/Codici/Tentativi/More_14/Predizioni_Hara_More_14.csv\"\n",
    "dfpd = pd.read_csv(pat)\n",
    "print(dfpd.head(), \"14_Tutte (NoSom)\")\n",
    "\n",
    "pat2 = \"/home/silvia/Documents/GitHub/primoprogetto/Codici/Tentativi/More_15/Predizioni_Hara_More_15.csv\"\n",
    "dfpd2 = pd.read_csv(pat2)\n",
    "print(dfpd2.head(), \"15_Buone (SOM)\")"
   ]
  },
  {
   "cell_type": "code",
   "execution_count": 1,
   "metadata": {},
   "outputs": [
    {
     "name": "stdout",
     "output_type": "stream",
     "text": [
      "pip 21.3.1 from /home/silvia/Documents/GitHub/primoprogetto/venv/lib/python3.8/site-packages/pip (python 3.8)\n",
      "Note: you may need to restart the kernel to use updated packages.\n"
     ]
    }
   ],
   "source": [
    "%pip -V"
   ]
  }
 ],
 "metadata": {
  "kernelspec": {
   "display_name": "venv",
   "language": "python",
   "name": "python3"
  },
  "language_info": {
   "codemirror_mode": {
    "name": "ipython",
    "version": 3
   },
   "file_extension": ".py",
   "mimetype": "text/x-python",
   "name": "python",
   "nbconvert_exporter": "python",
   "pygments_lexer": "ipython3",
   "version": "3.8.10"
  },
  "orig_nbformat": 4
 },
 "nbformat": 4,
 "nbformat_minor": 2
}
